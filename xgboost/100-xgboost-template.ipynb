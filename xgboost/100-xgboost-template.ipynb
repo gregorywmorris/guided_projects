{
 "cells": [
  {
   "cell_type": "code",
   "execution_count": null,
   "metadata": {},
   "outputs": [],
   "source": [
    "# Otto, parallel cross validation\n",
    "import pandas as pd\n",
    "from xgboost import XGBClassifier\n",
    "from sklearn.model_selection import StratifiedKFold\n",
    "from sklearn.model_selection import cross_val_score\n",
    "from sklearn.preprocessing import LabelEncoder\n",
    "import time\n",
    "\n",
    "# Load data\n",
    "dataset = pd.read_csv('course-data/otto-train.csv')\n",
    "\n",
    "# Split data into X and y\n",
    "X = dataset.iloc[:, 0:94]\n",
    "Y = dataset.iloc[:, 94]\n",
    "\n",
    "# encode string class values as integers\n",
    "label_encoded_y = LabelEncoder().fit_transform(Y)\n",
    "\n",
    "# prepare cross validation\n",
    "kfold = StratifiedKFold(n_splits=10, shuffle=True, random_state=7)\n",
    "\n",
    "# Parallel Thread XGBoost and CV\n",
    "start = time.time()\n",
    "model = XGBClassifier(nthread=-1)\n",
    "results = cross_val_score(model, X, label_encoded_y, cv=kfold, scoring='neg_log_loss',\n",
    "                            n_jobs=-1)\n",
    "\n",
    "print(\"Parallel Thread XGBoost and CV: %f\" % (elapsed))"
   ]
  },
  {
   "cell_type": "code",
   "execution_count": 11,
   "metadata": {},
   "outputs": [
    {
     "name": "stdout",
     "output_type": "stream",
     "text": [
      "Best score: 0.416144\n",
      "Best iteration: 13\n",
      "Accuracy: 74.02%\n"
     ]
    }
   ],
   "source": [
    "# Binary classifier XGBoost template\n",
    "import pandas as pd\n",
    "from xgboost import XGBClassifier\n",
    "from sklearn.model_selection import train_test_split\n",
    "from sklearn.metrics import accuracy_score\n",
    "from sklearn.model_selection import cross_val_score\n",
    "\n",
    "# Load data\n",
    "dataset = pd.read_csv('course-data/diabetes.csv')\n",
    "\n",
    "# Split data into X and y\n",
    "X = dataset.iloc[:, 0:8]\n",
    "Y = dataset.iloc[:, 8]\n",
    "\n",
    "# Split data into train and test sets\n",
    "X_train, X_test, y_train, y_test = train_test_split(X, Y, test_size=0.33, random_state=42)\n",
    "\n",
    "# Fit model on training data\n",
    "model = XGBClassifier(\n",
    "    booster='gbtree',\n",
    "    objective='binary:logistic',\n",
    "    learning_rate=0.1,\n",
    "    max_depth=6, #4-8\n",
    "    n_estimators=100, #100-500\n",
    "    random_state=42,\n",
    "    eval_metric=['logloss'],\n",
    "    early_stopping_rounds=10,\n",
    "    nthread=-1\n",
    ")\n",
    "\n",
    "# Specify validation set to monitor performance\n",
    "eval_set = [(X_train, y_train), (X_test, y_test)]\n",
    "model.fit(X_train, y_train, eval_set=eval_set, verbose=False)\n",
    "\n",
    "# Print the best score and the best iteration\n",
    "print(\"Best score: %f\" % model.best_score)\n",
    "print(\"Best iteration: %d\" % model.best_iteration)\n",
    "\n",
    "# Make predictions for test data\n",
    "predictions = model.predict(X_test)\n",
    "\n",
    "accuracy = accuracy_score(y_test, predictions)\n",
    "print(\"Accuracy: %.2f%%\" % (accuracy * 100.0))"
   ]
  },
  {
   "cell_type": "code",
   "execution_count": 17,
   "metadata": {},
   "outputs": [
    {
     "name": "stdout",
     "output_type": "stream",
     "text": [
      "Best score: 0.007491\n",
      "Best iteration: 124\n",
      "Accuracy: 99.74%\n"
     ]
    }
   ],
   "source": [
    "# Multi classification XGBoost template\n",
    "import pandas as pd\n",
    "from xgboost import XGBClassifier\n",
    "from sklearn.model_selection import StratifiedKFold, train_test_split\n",
    "from sklearn.metrics import accuracy_score\n",
    "from sklearn.preprocessing import LabelEncoder\n",
    "\n",
    "# Load data\n",
    "dataset = pd.read_csv('course-data/otto-train.csv')\n",
    "\n",
    "# Split data into X and y\n",
    "X = dataset.iloc[:, 0:94]\n",
    "Y = dataset.iloc[:, 94]\n",
    "\n",
    "# Encode string class values as integers\n",
    "label_encoded_y = LabelEncoder().fit_transform(Y)\n",
    "\n",
    "# Prepare cross-validation\n",
    "kfold = StratifiedKFold(n_splits=10, shuffle=True, random_state=7)\n",
    "\n",
    "# Split data into train and test sets\n",
    "X_train, X_test, y_train, y_test = train_test_split(X, label_encoded_y, test_size=0.33, random_state=42)\n",
    "\n",
    "# Fit model on training data\n",
    "model = XGBClassifier(\n",
    "    booster='gbtree',\n",
    "    objective='multi:softmax',\n",
    "    learning_rate=0.1,\n",
    "    max_depth=8, # 4-8\n",
    "    n_estimators=500, #100-500\n",
    "    random_state=42,\n",
    "    eval_metric=['mlogloss'],  # Multiclass log loss\n",
    "    early_stopping_rounds=10,\n",
    "    nthread=-1\n",
    ")\n",
    "\n",
    "# Specify validation set to monitor performance\n",
    "eval_set = [(X_train, y_train), (X_test, y_test)]\n",
    "model.fit(X_train, y_train, eval_set=eval_set, verbose=False)\n",
    "\n",
    "# Print the best score and the best iteration\n",
    "print(\"Best score: %f\" % model.best_score)\n",
    "print(\"Best iteration: %d\" % model.best_iteration)\n",
    "\n",
    "# Make predictions for test data\n",
    "predictions = model.predict(X_test)\n",
    "\n",
    "# Evaluate predictions\n",
    "accuracy = accuracy_score(y_test, predictions)\n",
    "print(\"Accuracy: %.2f%%\" % (accuracy * 100.0))\n"
   ]
  },
  {
   "cell_type": "code",
   "execution_count": null,
   "metadata": {},
   "outputs": [],
   "source": []
  }
 ],
 "metadata": {
  "kernelspec": {
   "display_name": "xgboost",
   "language": "python",
   "name": "python3"
  },
  "language_info": {
   "codemirror_mode": {
    "name": "ipython",
    "version": 3
   },
   "file_extension": ".py",
   "mimetype": "text/x-python",
   "name": "python",
   "nbconvert_exporter": "python",
   "pygments_lexer": "ipython3",
   "version": "3.11.9"
  }
 },
 "nbformat": 4,
 "nbformat_minor": 2
}
