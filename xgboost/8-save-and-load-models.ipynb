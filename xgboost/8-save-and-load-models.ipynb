{
 "cells": [
  {
   "cell_type": "code",
   "execution_count": 3,
   "metadata": {},
   "outputs": [
    {
     "name": "stdout",
     "output_type": "stream",
     "text": [
      "Saved model to: models/pima.pickle.dat\n",
      "Loaded model from: models/pima.pickle.dat\n",
      "Accuracy: 77.17%\n"
     ]
    }
   ],
   "source": [
    "# Train XGBoost model, save to file using pickle, load and make predictions\n",
    "import pandas as pd\n",
    "from xgboost import XGBClassifier\n",
    "import pickle\n",
    "from sklearn.model_selection import train_test_split\n",
    "from sklearn.metrics import accuracy_score\n",
    "# load data\n",
    "dataset = pd.read_csv('course-data/diabetes.csv')\n",
    "# split data into X and y\n",
    "X = dataset.iloc[:, 0:8] \n",
    "Y = dataset.iloc[:, 8] \n",
    "# split data into train and test sets\n",
    "seed = 7\n",
    "test_size = 0.33\n",
    "X_train, X_test, y_train, y_test = train_test_split(X, Y, test_size=test_size,\n",
    "random_state=seed)\n",
    "# fit model on training data\n",
    "model = XGBClassifier(\n",
    "    booster='gbtree',  # The booster type to use, default is 'gbtree'\n",
    "    objective='binary:logistic',  # Specify the learning task and the corresponding objective function\n",
    "    learning_rate=0.1,  # Learning rate, default is 0.3\n",
    "    max_depth=3,  # Maximum depth of a tree, default is 6\n",
    "    n_estimators=100,  # Number of trees to fit, default is 100\n",
    "    random_state=42  # Random seed for reproducibility\n",
    ")\n",
    "model.fit(X_train, y_train)\n",
    "\n",
    "# save model to file\n",
    "pickle.dump(model, open(\"models/pima.pickle.dat\", \"wb\"))\n",
    "print(\"Saved model to: models/pima.pickle.dat\")\n",
    "# some time later...\n",
    "# load model from file\n",
    "loaded_model = pickle.load(open(\"models/pima.pickle.dat\", \"rb\"))\n",
    "print(\"Loaded model from: models/pima.pickle.dat\")\n",
    "# make predictions for test data\n",
    "predictions = loaded_model.predict(X_test)\n",
    "# evaluate predictions\n",
    "accuracy = accuracy_score(y_test, predictions)\n",
    "print(\"Accuracy: %.2f%%\" % (accuracy * 100.0))"
   ]
  },
  {
   "cell_type": "code",
   "execution_count": 6,
   "metadata": {},
   "outputs": [
    {
     "name": "stdout",
     "output_type": "stream",
     "text": [
      "Saved model to: models/pima.joblib.dat\n",
      "Loaded model from: models/pima.joblib.dat\n",
      "Accuracy: 77.17%\n"
     ]
    }
   ],
   "source": [
    "# Train XGBoost model, save to file using joblib, load and make predictions\n",
    "import pandas as pd\n",
    "from xgboost import XGBClassifier\n",
    "import joblib\n",
    "from sklearn.model_selection import train_test_split\n",
    "from sklearn.metrics import accuracy_score\n",
    "# load data\n",
    "dataset = pd.read_csv('course-data/diabetes.csv')\n",
    "# split data into X and y\n",
    "X = dataset.iloc[:, 0:8] \n",
    "Y = dataset.iloc[:, 8] \n",
    "# split data into train and test sets\n",
    "seed = 7\n",
    "test_size = 0.33\n",
    "X_train, X_test, y_train, y_test = train_test_split(X, Y, test_size=test_size,\n",
    "random_state=seed)\n",
    "# fit model on training data\n",
    "model = XGBClassifier(\n",
    "    booster='gbtree',  # The booster type to use, default is 'gbtree'\n",
    "    objective='binary:logistic',  # Specify the learning task and the corresponding objective function\n",
    "    learning_rate=0.1,  # Learning rate, default is 0.3\n",
    "    max_depth=3,  # Maximum depth of a tree, default is 6\n",
    "    n_estimators=100,  # Number of trees to fit, default is 100\n",
    "    random_state=42  # Random seed for reproducibility\n",
    ")\n",
    "model.fit(X_train, y_train)\n",
    "\n",
    "# save model to file\n",
    "joblib.dump(model, \"models/pima.joblib.dat\")\n",
    "print(\"Saved model to: models/pima.joblib.dat\")\n",
    "# some time later...\n",
    "# load model from file\n",
    "loaded_model = joblib.load(\"models/pima.joblib.dat\")\n",
    "print(\"Loaded model from: models/pima.joblib.dat\")\n",
    "# make predictions for test data\n",
    "predictions = loaded_model.predict(X_test)\n",
    "# evaluate predictions\n",
    "accuracy = accuracy_score(y_test, predictions)\n",
    "print(\"Accuracy: %.2f%%\" % (accuracy * 100.0))"
   ]
  }
 ],
 "metadata": {
  "kernelspec": {
   "display_name": "xgboost",
   "language": "python",
   "name": "python3"
  },
  "language_info": {
   "codemirror_mode": {
    "name": "ipython",
    "version": 3
   },
   "file_extension": ".py",
   "mimetype": "text/x-python",
   "name": "python",
   "nbconvert_exporter": "python",
   "pygments_lexer": "ipython3",
   "version": "3.11.9"
  }
 },
 "nbformat": 4,
 "nbformat_minor": 2
}
