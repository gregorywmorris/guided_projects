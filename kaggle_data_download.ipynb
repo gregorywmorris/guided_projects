{
  "cells": [
    {
      "cell_type": "markdown",
      "metadata": {
        "colab_type": "text",
        "id": "view-in-github"
      },
      "source": [
        "<a href=\"https://colab.research.google.com/github/gregorywmorris/guided_projects/blob/main/kaggle_data_download.ipynb\" target=\"_parent\"><img src=\"https://colab.research.google.com/assets/colab-badge.svg\" alt=\"Open In Colab\"/></a>"
      ]
    },
    {
      "cell_type": "code",
      "execution_count": 1,
      "metadata": {
        "id": "PAOzyVVjalJm"
      },
      "outputs": [],
      "source": [
        "!pip install -q kaggle"
      ]
    },
    {
      "cell_type": "code",
      "execution_count": 2,
      "metadata": {
        "id": "0wOIOrp-aopl"
      },
      "outputs": [
        {
          "name": "stdout",
          "output_type": "stream",
          "text": [
            "mkdir: cannot create directory ‘/home/blackitalian/.kaggle’: File exists\n"
          ]
        }
      ],
      "source": [
        "!mkdir ~/.kaggle"
      ]
    },
    {
      "cell_type": "code",
      "execution_count": null,
      "metadata": {
        "id": "hfVdidfoas-Q"
      },
      "outputs": [],
      "source": [
        "!touch ~/kaggle.json"
      ]
    },
    {
      "cell_type": "code",
      "execution_count": null,
      "metadata": {
        "id": "XX79kbXCawnZ"
      },
      "outputs": [],
      "source": [
        "# Kaggle API token or set in a secret file\n",
        "api_token = {\"username\":\"enter_your_username\".\"key\":\"enter_your_key\"}"
      ]
    },
    {
      "cell_type": "code",
      "execution_count": 3,
      "metadata": {
        "id": "lSeRvaVCbAyz"
      },
      "outputs": [
        {
          "ename": "SyntaxError",
          "evalue": "invalid syntax (2938657336.py, line 3)",
          "output_type": "error",
          "traceback": [
            "\u001b[0;36m  Cell \u001b[0;32mIn[3], line 3\u001b[0;36m\u001b[0m\n\u001b[0;31m    with open(`../../.kaggle/kaggle.json`,w) as file:\u001b[0m\n\u001b[0m              ^\u001b[0m\n\u001b[0;31mSyntaxError\u001b[0m\u001b[0;31m:\u001b[0m invalid syntax\n"
          ]
        }
      ],
      "source": [
        "import json\n",
        "\n",
        "with open(`../../.kaggle/kaggle.json`,w) as file:\n",
        "  json.dump(api_token,file)"
      ]
    },
    {
      "cell_type": "code",
      "execution_count": null,
      "metadata": {
        "id": "RkDqu5pEbRAN"
      },
      "outputs": [],
      "source": [
        "# sets read write exicute permisions\n",
        "!chmod 600 ~/.kaggle/kaggle.json"
      ]
    },
    {
      "cell_type": "code",
      "execution_count": 4,
      "metadata": {
        "id": "xm0s4Oacceaj"
      },
      "outputs": [
        {
          "name": "stdout",
          "output_type": "stream",
          "text": [
            "Invalid dataset specification /datasets/santosh1974/loan-data-csv\n"
          ]
        }
      ],
      "source": [
        "# !kaggle datasets download -d \"enter the url after the .com\" --force\n",
        "!kaggle datasets download -d \"/datasets/santosh1974/loan-data-csv\" --force"
      ]
    },
    {
      "cell_type": "code",
      "execution_count": null,
      "metadata": {
        "id": "k7w9FjB_bdrd"
      },
      "outputs": [],
      "source": [
        "import zipfile\n",
        "\n",
        "with zipfile.ZipFile(\"./loan_data.zip\",\"r\") as zip_ref:\n",
        "  zip.ref.extractall(\"ensamble/datacamp\")"
      ]
    },
    {
      "cell_type": "code",
      "execution_count": 5,
      "metadata": {},
      "outputs": [
        {
          "name": "stdout",
          "output_type": "stream",
          "text": [
            "Downloading loan-data.zip to /home/blackitalian/ds_projects/guided_projects\n",
            "  0%|                                                | 0.00/213k [00:00<?, ?B/s]\n",
            "100%|████████████████████████████████████████| 213k/213k [00:00<00:00, 3.25MB/s]\n"
          ]
        }
      ],
      "source": [
        "!kaggle datasets download -d abrahamanderson/loan-data"
      ]
    }
  ],
  "metadata": {
    "colab": {
      "authorship_tag": "ABX9TyMNvtASZCY1wHhAzzGijjfj",
      "include_colab_link": true,
      "provenance": []
    },
    "kernelspec": {
      "display_name": "Python 3",
      "name": "python3"
    },
    "language_info": {
      "codemirror_mode": {
        "name": "ipython",
        "version": 3
      },
      "file_extension": ".py",
      "mimetype": "text/x-python",
      "name": "python",
      "nbconvert_exporter": "python",
      "pygments_lexer": "ipython3",
      "version": "3.12.2"
    }
  },
  "nbformat": 4,
  "nbformat_minor": 0
}
