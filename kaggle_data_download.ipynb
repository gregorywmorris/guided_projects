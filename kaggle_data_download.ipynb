{
  "nbformat": 4,
  "nbformat_minor": 0,
  "metadata": {
    "colab": {
      "provenance": [],
      "authorship_tag": "ABX9TyMNvtASZCY1wHhAzzGijjfj",
      "include_colab_link": true
    },
    "kernelspec": {
      "name": "python3",
      "display_name": "Python 3"
    },
    "language_info": {
      "name": "python"
    }
  },
  "cells": [
    {
      "cell_type": "markdown",
      "metadata": {
        "id": "view-in-github",
        "colab_type": "text"
      },
      "source": [
        "<a href=\"https://colab.research.google.com/github/gregorywmorris/guided_projects/blob/main/kaggle_data_download.ipynb\" target=\"_parent\"><img src=\"https://colab.research.google.com/assets/colab-badge.svg\" alt=\"Open In Colab\"/></a>"
      ]
    },
    {
      "cell_type": "code",
      "execution_count": null,
      "metadata": {
        "id": "PAOzyVVjalJm"
      },
      "outputs": [],
      "source": [
        "!pip install -q kaggle"
      ]
    },
    {
      "cell_type": "code",
      "source": [
        "!mkdir ~/.kaggle"
      ],
      "metadata": {
        "id": "0wOIOrp-aopl"
      },
      "execution_count": null,
      "outputs": []
    },
    {
      "cell_type": "code",
      "source": [
        "!touch ~/kaggle.json"
      ],
      "metadata": {
        "id": "hfVdidfoas-Q"
      },
      "execution_count": null,
      "outputs": []
    },
    {
      "cell_type": "code",
      "source": [
        "# Kaggle API token or set in a secret file\n",
        "api_token = {\"username\":\"enter_your_username\".\"key\":\"enter_your_key\"}"
      ],
      "metadata": {
        "id": "XX79kbXCawnZ"
      },
      "execution_count": null,
      "outputs": []
    },
    {
      "cell_type": "code",
      "source": [
        "import json\n",
        "\n",
        "with open(`/rrot/.kaggle/kaggle.json`,w) as file:\n",
        "  json.dump(api_token,file)"
      ],
      "metadata": {
        "id": "lSeRvaVCbAyz"
      },
      "execution_count": null,
      "outputs": []
    },
    {
      "cell_type": "code",
      "source": [
        "# sets read write exicute permisions\n",
        "!chmod 600 ~/.kaggle/kaggle.json"
      ],
      "metadata": {
        "id": "RkDqu5pEbRAN"
      },
      "execution_count": null,
      "outputs": []
    },
    {
      "cell_type": "code",
      "source": [
        "!kaggle datasets download -d \"enter the url after the .com\" --force"
      ],
      "metadata": {
        "id": "xm0s4Oacceaj"
      },
      "execution_count": null,
      "outputs": []
    },
    {
      "cell_type": "code",
      "source": [
        "import zipfile\n",
        "\n",
        "with zipfile.ZipFile(\"./name_your_zip_file.zip\",\"r\") as zip_ref:\n",
        "  zip.ref.extractall(\"your_data_location\")"
      ],
      "metadata": {
        "id": "k7w9FjB_bdrd"
      },
      "execution_count": null,
      "outputs": []
    }
  ]
}