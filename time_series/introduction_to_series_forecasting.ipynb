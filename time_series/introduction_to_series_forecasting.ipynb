{
  "nbformat": 4,
  "nbformat_minor": 0,
  "metadata": {
    "colab": {
      "provenance": [],
      "authorship_tag": "ABX9TyM6HPt6P580kQTKSAibXblk",
      "include_colab_link": true
    },
    "kernelspec": {
      "name": "python3",
      "display_name": "Python 3"
    },
    "language_info": {
      "name": "python"
    }
  },
  "cells": [
    {
      "cell_type": "markdown",
      "metadata": {
        "id": "view-in-github",
        "colab_type": "text"
      },
      "source": [
        "<a href=\"https://colab.research.google.com/github/gregorywmorris/guided_projects/blob/main/time_series/introduction_to_series_forecasting.ipynb\" target=\"_parent\"><img src=\"https://colab.research.google.com/assets/colab-badge.svg\" alt=\"Open In Colab\"/></a>"
      ]
    },
    {
      "cell_type": "markdown",
      "source": [
        "Book: [Introduction to Time Series Forecasting with Python](https://machinelearningmastery.com/introduction-to-time-series-forecasting-with-python/)\n",
        "\n",
        "Author: Jason Brownlee\n"
      ],
      "metadata": {
        "id": "peQFuawjDFf0"
      }
    },
    {
      "cell_type": "markdown",
      "source": [
        "# Chapter 5"
      ],
      "metadata": {
        "id": "z4GUT7I4G6PW"
      }
    },
    {
      "cell_type": "markdown",
      "source": [
        "[data set](https://github.com/jbrownlee/Datasets/blob/master/daily-min-temperatures.csv)"
      ],
      "metadata": {
        "id": "b9JtSnSYIUAh"
      }
    },
    {
      "cell_type": "code",
      "execution_count": 25,
      "metadata": {
        "id": "YxikDrLg42lO",
        "colab": {
          "base_uri": "https://localhost:8080/"
        },
        "outputId": "a318e0e5-0de6-4ef9-8c29-59614ddb6414"
      },
      "outputs": [
        {
          "output_type": "execute_result",
          "data": {
            "text/plain": [
              "Date\n",
              "1981-01-01    20.7\n",
              "1981-01-02    17.9\n",
              "1981-01-03    18.8\n",
              "1981-01-04    14.6\n",
              "1981-01-05    15.8\n",
              "Name: Temp, dtype: float64"
            ]
          },
          "metadata": {},
          "execution_count": 25
        }
      ],
      "source": [
        "import pandas as pd\n",
        "import numpy as np\n",
        "series = pd.read_csv('daily-min-temperatures.csv', parse_dates=True, header=0,index_col=0, on_bad_lines='skip').squeeze('columns')\n",
        "series.head()"
      ]
    },
    {
      "cell_type": "code",
      "source": [
        "# create date time features of a dataset\n",
        "dataframe = pd.DataFrame()\n",
        "#dataframe.assign('month','day','temperature')\n",
        "dataframe['date'] = [series.index[i] for i in range(len(series))]\n",
        "dataframe['month'] = [series.index[i].month for i in range(len(series))]\n",
        "dataframe['day'] = [series.index[i].day for i in range(len(series))]\n",
        "dataframe['temperature'] = [series[i] for i in range(len(series))]\n",
        "print(dataframe.head())"
      ],
      "metadata": {
        "colab": {
          "base_uri": "https://localhost:8080/"
        },
        "id": "yjFfZk1uIYWa",
        "outputId": "318810b8-8cb7-4d97-83cf-c526d9d42f80"
      },
      "execution_count": 7,
      "outputs": [
        {
          "output_type": "stream",
          "name": "stdout",
          "text": [
            "        date  month  day temperature\n",
            "0 1981-01-01      1    1        20.7\n",
            "1 1981-01-02      1    2        17.9\n",
            "2 1981-01-03      1    3        18.8\n",
            "3 1981-01-04      1    4        14.6\n",
            "4 1981-01-05      1    5        15.8\n"
          ]
        }
      ]
    },
    {
      "cell_type": "markdown",
      "source": [
        "You may enumerate all the\n",
        "properties of a time-stamp and consider what might be useful for your problem, such as:\n",
        "* Minutes elapsed for the day.\n",
        "* Hour of day.\n",
        "* Business hours or not.\n",
        "Weekend or not.\n",
        "* Season of the year.\n",
        "* Business quarter of the year.\n",
        "* Daylight savings or not.\n",
        "* Public holiday or not.\n",
        "* Leap year or not."
      ],
      "metadata": {
        "id": "jg4aryz37oCw"
      }
    },
    {
      "cell_type": "code",
      "source": [
        "# create a lag feature\n",
        "from pandas import read_csv\n",
        "from pandas import DataFrame\n",
        "from pandas import concat\n",
        "series = pd.read_csv('daily-min-temperatures.csv', parse_dates=True, header=0,index_col=0, on_bad_lines='skip').squeeze('columns')\n",
        "temps = DataFrame(series.values)\n",
        "dataframe = concat([temps.shift(1), temps], axis=1)\n",
        "dataframe.columns = ['t', 't+1']\n",
        "print(dataframe.head(5))"
      ],
      "metadata": {
        "id": "aMc0cfv5IoON",
        "colab": {
          "base_uri": "https://localhost:8080/"
        },
        "outputId": "d4493154-980a-415f-b31c-31b1c3d3ba16"
      },
      "execution_count": 22,
      "outputs": [
        {
          "output_type": "stream",
          "name": "stdout",
          "text": [
            "      t   t+1\n",
            "0   NaN  20.7\n",
            "1  20.7  17.9\n",
            "2  17.9  18.8\n",
            "3  18.8  14.6\n",
            "4  14.6  15.8\n"
          ]
        }
      ]
    },
    {
      "cell_type": "code",
      "source": [
        "# create lag features\n",
        "from pandas import read_csv\n",
        "from pandas import DataFrame\n",
        "from pandas import concat\n",
        "series = pd.read_csv('daily-min-temperatures.csv', parse_dates=True, header=0,index_col=0, on_bad_lines='skip').squeeze('columns')\n",
        "temps = DataFrame(series.values)\n",
        "dataframe = concat([temps.shift(3), temps.shift(2), temps.shift(1), temps], axis=1)\n",
        "dataframe.columns = ['t-2', 't-1', 't', 't+1']\n",
        "print(dataframe.head(5))\n"
      ],
      "metadata": {
        "colab": {
          "base_uri": "https://localhost:8080/"
        },
        "id": "h1hAfhZm8soA",
        "outputId": "e3085fe3-7c26-423f-9388-7d037dcf5aab"
      },
      "execution_count": 23,
      "outputs": [
        {
          "output_type": "stream",
          "name": "stdout",
          "text": [
            "    t-2   t-1     t   t+1\n",
            "0   NaN   NaN   NaN  20.7\n",
            "1   NaN   NaN  20.7  17.9\n",
            "2   NaN  20.7  17.9  18.8\n",
            "3  20.7  17.9  18.8  14.6\n",
            "4  17.9  18.8  14.6  15.8\n"
          ]
        }
      ]
    },
    {
      "cell_type": "markdown",
      "source": [
        "A difficulty with the sliding window approach is how large to make\n",
        "the window for your problem. Perhaps a good starting point is to perform a sensitivity analysis\n",
        "and try a suite of different window widths to in turn create a suite of different views of your\n",
        "dataset and see which results in better performing models. There will be a point of diminishing\n",
        "returns.\n",
        "\n",
        "Additionally, why stop with a linear window? Perhaps you need a lag value from last week,\n",
        "last month, and last year. Again, this comes down to the specific domain. In the case of the\n",
        "temperature dataset, a lag value from the same day in the previous year or previous few years\n",
        "may be useful."
      ],
      "metadata": {
        "id": "aeaVPv4k95M1"
      }
    },
    {
      "cell_type": "code",
      "source": [
        "series = pd.read_csv('daily-min-temperatures.csv', parse_dates=True, header=0,index_col=0, on_bad_lines='skip').squeeze('columns')\n",
        "temps = DataFrame(series.values)\n",
        "temps.dtypes"
      ],
      "metadata": {
        "colab": {
          "base_uri": "https://localhost:8080/"
        },
        "id": "nZFetIUDBYR3",
        "outputId": "96e7a22a-f8e6-4c21-bc09-172dfa79cd32"
      },
      "execution_count": 24,
      "outputs": [
        {
          "output_type": "execute_result",
          "data": {
            "text/plain": [
              "0    float64\n",
              "dtype: object"
            ]
          },
          "metadata": {},
          "execution_count": 24
        }
      ]
    },
    {
      "cell_type": "code",
      "source": [
        "# create a rolling mean feature\n",
        "from pandas import read_csv\n",
        "from pandas import DataFrame\n",
        "from pandas import concat\n",
        "series = pd.read_csv('daily-min-temperatures.csv', parse_dates=True, header=0,index_col=0, on_bad_lines='skip').squeeze('columns')\n",
        "temps = DataFrame(series.values)\n",
        "shifted = temps.shift(1)\n",
        "window = shifted.rolling(window=2)\n",
        "means = window.mean()\n",
        "dataframe = concat([means, temps], axis=1)\n",
        "dataframe.columns = ['mean(t-1,t)', 't+1']\n",
        "print(dataframe.head(5))"
      ],
      "metadata": {
        "colab": {
          "base_uri": "https://localhost:8080/"
        },
        "id": "-1LgDUSm8_N7",
        "outputId": "fa6b04c9-11cc-42ea-ea5e-642cde5cf6ce"
      },
      "execution_count": 20,
      "outputs": [
        {
          "output_type": "stream",
          "name": "stdout",
          "text": [
            "   mean(t-1,t)   t+1\n",
            "0          NaN  20.7\n",
            "1          NaN  17.9\n",
            "2        19.30  18.8\n",
            "3        18.35  14.6\n",
            "4        16.70  15.8\n"
          ]
        }
      ]
    },
    {
      "cell_type": "code",
      "source": [],
      "metadata": {
        "id": "cn81kzWEC9ea"
      },
      "execution_count": null,
      "outputs": []
    }
  ]
}