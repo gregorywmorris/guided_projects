{
  "nbformat": 4,
  "nbformat_minor": 0,
  "metadata": {
    "colab": {
      "provenance": [],
      "include_colab_link": true
    },
    "kernelspec": {
      "name": "python3",
      "display_name": "Python 3"
    },
    "language_info": {
      "name": "python"
    },
    "accelerator": "TPU"
  },
  "cells": [
    {
      "cell_type": "markdown",
      "metadata": {
        "id": "view-in-github",
        "colab_type": "text"
      },
      "source": [
        "<a href=\"https://colab.research.google.com/github/gregorywmorris/guided_projects/blob/main/time_series/Greg_Hogg/Multivariate%20Time%20Series%20Forecasting%20Using%20LSTM%2C%20GRU%20%26%201d%20CNNs.ipynb\" target=\"_parent\"><img src=\"https://colab.research.google.com/assets/colab-badge.svg\" alt=\"Open In Colab\"/></a>"
      ]
    },
    {
      "cell_type": "markdown",
      "source": [
        "# Part 1\n",
        "\n",
        "[LSTM Time Series Forecasting Tutorial in Python\n",
        "](https://www.youtube.com/watch?v=c0k-YLQGKjY)"
      ],
      "metadata": {
        "id": "yALHiCRMOSvO"
      }
    },
    {
      "cell_type": "code",
      "metadata": {
        "id": "EbrFD1vMR_qS"
      },
      "source": [
        "import tensorflow as tf\n",
        "import os\n",
        "import pandas as pd\n",
        "import numpy as np"
      ],
      "execution_count": 1,
      "outputs": []
    },
    {
      "cell_type": "code",
      "metadata": {
        "id": "1q73lN27SDPC",
        "colab": {
          "base_uri": "https://localhost:8080/"
        },
        "outputId": "7d6ac86d-7730-4d2e-a6d9-d6f2507f9825"
      },
      "source": [
        "zip_path = tf.keras.utils.get_file(\n",
        "    origin='https://storage.googleapis.com/tensorflow/tf-keras-datasets/jena_climate_2009_2016.csv.zip',\n",
        "    fname='jena_climate_2009_2016.csv.zip',\n",
        "    extract=True)\n",
        "csv_path, _ = os.path.splitext(zip_path)"
      ],
      "execution_count": 2,
      "outputs": [
        {
          "output_type": "stream",
          "name": "stdout",
          "text": [
            "Downloading data from https://storage.googleapis.com/tensorflow/tf-keras-datasets/jena_climate_2009_2016.csv.zip\n",
            "13568290/13568290 [==============================] - 0s 0us/step\n"
          ]
        }
      ]
    },
    {
      "cell_type": "code",
      "metadata": {
        "colab": {
          "base_uri": "https://localhost:8080/",
          "height": 0
        },
        "id": "RRVN-4QOSKAx",
        "outputId": "ea5fcae5-a8f8-450c-90fd-66691ace2bee"
      },
      "source": [
        "df = pd.read_csv(csv_path)\n",
        "df"
      ],
      "execution_count": 3,
      "outputs": [
        {
          "output_type": "execute_result",
          "data": {
            "text/plain": [
              "                  Date Time  p (mbar)  T (degC)  Tpot (K)  Tdew (degC)  \\\n",
              "0       01.01.2009 00:10:00    996.52     -8.02    265.40        -8.90   \n",
              "1       01.01.2009 00:20:00    996.57     -8.41    265.01        -9.28   \n",
              "2       01.01.2009 00:30:00    996.53     -8.51    264.91        -9.31   \n",
              "3       01.01.2009 00:40:00    996.51     -8.31    265.12        -9.07   \n",
              "4       01.01.2009 00:50:00    996.51     -8.27    265.15        -9.04   \n",
              "...                     ...       ...       ...       ...          ...   \n",
              "420546  31.12.2016 23:20:00   1000.07     -4.05    269.10        -8.13   \n",
              "420547  31.12.2016 23:30:00    999.93     -3.35    269.81        -8.06   \n",
              "420548  31.12.2016 23:40:00    999.82     -3.16    270.01        -8.21   \n",
              "420549  31.12.2016 23:50:00    999.81     -4.23    268.94        -8.53   \n",
              "420550  01.01.2017 00:00:00    999.82     -4.82    268.36        -8.42   \n",
              "\n",
              "        rh (%)  VPmax (mbar)  VPact (mbar)  VPdef (mbar)  sh (g/kg)  \\\n",
              "0        93.30          3.33          3.11          0.22       1.94   \n",
              "1        93.40          3.23          3.02          0.21       1.89   \n",
              "2        93.90          3.21          3.01          0.20       1.88   \n",
              "3        94.20          3.26          3.07          0.19       1.92   \n",
              "4        94.10          3.27          3.08          0.19       1.92   \n",
              "...        ...           ...           ...           ...        ...   \n",
              "420546   73.10          4.52          3.30          1.22       2.06   \n",
              "420547   69.71          4.77          3.32          1.44       2.07   \n",
              "420548   67.91          4.84          3.28          1.55       2.05   \n",
              "420549   71.80          4.46          3.20          1.26       1.99   \n",
              "420550   75.70          4.27          3.23          1.04       2.01   \n",
              "\n",
              "        H2OC (mmol/mol)  rho (g/m**3)  wv (m/s)  max. wv (m/s)  wd (deg)  \n",
              "0                  3.12       1307.75      1.03           1.75     152.3  \n",
              "1                  3.03       1309.80      0.72           1.50     136.1  \n",
              "2                  3.02       1310.24      0.19           0.63     171.6  \n",
              "3                  3.08       1309.19      0.34           0.50     198.0  \n",
              "4                  3.09       1309.00      0.32           0.63     214.3  \n",
              "...                 ...           ...       ...            ...       ...  \n",
              "420546             3.30       1292.98      0.67           1.52     240.0  \n",
              "420547             3.32       1289.44      1.14           1.92     234.3  \n",
              "420548             3.28       1288.39      1.08           2.00     215.2  \n",
              "420549             3.20       1293.56      1.49           2.16     225.8  \n",
              "420550             3.23       1296.38      1.23           1.96     184.9  \n",
              "\n",
              "[420551 rows x 15 columns]"
            ],
            "text/html": [
              "\n",
              "  <div id=\"df-67a8ce61-c1d1-4ec3-9ea5-839bab232da6\" class=\"colab-df-container\">\n",
              "    <div>\n",
              "<style scoped>\n",
              "    .dataframe tbody tr th:only-of-type {\n",
              "        vertical-align: middle;\n",
              "    }\n",
              "\n",
              "    .dataframe tbody tr th {\n",
              "        vertical-align: top;\n",
              "    }\n",
              "\n",
              "    .dataframe thead th {\n",
              "        text-align: right;\n",
              "    }\n",
              "</style>\n",
              "<table border=\"1\" class=\"dataframe\">\n",
              "  <thead>\n",
              "    <tr style=\"text-align: right;\">\n",
              "      <th></th>\n",
              "      <th>Date Time</th>\n",
              "      <th>p (mbar)</th>\n",
              "      <th>T (degC)</th>\n",
              "      <th>Tpot (K)</th>\n",
              "      <th>Tdew (degC)</th>\n",
              "      <th>rh (%)</th>\n",
              "      <th>VPmax (mbar)</th>\n",
              "      <th>VPact (mbar)</th>\n",
              "      <th>VPdef (mbar)</th>\n",
              "      <th>sh (g/kg)</th>\n",
              "      <th>H2OC (mmol/mol)</th>\n",
              "      <th>rho (g/m**3)</th>\n",
              "      <th>wv (m/s)</th>\n",
              "      <th>max. wv (m/s)</th>\n",
              "      <th>wd (deg)</th>\n",
              "    </tr>\n",
              "  </thead>\n",
              "  <tbody>\n",
              "    <tr>\n",
              "      <th>0</th>\n",
              "      <td>01.01.2009 00:10:00</td>\n",
              "      <td>996.52</td>\n",
              "      <td>-8.02</td>\n",
              "      <td>265.40</td>\n",
              "      <td>-8.90</td>\n",
              "      <td>93.30</td>\n",
              "      <td>3.33</td>\n",
              "      <td>3.11</td>\n",
              "      <td>0.22</td>\n",
              "      <td>1.94</td>\n",
              "      <td>3.12</td>\n",
              "      <td>1307.75</td>\n",
              "      <td>1.03</td>\n",
              "      <td>1.75</td>\n",
              "      <td>152.3</td>\n",
              "    </tr>\n",
              "    <tr>\n",
              "      <th>1</th>\n",
              "      <td>01.01.2009 00:20:00</td>\n",
              "      <td>996.57</td>\n",
              "      <td>-8.41</td>\n",
              "      <td>265.01</td>\n",
              "      <td>-9.28</td>\n",
              "      <td>93.40</td>\n",
              "      <td>3.23</td>\n",
              "      <td>3.02</td>\n",
              "      <td>0.21</td>\n",
              "      <td>1.89</td>\n",
              "      <td>3.03</td>\n",
              "      <td>1309.80</td>\n",
              "      <td>0.72</td>\n",
              "      <td>1.50</td>\n",
              "      <td>136.1</td>\n",
              "    </tr>\n",
              "    <tr>\n",
              "      <th>2</th>\n",
              "      <td>01.01.2009 00:30:00</td>\n",
              "      <td>996.53</td>\n",
              "      <td>-8.51</td>\n",
              "      <td>264.91</td>\n",
              "      <td>-9.31</td>\n",
              "      <td>93.90</td>\n",
              "      <td>3.21</td>\n",
              "      <td>3.01</td>\n",
              "      <td>0.20</td>\n",
              "      <td>1.88</td>\n",
              "      <td>3.02</td>\n",
              "      <td>1310.24</td>\n",
              "      <td>0.19</td>\n",
              "      <td>0.63</td>\n",
              "      <td>171.6</td>\n",
              "    </tr>\n",
              "    <tr>\n",
              "      <th>3</th>\n",
              "      <td>01.01.2009 00:40:00</td>\n",
              "      <td>996.51</td>\n",
              "      <td>-8.31</td>\n",
              "      <td>265.12</td>\n",
              "      <td>-9.07</td>\n",
              "      <td>94.20</td>\n",
              "      <td>3.26</td>\n",
              "      <td>3.07</td>\n",
              "      <td>0.19</td>\n",
              "      <td>1.92</td>\n",
              "      <td>3.08</td>\n",
              "      <td>1309.19</td>\n",
              "      <td>0.34</td>\n",
              "      <td>0.50</td>\n",
              "      <td>198.0</td>\n",
              "    </tr>\n",
              "    <tr>\n",
              "      <th>4</th>\n",
              "      <td>01.01.2009 00:50:00</td>\n",
              "      <td>996.51</td>\n",
              "      <td>-8.27</td>\n",
              "      <td>265.15</td>\n",
              "      <td>-9.04</td>\n",
              "      <td>94.10</td>\n",
              "      <td>3.27</td>\n",
              "      <td>3.08</td>\n",
              "      <td>0.19</td>\n",
              "      <td>1.92</td>\n",
              "      <td>3.09</td>\n",
              "      <td>1309.00</td>\n",
              "      <td>0.32</td>\n",
              "      <td>0.63</td>\n",
              "      <td>214.3</td>\n",
              "    </tr>\n",
              "    <tr>\n",
              "      <th>...</th>\n",
              "      <td>...</td>\n",
              "      <td>...</td>\n",
              "      <td>...</td>\n",
              "      <td>...</td>\n",
              "      <td>...</td>\n",
              "      <td>...</td>\n",
              "      <td>...</td>\n",
              "      <td>...</td>\n",
              "      <td>...</td>\n",
              "      <td>...</td>\n",
              "      <td>...</td>\n",
              "      <td>...</td>\n",
              "      <td>...</td>\n",
              "      <td>...</td>\n",
              "      <td>...</td>\n",
              "    </tr>\n",
              "    <tr>\n",
              "      <th>420546</th>\n",
              "      <td>31.12.2016 23:20:00</td>\n",
              "      <td>1000.07</td>\n",
              "      <td>-4.05</td>\n",
              "      <td>269.10</td>\n",
              "      <td>-8.13</td>\n",
              "      <td>73.10</td>\n",
              "      <td>4.52</td>\n",
              "      <td>3.30</td>\n",
              "      <td>1.22</td>\n",
              "      <td>2.06</td>\n",
              "      <td>3.30</td>\n",
              "      <td>1292.98</td>\n",
              "      <td>0.67</td>\n",
              "      <td>1.52</td>\n",
              "      <td>240.0</td>\n",
              "    </tr>\n",
              "    <tr>\n",
              "      <th>420547</th>\n",
              "      <td>31.12.2016 23:30:00</td>\n",
              "      <td>999.93</td>\n",
              "      <td>-3.35</td>\n",
              "      <td>269.81</td>\n",
              "      <td>-8.06</td>\n",
              "      <td>69.71</td>\n",
              "      <td>4.77</td>\n",
              "      <td>3.32</td>\n",
              "      <td>1.44</td>\n",
              "      <td>2.07</td>\n",
              "      <td>3.32</td>\n",
              "      <td>1289.44</td>\n",
              "      <td>1.14</td>\n",
              "      <td>1.92</td>\n",
              "      <td>234.3</td>\n",
              "    </tr>\n",
              "    <tr>\n",
              "      <th>420548</th>\n",
              "      <td>31.12.2016 23:40:00</td>\n",
              "      <td>999.82</td>\n",
              "      <td>-3.16</td>\n",
              "      <td>270.01</td>\n",
              "      <td>-8.21</td>\n",
              "      <td>67.91</td>\n",
              "      <td>4.84</td>\n",
              "      <td>3.28</td>\n",
              "      <td>1.55</td>\n",
              "      <td>2.05</td>\n",
              "      <td>3.28</td>\n",
              "      <td>1288.39</td>\n",
              "      <td>1.08</td>\n",
              "      <td>2.00</td>\n",
              "      <td>215.2</td>\n",
              "    </tr>\n",
              "    <tr>\n",
              "      <th>420549</th>\n",
              "      <td>31.12.2016 23:50:00</td>\n",
              "      <td>999.81</td>\n",
              "      <td>-4.23</td>\n",
              "      <td>268.94</td>\n",
              "      <td>-8.53</td>\n",
              "      <td>71.80</td>\n",
              "      <td>4.46</td>\n",
              "      <td>3.20</td>\n",
              "      <td>1.26</td>\n",
              "      <td>1.99</td>\n",
              "      <td>3.20</td>\n",
              "      <td>1293.56</td>\n",
              "      <td>1.49</td>\n",
              "      <td>2.16</td>\n",
              "      <td>225.8</td>\n",
              "    </tr>\n",
              "    <tr>\n",
              "      <th>420550</th>\n",
              "      <td>01.01.2017 00:00:00</td>\n",
              "      <td>999.82</td>\n",
              "      <td>-4.82</td>\n",
              "      <td>268.36</td>\n",
              "      <td>-8.42</td>\n",
              "      <td>75.70</td>\n",
              "      <td>4.27</td>\n",
              "      <td>3.23</td>\n",
              "      <td>1.04</td>\n",
              "      <td>2.01</td>\n",
              "      <td>3.23</td>\n",
              "      <td>1296.38</td>\n",
              "      <td>1.23</td>\n",
              "      <td>1.96</td>\n",
              "      <td>184.9</td>\n",
              "    </tr>\n",
              "  </tbody>\n",
              "</table>\n",
              "<p>420551 rows × 15 columns</p>\n",
              "</div>\n",
              "    <div class=\"colab-df-buttons\">\n",
              "\n",
              "  <div class=\"colab-df-container\">\n",
              "    <button class=\"colab-df-convert\" onclick=\"convertToInteractive('df-67a8ce61-c1d1-4ec3-9ea5-839bab232da6')\"\n",
              "            title=\"Convert this dataframe to an interactive table.\"\n",
              "            style=\"display:none;\">\n",
              "\n",
              "  <svg xmlns=\"http://www.w3.org/2000/svg\" height=\"24px\" viewBox=\"0 -960 960 960\">\n",
              "    <path d=\"M120-120v-720h720v720H120Zm60-500h600v-160H180v160Zm220 220h160v-160H400v160Zm0 220h160v-160H400v160ZM180-400h160v-160H180v160Zm440 0h160v-160H620v160ZM180-180h160v-160H180v160Zm440 0h160v-160H620v160Z\"/>\n",
              "  </svg>\n",
              "    </button>\n",
              "\n",
              "  <style>\n",
              "    .colab-df-container {\n",
              "      display:flex;\n",
              "      gap: 12px;\n",
              "    }\n",
              "\n",
              "    .colab-df-convert {\n",
              "      background-color: #E8F0FE;\n",
              "      border: none;\n",
              "      border-radius: 50%;\n",
              "      cursor: pointer;\n",
              "      display: none;\n",
              "      fill: #1967D2;\n",
              "      height: 32px;\n",
              "      padding: 0 0 0 0;\n",
              "      width: 32px;\n",
              "    }\n",
              "\n",
              "    .colab-df-convert:hover {\n",
              "      background-color: #E2EBFA;\n",
              "      box-shadow: 0px 1px 2px rgba(60, 64, 67, 0.3), 0px 1px 3px 1px rgba(60, 64, 67, 0.15);\n",
              "      fill: #174EA6;\n",
              "    }\n",
              "\n",
              "    .colab-df-buttons div {\n",
              "      margin-bottom: 4px;\n",
              "    }\n",
              "\n",
              "    [theme=dark] .colab-df-convert {\n",
              "      background-color: #3B4455;\n",
              "      fill: #D2E3FC;\n",
              "    }\n",
              "\n",
              "    [theme=dark] .colab-df-convert:hover {\n",
              "      background-color: #434B5C;\n",
              "      box-shadow: 0px 1px 3px 1px rgba(0, 0, 0, 0.15);\n",
              "      filter: drop-shadow(0px 1px 2px rgba(0, 0, 0, 0.3));\n",
              "      fill: #FFFFFF;\n",
              "    }\n",
              "  </style>\n",
              "\n",
              "    <script>\n",
              "      const buttonEl =\n",
              "        document.querySelector('#df-67a8ce61-c1d1-4ec3-9ea5-839bab232da6 button.colab-df-convert');\n",
              "      buttonEl.style.display =\n",
              "        google.colab.kernel.accessAllowed ? 'block' : 'none';\n",
              "\n",
              "      async function convertToInteractive(key) {\n",
              "        const element = document.querySelector('#df-67a8ce61-c1d1-4ec3-9ea5-839bab232da6');\n",
              "        const dataTable =\n",
              "          await google.colab.kernel.invokeFunction('convertToInteractive',\n",
              "                                                    [key], {});\n",
              "        if (!dataTable) return;\n",
              "\n",
              "        const docLinkHtml = 'Like what you see? Visit the ' +\n",
              "          '<a target=\"_blank\" href=https://colab.research.google.com/notebooks/data_table.ipynb>data table notebook</a>'\n",
              "          + ' to learn more about interactive tables.';\n",
              "        element.innerHTML = '';\n",
              "        dataTable['output_type'] = 'display_data';\n",
              "        await google.colab.output.renderOutput(dataTable, element);\n",
              "        const docLink = document.createElement('div');\n",
              "        docLink.innerHTML = docLinkHtml;\n",
              "        element.appendChild(docLink);\n",
              "      }\n",
              "    </script>\n",
              "  </div>\n",
              "\n",
              "\n",
              "<div id=\"df-3355ba05-6e9f-474b-8770-0c3d46bfef1b\">\n",
              "  <button class=\"colab-df-quickchart\" onclick=\"quickchart('df-3355ba05-6e9f-474b-8770-0c3d46bfef1b')\"\n",
              "            title=\"Suggest charts.\"\n",
              "            style=\"display:none;\">\n",
              "\n",
              "<svg xmlns=\"http://www.w3.org/2000/svg\" height=\"24px\"viewBox=\"0 0 24 24\"\n",
              "     width=\"24px\">\n",
              "    <g>\n",
              "        <path d=\"M19 3H5c-1.1 0-2 .9-2 2v14c0 1.1.9 2 2 2h14c1.1 0 2-.9 2-2V5c0-1.1-.9-2-2-2zM9 17H7v-7h2v7zm4 0h-2V7h2v10zm4 0h-2v-4h2v4z\"/>\n",
              "    </g>\n",
              "</svg>\n",
              "  </button>\n",
              "\n",
              "<style>\n",
              "  .colab-df-quickchart {\n",
              "    background-color: #E8F0FE;\n",
              "    border: none;\n",
              "    border-radius: 50%;\n",
              "    cursor: pointer;\n",
              "    display: none;\n",
              "    fill: #1967D2;\n",
              "    height: 32px;\n",
              "    padding: 0 0 0 0;\n",
              "    width: 32px;\n",
              "  }\n",
              "\n",
              "  .colab-df-quickchart:hover {\n",
              "    background-color: #E2EBFA;\n",
              "    box-shadow: 0px 1px 2px rgba(60, 64, 67, 0.3), 0px 1px 3px 1px rgba(60, 64, 67, 0.15);\n",
              "    fill: #174EA6;\n",
              "  }\n",
              "\n",
              "  [theme=dark] .colab-df-quickchart {\n",
              "    background-color: #3B4455;\n",
              "    fill: #D2E3FC;\n",
              "  }\n",
              "\n",
              "  [theme=dark] .colab-df-quickchart:hover {\n",
              "    background-color: #434B5C;\n",
              "    box-shadow: 0px 1px 3px 1px rgba(0, 0, 0, 0.15);\n",
              "    filter: drop-shadow(0px 1px 2px rgba(0, 0, 0, 0.3));\n",
              "    fill: #FFFFFF;\n",
              "  }\n",
              "</style>\n",
              "\n",
              "  <script>\n",
              "    async function quickchart(key) {\n",
              "      const charts = await google.colab.kernel.invokeFunction(\n",
              "          'suggestCharts', [key], {});\n",
              "    }\n",
              "    (() => {\n",
              "      let quickchartButtonEl =\n",
              "        document.querySelector('#df-3355ba05-6e9f-474b-8770-0c3d46bfef1b button');\n",
              "      quickchartButtonEl.style.display =\n",
              "        google.colab.kernel.accessAllowed ? 'block' : 'none';\n",
              "    })();\n",
              "  </script>\n",
              "</div>\n",
              "    </div>\n",
              "  </div>\n"
            ]
          },
          "metadata": {},
          "execution_count": 3
        }
      ]
    },
    {
      "cell_type": "code",
      "metadata": {
        "colab": {
          "base_uri": "https://localhost:8080/",
          "height": 0
        },
        "id": "FDJTiftYSPGj",
        "outputId": "a2e884a2-1cac-4f6a-dd41-b951c6ba640c"
      },
      "source": [
        "# Data is every 10 minutes, this counts by 6 to give us every hour\n",
        "df = df[5::6]\n",
        "df"
      ],
      "execution_count": 4,
      "outputs": [
        {
          "output_type": "execute_result",
          "data": {
            "text/plain": [
              "                  Date Time  p (mbar)  T (degC)  Tpot (K)  Tdew (degC)  \\\n",
              "5       01.01.2009 01:00:00    996.50     -8.05    265.38        -8.78   \n",
              "11      01.01.2009 02:00:00    996.62     -8.88    264.54        -9.77   \n",
              "17      01.01.2009 03:00:00    996.84     -8.81    264.59        -9.66   \n",
              "23      01.01.2009 04:00:00    996.99     -9.05    264.34       -10.02   \n",
              "29      01.01.2009 05:00:00    997.46     -9.63    263.72       -10.65   \n",
              "...                     ...       ...       ...       ...          ...   \n",
              "420521  31.12.2016 19:10:00   1002.18     -0.98    272.01        -5.36   \n",
              "420527  31.12.2016 20:10:00   1001.40     -1.40    271.66        -6.84   \n",
              "420533  31.12.2016 21:10:00   1001.19     -2.75    270.32        -6.90   \n",
              "420539  31.12.2016 22:10:00   1000.65     -2.89    270.22        -7.15   \n",
              "420545  31.12.2016 23:10:00   1000.11     -3.93    269.23        -8.09   \n",
              "\n",
              "        rh (%)  VPmax (mbar)  VPact (mbar)  VPdef (mbar)  sh (g/kg)  \\\n",
              "5        94.40          3.33          3.14          0.19       1.96   \n",
              "11       93.20          3.12          2.90          0.21       1.81   \n",
              "17       93.50          3.13          2.93          0.20       1.83   \n",
              "23       92.60          3.07          2.85          0.23       1.78   \n",
              "29       92.20          2.94          2.71          0.23       1.69   \n",
              "...        ...           ...           ...           ...        ...   \n",
              "420521   72.00          5.69          4.09          1.59       2.54   \n",
              "420527   66.29          5.51          3.65          1.86       2.27   \n",
              "420533   72.90          4.99          3.64          1.35       2.26   \n",
              "420539   72.30          4.93          3.57          1.37       2.22   \n",
              "420545   72.60          4.56          3.31          1.25       2.06   \n",
              "\n",
              "        H2OC (mmol/mol)  rho (g/m**3)  wv (m/s)  max. wv (m/s)  wd (deg)  \n",
              "5                  3.15       1307.86      0.21           0.63     192.7  \n",
              "11                 2.91       1312.25      0.25           0.63     190.3  \n",
              "17                 2.94       1312.18      0.18           0.63     167.2  \n",
              "23                 2.85       1313.61      0.10           0.38     240.0  \n",
              "29                 2.71       1317.19      0.40           0.88     157.0  \n",
              "...                 ...           ...       ...            ...       ...  \n",
              "420521             4.08       1280.70      0.87           1.36     190.6  \n",
              "420527             3.65       1281.87      1.02           1.92     225.4  \n",
              "420533             3.63       1288.02      0.71           1.56     158.7  \n",
              "420539             3.57       1288.03      0.35           0.68     216.7  \n",
              "420545             3.31       1292.41      0.56           1.00     202.6  \n",
              "\n",
              "[70091 rows x 15 columns]"
            ],
            "text/html": [
              "\n",
              "  <div id=\"df-89f188f7-9d81-4c1f-a7c6-275fddd3eabc\" class=\"colab-df-container\">\n",
              "    <div>\n",
              "<style scoped>\n",
              "    .dataframe tbody tr th:only-of-type {\n",
              "        vertical-align: middle;\n",
              "    }\n",
              "\n",
              "    .dataframe tbody tr th {\n",
              "        vertical-align: top;\n",
              "    }\n",
              "\n",
              "    .dataframe thead th {\n",
              "        text-align: right;\n",
              "    }\n",
              "</style>\n",
              "<table border=\"1\" class=\"dataframe\">\n",
              "  <thead>\n",
              "    <tr style=\"text-align: right;\">\n",
              "      <th></th>\n",
              "      <th>Date Time</th>\n",
              "      <th>p (mbar)</th>\n",
              "      <th>T (degC)</th>\n",
              "      <th>Tpot (K)</th>\n",
              "      <th>Tdew (degC)</th>\n",
              "      <th>rh (%)</th>\n",
              "      <th>VPmax (mbar)</th>\n",
              "      <th>VPact (mbar)</th>\n",
              "      <th>VPdef (mbar)</th>\n",
              "      <th>sh (g/kg)</th>\n",
              "      <th>H2OC (mmol/mol)</th>\n",
              "      <th>rho (g/m**3)</th>\n",
              "      <th>wv (m/s)</th>\n",
              "      <th>max. wv (m/s)</th>\n",
              "      <th>wd (deg)</th>\n",
              "    </tr>\n",
              "  </thead>\n",
              "  <tbody>\n",
              "    <tr>\n",
              "      <th>5</th>\n",
              "      <td>01.01.2009 01:00:00</td>\n",
              "      <td>996.50</td>\n",
              "      <td>-8.05</td>\n",
              "      <td>265.38</td>\n",
              "      <td>-8.78</td>\n",
              "      <td>94.40</td>\n",
              "      <td>3.33</td>\n",
              "      <td>3.14</td>\n",
              "      <td>0.19</td>\n",
              "      <td>1.96</td>\n",
              "      <td>3.15</td>\n",
              "      <td>1307.86</td>\n",
              "      <td>0.21</td>\n",
              "      <td>0.63</td>\n",
              "      <td>192.7</td>\n",
              "    </tr>\n",
              "    <tr>\n",
              "      <th>11</th>\n",
              "      <td>01.01.2009 02:00:00</td>\n",
              "      <td>996.62</td>\n",
              "      <td>-8.88</td>\n",
              "      <td>264.54</td>\n",
              "      <td>-9.77</td>\n",
              "      <td>93.20</td>\n",
              "      <td>3.12</td>\n",
              "      <td>2.90</td>\n",
              "      <td>0.21</td>\n",
              "      <td>1.81</td>\n",
              "      <td>2.91</td>\n",
              "      <td>1312.25</td>\n",
              "      <td>0.25</td>\n",
              "      <td>0.63</td>\n",
              "      <td>190.3</td>\n",
              "    </tr>\n",
              "    <tr>\n",
              "      <th>17</th>\n",
              "      <td>01.01.2009 03:00:00</td>\n",
              "      <td>996.84</td>\n",
              "      <td>-8.81</td>\n",
              "      <td>264.59</td>\n",
              "      <td>-9.66</td>\n",
              "      <td>93.50</td>\n",
              "      <td>3.13</td>\n",
              "      <td>2.93</td>\n",
              "      <td>0.20</td>\n",
              "      <td>1.83</td>\n",
              "      <td>2.94</td>\n",
              "      <td>1312.18</td>\n",
              "      <td>0.18</td>\n",
              "      <td>0.63</td>\n",
              "      <td>167.2</td>\n",
              "    </tr>\n",
              "    <tr>\n",
              "      <th>23</th>\n",
              "      <td>01.01.2009 04:00:00</td>\n",
              "      <td>996.99</td>\n",
              "      <td>-9.05</td>\n",
              "      <td>264.34</td>\n",
              "      <td>-10.02</td>\n",
              "      <td>92.60</td>\n",
              "      <td>3.07</td>\n",
              "      <td>2.85</td>\n",
              "      <td>0.23</td>\n",
              "      <td>1.78</td>\n",
              "      <td>2.85</td>\n",
              "      <td>1313.61</td>\n",
              "      <td>0.10</td>\n",
              "      <td>0.38</td>\n",
              "      <td>240.0</td>\n",
              "    </tr>\n",
              "    <tr>\n",
              "      <th>29</th>\n",
              "      <td>01.01.2009 05:00:00</td>\n",
              "      <td>997.46</td>\n",
              "      <td>-9.63</td>\n",
              "      <td>263.72</td>\n",
              "      <td>-10.65</td>\n",
              "      <td>92.20</td>\n",
              "      <td>2.94</td>\n",
              "      <td>2.71</td>\n",
              "      <td>0.23</td>\n",
              "      <td>1.69</td>\n",
              "      <td>2.71</td>\n",
              "      <td>1317.19</td>\n",
              "      <td>0.40</td>\n",
              "      <td>0.88</td>\n",
              "      <td>157.0</td>\n",
              "    </tr>\n",
              "    <tr>\n",
              "      <th>...</th>\n",
              "      <td>...</td>\n",
              "      <td>...</td>\n",
              "      <td>...</td>\n",
              "      <td>...</td>\n",
              "      <td>...</td>\n",
              "      <td>...</td>\n",
              "      <td>...</td>\n",
              "      <td>...</td>\n",
              "      <td>...</td>\n",
              "      <td>...</td>\n",
              "      <td>...</td>\n",
              "      <td>...</td>\n",
              "      <td>...</td>\n",
              "      <td>...</td>\n",
              "      <td>...</td>\n",
              "    </tr>\n",
              "    <tr>\n",
              "      <th>420521</th>\n",
              "      <td>31.12.2016 19:10:00</td>\n",
              "      <td>1002.18</td>\n",
              "      <td>-0.98</td>\n",
              "      <td>272.01</td>\n",
              "      <td>-5.36</td>\n",
              "      <td>72.00</td>\n",
              "      <td>5.69</td>\n",
              "      <td>4.09</td>\n",
              "      <td>1.59</td>\n",
              "      <td>2.54</td>\n",
              "      <td>4.08</td>\n",
              "      <td>1280.70</td>\n",
              "      <td>0.87</td>\n",
              "      <td>1.36</td>\n",
              "      <td>190.6</td>\n",
              "    </tr>\n",
              "    <tr>\n",
              "      <th>420527</th>\n",
              "      <td>31.12.2016 20:10:00</td>\n",
              "      <td>1001.40</td>\n",
              "      <td>-1.40</td>\n",
              "      <td>271.66</td>\n",
              "      <td>-6.84</td>\n",
              "      <td>66.29</td>\n",
              "      <td>5.51</td>\n",
              "      <td>3.65</td>\n",
              "      <td>1.86</td>\n",
              "      <td>2.27</td>\n",
              "      <td>3.65</td>\n",
              "      <td>1281.87</td>\n",
              "      <td>1.02</td>\n",
              "      <td>1.92</td>\n",
              "      <td>225.4</td>\n",
              "    </tr>\n",
              "    <tr>\n",
              "      <th>420533</th>\n",
              "      <td>31.12.2016 21:10:00</td>\n",
              "      <td>1001.19</td>\n",
              "      <td>-2.75</td>\n",
              "      <td>270.32</td>\n",
              "      <td>-6.90</td>\n",
              "      <td>72.90</td>\n",
              "      <td>4.99</td>\n",
              "      <td>3.64</td>\n",
              "      <td>1.35</td>\n",
              "      <td>2.26</td>\n",
              "      <td>3.63</td>\n",
              "      <td>1288.02</td>\n",
              "      <td>0.71</td>\n",
              "      <td>1.56</td>\n",
              "      <td>158.7</td>\n",
              "    </tr>\n",
              "    <tr>\n",
              "      <th>420539</th>\n",
              "      <td>31.12.2016 22:10:00</td>\n",
              "      <td>1000.65</td>\n",
              "      <td>-2.89</td>\n",
              "      <td>270.22</td>\n",
              "      <td>-7.15</td>\n",
              "      <td>72.30</td>\n",
              "      <td>4.93</td>\n",
              "      <td>3.57</td>\n",
              "      <td>1.37</td>\n",
              "      <td>2.22</td>\n",
              "      <td>3.57</td>\n",
              "      <td>1288.03</td>\n",
              "      <td>0.35</td>\n",
              "      <td>0.68</td>\n",
              "      <td>216.7</td>\n",
              "    </tr>\n",
              "    <tr>\n",
              "      <th>420545</th>\n",
              "      <td>31.12.2016 23:10:00</td>\n",
              "      <td>1000.11</td>\n",
              "      <td>-3.93</td>\n",
              "      <td>269.23</td>\n",
              "      <td>-8.09</td>\n",
              "      <td>72.60</td>\n",
              "      <td>4.56</td>\n",
              "      <td>3.31</td>\n",
              "      <td>1.25</td>\n",
              "      <td>2.06</td>\n",
              "      <td>3.31</td>\n",
              "      <td>1292.41</td>\n",
              "      <td>0.56</td>\n",
              "      <td>1.00</td>\n",
              "      <td>202.6</td>\n",
              "    </tr>\n",
              "  </tbody>\n",
              "</table>\n",
              "<p>70091 rows × 15 columns</p>\n",
              "</div>\n",
              "    <div class=\"colab-df-buttons\">\n",
              "\n",
              "  <div class=\"colab-df-container\">\n",
              "    <button class=\"colab-df-convert\" onclick=\"convertToInteractive('df-89f188f7-9d81-4c1f-a7c6-275fddd3eabc')\"\n",
              "            title=\"Convert this dataframe to an interactive table.\"\n",
              "            style=\"display:none;\">\n",
              "\n",
              "  <svg xmlns=\"http://www.w3.org/2000/svg\" height=\"24px\" viewBox=\"0 -960 960 960\">\n",
              "    <path d=\"M120-120v-720h720v720H120Zm60-500h600v-160H180v160Zm220 220h160v-160H400v160Zm0 220h160v-160H400v160ZM180-400h160v-160H180v160Zm440 0h160v-160H620v160ZM180-180h160v-160H180v160Zm440 0h160v-160H620v160Z\"/>\n",
              "  </svg>\n",
              "    </button>\n",
              "\n",
              "  <style>\n",
              "    .colab-df-container {\n",
              "      display:flex;\n",
              "      gap: 12px;\n",
              "    }\n",
              "\n",
              "    .colab-df-convert {\n",
              "      background-color: #E8F0FE;\n",
              "      border: none;\n",
              "      border-radius: 50%;\n",
              "      cursor: pointer;\n",
              "      display: none;\n",
              "      fill: #1967D2;\n",
              "      height: 32px;\n",
              "      padding: 0 0 0 0;\n",
              "      width: 32px;\n",
              "    }\n",
              "\n",
              "    .colab-df-convert:hover {\n",
              "      background-color: #E2EBFA;\n",
              "      box-shadow: 0px 1px 2px rgba(60, 64, 67, 0.3), 0px 1px 3px 1px rgba(60, 64, 67, 0.15);\n",
              "      fill: #174EA6;\n",
              "    }\n",
              "\n",
              "    .colab-df-buttons div {\n",
              "      margin-bottom: 4px;\n",
              "    }\n",
              "\n",
              "    [theme=dark] .colab-df-convert {\n",
              "      background-color: #3B4455;\n",
              "      fill: #D2E3FC;\n",
              "    }\n",
              "\n",
              "    [theme=dark] .colab-df-convert:hover {\n",
              "      background-color: #434B5C;\n",
              "      box-shadow: 0px 1px 3px 1px rgba(0, 0, 0, 0.15);\n",
              "      filter: drop-shadow(0px 1px 2px rgba(0, 0, 0, 0.3));\n",
              "      fill: #FFFFFF;\n",
              "    }\n",
              "  </style>\n",
              "\n",
              "    <script>\n",
              "      const buttonEl =\n",
              "        document.querySelector('#df-89f188f7-9d81-4c1f-a7c6-275fddd3eabc button.colab-df-convert');\n",
              "      buttonEl.style.display =\n",
              "        google.colab.kernel.accessAllowed ? 'block' : 'none';\n",
              "\n",
              "      async function convertToInteractive(key) {\n",
              "        const element = document.querySelector('#df-89f188f7-9d81-4c1f-a7c6-275fddd3eabc');\n",
              "        const dataTable =\n",
              "          await google.colab.kernel.invokeFunction('convertToInteractive',\n",
              "                                                    [key], {});\n",
              "        if (!dataTable) return;\n",
              "\n",
              "        const docLinkHtml = 'Like what you see? Visit the ' +\n",
              "          '<a target=\"_blank\" href=https://colab.research.google.com/notebooks/data_table.ipynb>data table notebook</a>'\n",
              "          + ' to learn more about interactive tables.';\n",
              "        element.innerHTML = '';\n",
              "        dataTable['output_type'] = 'display_data';\n",
              "        await google.colab.output.renderOutput(dataTable, element);\n",
              "        const docLink = document.createElement('div');\n",
              "        docLink.innerHTML = docLinkHtml;\n",
              "        element.appendChild(docLink);\n",
              "      }\n",
              "    </script>\n",
              "  </div>\n",
              "\n",
              "\n",
              "<div id=\"df-1bd49374-266e-42dc-bdc3-a16ac6566640\">\n",
              "  <button class=\"colab-df-quickchart\" onclick=\"quickchart('df-1bd49374-266e-42dc-bdc3-a16ac6566640')\"\n",
              "            title=\"Suggest charts.\"\n",
              "            style=\"display:none;\">\n",
              "\n",
              "<svg xmlns=\"http://www.w3.org/2000/svg\" height=\"24px\"viewBox=\"0 0 24 24\"\n",
              "     width=\"24px\">\n",
              "    <g>\n",
              "        <path d=\"M19 3H5c-1.1 0-2 .9-2 2v14c0 1.1.9 2 2 2h14c1.1 0 2-.9 2-2V5c0-1.1-.9-2-2-2zM9 17H7v-7h2v7zm4 0h-2V7h2v10zm4 0h-2v-4h2v4z\"/>\n",
              "    </g>\n",
              "</svg>\n",
              "  </button>\n",
              "\n",
              "<style>\n",
              "  .colab-df-quickchart {\n",
              "    background-color: #E8F0FE;\n",
              "    border: none;\n",
              "    border-radius: 50%;\n",
              "    cursor: pointer;\n",
              "    display: none;\n",
              "    fill: #1967D2;\n",
              "    height: 32px;\n",
              "    padding: 0 0 0 0;\n",
              "    width: 32px;\n",
              "  }\n",
              "\n",
              "  .colab-df-quickchart:hover {\n",
              "    background-color: #E2EBFA;\n",
              "    box-shadow: 0px 1px 2px rgba(60, 64, 67, 0.3), 0px 1px 3px 1px rgba(60, 64, 67, 0.15);\n",
              "    fill: #174EA6;\n",
              "  }\n",
              "\n",
              "  [theme=dark] .colab-df-quickchart {\n",
              "    background-color: #3B4455;\n",
              "    fill: #D2E3FC;\n",
              "  }\n",
              "\n",
              "  [theme=dark] .colab-df-quickchart:hover {\n",
              "    background-color: #434B5C;\n",
              "    box-shadow: 0px 1px 3px 1px rgba(0, 0, 0, 0.15);\n",
              "    filter: drop-shadow(0px 1px 2px rgba(0, 0, 0, 0.3));\n",
              "    fill: #FFFFFF;\n",
              "  }\n",
              "</style>\n",
              "\n",
              "  <script>\n",
              "    async function quickchart(key) {\n",
              "      const charts = await google.colab.kernel.invokeFunction(\n",
              "          'suggestCharts', [key], {});\n",
              "    }\n",
              "    (() => {\n",
              "      let quickchartButtonEl =\n",
              "        document.querySelector('#df-1bd49374-266e-42dc-bdc3-a16ac6566640 button');\n",
              "      quickchartButtonEl.style.display =\n",
              "        google.colab.kernel.accessAllowed ? 'block' : 'none';\n",
              "    })();\n",
              "  </script>\n",
              "</div>\n",
              "    </div>\n",
              "  </div>\n"
            ]
          },
          "metadata": {},
          "execution_count": 4
        }
      ]
    },
    {
      "cell_type": "code",
      "metadata": {
        "colab": {
          "base_uri": "https://localhost:8080/",
          "height": 0
        },
        "id": "C1MZOKB3Sg0X",
        "outputId": "483cafcf-7736-4973-8cc7-57dd8573a523"
      },
      "source": [
        "df.index = pd.to_datetime(df['Date Time'], format='%d.%m.%Y %H:%M:%S')\n",
        "df[:24]"
      ],
      "execution_count": 5,
      "outputs": [
        {
          "output_type": "execute_result",
          "data": {
            "text/plain": [
              "                               Date Time  p (mbar)  T (degC)  Tpot (K)  \\\n",
              "Date Time                                                                \n",
              "2009-01-01 01:00:00  01.01.2009 01:00:00    996.50     -8.05    265.38   \n",
              "2009-01-01 02:00:00  01.01.2009 02:00:00    996.62     -8.88    264.54   \n",
              "2009-01-01 03:00:00  01.01.2009 03:00:00    996.84     -8.81    264.59   \n",
              "2009-01-01 04:00:00  01.01.2009 04:00:00    996.99     -9.05    264.34   \n",
              "2009-01-01 05:00:00  01.01.2009 05:00:00    997.46     -9.63    263.72   \n",
              "2009-01-01 06:00:00  01.01.2009 06:00:00    997.71     -9.67    263.66   \n",
              "2009-01-01 07:00:00  01.01.2009 07:00:00    998.33     -9.17    264.12   \n",
              "2009-01-01 08:00:00  01.01.2009 08:00:00    999.17     -8.10    265.12   \n",
              "2009-01-01 09:00:00  01.01.2009 09:00:00    999.69     -7.66    265.52   \n",
              "2009-01-01 10:00:00  01.01.2009 10:00:00   1000.27     -7.04    266.10   \n",
              "2009-01-01 11:00:00  01.01.2009 11:00:00   1000.87     -7.41    265.68   \n",
              "2009-01-01 12:00:00  01.01.2009 12:00:00   1000.30     -6.87    266.27   \n",
              "2009-01-01 13:00:00  01.01.2009 13:00:00   1000.03     -5.89    267.27   \n",
              "2009-01-01 14:00:00  01.01.2009 14:00:00    999.81     -5.94    267.24   \n",
              "2009-01-01 15:00:00  01.01.2009 15:00:00    999.88     -5.69    267.48   \n",
              "2009-01-01 16:00:00  01.01.2009 16:00:00    999.94     -5.40    267.76   \n",
              "2009-01-01 17:00:00  01.01.2009 17:00:00   1000.17     -5.37    267.78   \n",
              "2009-01-01 18:00:00  01.01.2009 18:00:00   1000.16     -5.25    267.90   \n",
              "2009-01-01 19:00:00  01.01.2009 19:00:00   1000.22     -5.11    268.03   \n",
              "2009-01-01 20:00:00  01.01.2009 20:00:00   1000.22     -4.90    268.24   \n",
              "2009-01-01 21:00:00  01.01.2009 21:00:00   1000.19     -4.80    268.35   \n",
              "2009-01-01 22:00:00  01.01.2009 22:00:00   1000.00     -4.50    268.66   \n",
              "2009-01-01 23:00:00  01.01.2009 23:00:00    999.77     -4.47    268.71   \n",
              "2009-01-02 00:00:00  02.01.2009 00:00:00    999.59     -4.54    268.65   \n",
              "\n",
              "                     Tdew (degC)  rh (%)  VPmax (mbar)  VPact (mbar)  \\\n",
              "Date Time                                                              \n",
              "2009-01-01 01:00:00        -8.78    94.4          3.33          3.14   \n",
              "2009-01-01 02:00:00        -9.77    93.2          3.12          2.90   \n",
              "2009-01-01 03:00:00        -9.66    93.5          3.13          2.93   \n",
              "2009-01-01 04:00:00       -10.02    92.6          3.07          2.85   \n",
              "2009-01-01 05:00:00       -10.65    92.2          2.94          2.71   \n",
              "2009-01-01 06:00:00       -10.62    92.7          2.93          2.71   \n",
              "2009-01-01 07:00:00       -10.10    92.9          3.04          2.83   \n",
              "2009-01-01 08:00:00        -9.05    92.8          3.31          3.07   \n",
              "2009-01-01 09:00:00        -8.84    91.2          3.43          3.13   \n",
              "2009-01-01 10:00:00        -8.17    91.6          3.60          3.30   \n",
              "2009-01-01 11:00:00        -8.66    90.7          3.50          3.17   \n",
              "2009-01-01 12:00:00        -8.28    89.6          3.64          3.27   \n",
              "2009-01-01 13:00:00        -7.46    88.6          3.93          3.48   \n",
              "2009-01-01 14:00:00        -7.43    89.1          3.92          3.49   \n",
              "2009-01-01 15:00:00        -7.00    90.4          3.99          3.61   \n",
              "2009-01-01 16:00:00        -6.86    89.4          4.08          3.65   \n",
              "2009-01-01 17:00:00        -6.82    89.4          4.09          3.66   \n",
              "2009-01-01 18:00:00        -6.75    89.1          4.13          3.68   \n",
              "2009-01-01 19:00:00        -6.57    89.4          4.17          3.73   \n",
              "2009-01-01 20:00:00        -6.38    89.3          4.24          3.79   \n",
              "2009-01-01 21:00:00        -6.14    90.2          4.27          3.85   \n",
              "2009-01-01 22:00:00        -5.82    90.4          4.37          3.95   \n",
              "2009-01-01 23:00:00        -5.84    90.1          4.38          3.95   \n",
              "2009-01-02 00:00:00        -5.46    93.2          4.36          4.06   \n",
              "\n",
              "                     VPdef (mbar)  sh (g/kg)  H2OC (mmol/mol)  rho (g/m**3)  \\\n",
              "Date Time                                                                     \n",
              "2009-01-01 01:00:00          0.19       1.96             3.15       1307.86   \n",
              "2009-01-01 02:00:00          0.21       1.81             2.91       1312.25   \n",
              "2009-01-01 03:00:00          0.20       1.83             2.94       1312.18   \n",
              "2009-01-01 04:00:00          0.23       1.78             2.85       1313.61   \n",
              "2009-01-01 05:00:00          0.23       1.69             2.71       1317.19   \n",
              "2009-01-01 06:00:00          0.21       1.69             2.72       1317.71   \n",
              "2009-01-01 07:00:00          0.22       1.76             2.83       1315.98   \n",
              "2009-01-01 08:00:00          0.24       1.92             3.08       1311.65   \n",
              "2009-01-01 09:00:00          0.30       1.95             3.13       1310.14   \n",
              "2009-01-01 10:00:00          0.30       2.05             3.29       1307.76   \n",
              "2009-01-01 11:00:00          0.33       1.97             3.17       1310.43   \n",
              "2009-01-01 12:00:00          0.38       2.03             3.26       1306.98   \n",
              "2009-01-01 13:00:00          0.45       2.17             3.48       1301.73   \n",
              "2009-01-01 14:00:00          0.43       2.17             3.49       1301.67   \n",
              "2009-01-01 15:00:00          0.38       2.25             3.61       1300.51   \n",
              "2009-01-01 16:00:00          0.43       2.27             3.65       1299.17   \n",
              "2009-01-01 17:00:00          0.43       2.28             3.66       1299.27   \n",
              "2009-01-01 18:00:00          0.45       2.29             3.68       1298.68   \n",
              "2009-01-01 19:00:00          0.44       2.32             3.73       1298.07   \n",
              "2009-01-01 20:00:00          0.45       2.36             3.78       1297.05   \n",
              "2009-01-01 21:00:00          0.42       2.40             3.85       1296.45   \n",
              "2009-01-01 22:00:00          0.42       2.46             3.95       1294.72   \n",
              "2009-01-01 23:00:00          0.43       2.46             3.95       1294.29   \n",
              "2009-01-02 00:00:00          0.30       2.53             4.06       1294.33   \n",
              "\n",
              "                     wv (m/s)  max. wv (m/s)  wd (deg)  \n",
              "Date Time                                               \n",
              "2009-01-01 01:00:00      0.21           0.63     192.7  \n",
              "2009-01-01 02:00:00      0.25           0.63     190.3  \n",
              "2009-01-01 03:00:00      0.18           0.63     167.2  \n",
              "2009-01-01 04:00:00      0.10           0.38     240.0  \n",
              "2009-01-01 05:00:00      0.40           0.88     157.0  \n",
              "2009-01-01 06:00:00      0.05           0.50     146.0  \n",
              "2009-01-01 07:00:00      2.08           2.88     348.8  \n",
              "2009-01-01 08:00:00      0.72           1.25     213.9  \n",
              "2009-01-01 09:00:00      0.34           0.63     202.2  \n",
              "2009-01-01 10:00:00      1.45           3.00     292.6  \n",
              "2009-01-01 11:00:00      1.91           3.38     269.6  \n",
              "2009-01-01 12:00:00      1.84           2.63     184.4  \n",
              "2009-01-01 13:00:00      0.57           1.25     187.3  \n",
              "2009-01-01 14:00:00      1.25           2.00     144.0  \n",
              "2009-01-01 15:00:00      1.17           1.88     134.9  \n",
              "2009-01-01 16:00:00      1.40           2.13     145.5  \n",
              "2009-01-01 17:00:00      0.85           1.63     142.2  \n",
              "2009-01-01 18:00:00      0.55           1.00     183.7  \n",
              "2009-01-01 19:00:00      0.41           0.75     176.7  \n",
              "2009-01-01 20:00:00      0.68           1.13     195.2  \n",
              "2009-01-01 21:00:00      0.44           0.75     206.3  \n",
              "2009-01-01 22:00:00      0.33           0.63     175.7  \n",
              "2009-01-01 23:00:00      0.65           1.00     219.3  \n",
              "2009-01-02 00:00:00      0.41           0.88     155.0  "
            ],
            "text/html": [
              "\n",
              "  <div id=\"df-9a518e22-f0a5-44c1-80f6-03efb80f88aa\" class=\"colab-df-container\">\n",
              "    <div>\n",
              "<style scoped>\n",
              "    .dataframe tbody tr th:only-of-type {\n",
              "        vertical-align: middle;\n",
              "    }\n",
              "\n",
              "    .dataframe tbody tr th {\n",
              "        vertical-align: top;\n",
              "    }\n",
              "\n",
              "    .dataframe thead th {\n",
              "        text-align: right;\n",
              "    }\n",
              "</style>\n",
              "<table border=\"1\" class=\"dataframe\">\n",
              "  <thead>\n",
              "    <tr style=\"text-align: right;\">\n",
              "      <th></th>\n",
              "      <th>Date Time</th>\n",
              "      <th>p (mbar)</th>\n",
              "      <th>T (degC)</th>\n",
              "      <th>Tpot (K)</th>\n",
              "      <th>Tdew (degC)</th>\n",
              "      <th>rh (%)</th>\n",
              "      <th>VPmax (mbar)</th>\n",
              "      <th>VPact (mbar)</th>\n",
              "      <th>VPdef (mbar)</th>\n",
              "      <th>sh (g/kg)</th>\n",
              "      <th>H2OC (mmol/mol)</th>\n",
              "      <th>rho (g/m**3)</th>\n",
              "      <th>wv (m/s)</th>\n",
              "      <th>max. wv (m/s)</th>\n",
              "      <th>wd (deg)</th>\n",
              "    </tr>\n",
              "    <tr>\n",
              "      <th>Date Time</th>\n",
              "      <th></th>\n",
              "      <th></th>\n",
              "      <th></th>\n",
              "      <th></th>\n",
              "      <th></th>\n",
              "      <th></th>\n",
              "      <th></th>\n",
              "      <th></th>\n",
              "      <th></th>\n",
              "      <th></th>\n",
              "      <th></th>\n",
              "      <th></th>\n",
              "      <th></th>\n",
              "      <th></th>\n",
              "      <th></th>\n",
              "    </tr>\n",
              "  </thead>\n",
              "  <tbody>\n",
              "    <tr>\n",
              "      <th>2009-01-01 01:00:00</th>\n",
              "      <td>01.01.2009 01:00:00</td>\n",
              "      <td>996.50</td>\n",
              "      <td>-8.05</td>\n",
              "      <td>265.38</td>\n",
              "      <td>-8.78</td>\n",
              "      <td>94.4</td>\n",
              "      <td>3.33</td>\n",
              "      <td>3.14</td>\n",
              "      <td>0.19</td>\n",
              "      <td>1.96</td>\n",
              "      <td>3.15</td>\n",
              "      <td>1307.86</td>\n",
              "      <td>0.21</td>\n",
              "      <td>0.63</td>\n",
              "      <td>192.7</td>\n",
              "    </tr>\n",
              "    <tr>\n",
              "      <th>2009-01-01 02:00:00</th>\n",
              "      <td>01.01.2009 02:00:00</td>\n",
              "      <td>996.62</td>\n",
              "      <td>-8.88</td>\n",
              "      <td>264.54</td>\n",
              "      <td>-9.77</td>\n",
              "      <td>93.2</td>\n",
              "      <td>3.12</td>\n",
              "      <td>2.90</td>\n",
              "      <td>0.21</td>\n",
              "      <td>1.81</td>\n",
              "      <td>2.91</td>\n",
              "      <td>1312.25</td>\n",
              "      <td>0.25</td>\n",
              "      <td>0.63</td>\n",
              "      <td>190.3</td>\n",
              "    </tr>\n",
              "    <tr>\n",
              "      <th>2009-01-01 03:00:00</th>\n",
              "      <td>01.01.2009 03:00:00</td>\n",
              "      <td>996.84</td>\n",
              "      <td>-8.81</td>\n",
              "      <td>264.59</td>\n",
              "      <td>-9.66</td>\n",
              "      <td>93.5</td>\n",
              "      <td>3.13</td>\n",
              "      <td>2.93</td>\n",
              "      <td>0.20</td>\n",
              "      <td>1.83</td>\n",
              "      <td>2.94</td>\n",
              "      <td>1312.18</td>\n",
              "      <td>0.18</td>\n",
              "      <td>0.63</td>\n",
              "      <td>167.2</td>\n",
              "    </tr>\n",
              "    <tr>\n",
              "      <th>2009-01-01 04:00:00</th>\n",
              "      <td>01.01.2009 04:00:00</td>\n",
              "      <td>996.99</td>\n",
              "      <td>-9.05</td>\n",
              "      <td>264.34</td>\n",
              "      <td>-10.02</td>\n",
              "      <td>92.6</td>\n",
              "      <td>3.07</td>\n",
              "      <td>2.85</td>\n",
              "      <td>0.23</td>\n",
              "      <td>1.78</td>\n",
              "      <td>2.85</td>\n",
              "      <td>1313.61</td>\n",
              "      <td>0.10</td>\n",
              "      <td>0.38</td>\n",
              "      <td>240.0</td>\n",
              "    </tr>\n",
              "    <tr>\n",
              "      <th>2009-01-01 05:00:00</th>\n",
              "      <td>01.01.2009 05:00:00</td>\n",
              "      <td>997.46</td>\n",
              "      <td>-9.63</td>\n",
              "      <td>263.72</td>\n",
              "      <td>-10.65</td>\n",
              "      <td>92.2</td>\n",
              "      <td>2.94</td>\n",
              "      <td>2.71</td>\n",
              "      <td>0.23</td>\n",
              "      <td>1.69</td>\n",
              "      <td>2.71</td>\n",
              "      <td>1317.19</td>\n",
              "      <td>0.40</td>\n",
              "      <td>0.88</td>\n",
              "      <td>157.0</td>\n",
              "    </tr>\n",
              "    <tr>\n",
              "      <th>2009-01-01 06:00:00</th>\n",
              "      <td>01.01.2009 06:00:00</td>\n",
              "      <td>997.71</td>\n",
              "      <td>-9.67</td>\n",
              "      <td>263.66</td>\n",
              "      <td>-10.62</td>\n",
              "      <td>92.7</td>\n",
              "      <td>2.93</td>\n",
              "      <td>2.71</td>\n",
              "      <td>0.21</td>\n",
              "      <td>1.69</td>\n",
              "      <td>2.72</td>\n",
              "      <td>1317.71</td>\n",
              "      <td>0.05</td>\n",
              "      <td>0.50</td>\n",
              "      <td>146.0</td>\n",
              "    </tr>\n",
              "    <tr>\n",
              "      <th>2009-01-01 07:00:00</th>\n",
              "      <td>01.01.2009 07:00:00</td>\n",
              "      <td>998.33</td>\n",
              "      <td>-9.17</td>\n",
              "      <td>264.12</td>\n",
              "      <td>-10.10</td>\n",
              "      <td>92.9</td>\n",
              "      <td>3.04</td>\n",
              "      <td>2.83</td>\n",
              "      <td>0.22</td>\n",
              "      <td>1.76</td>\n",
              "      <td>2.83</td>\n",
              "      <td>1315.98</td>\n",
              "      <td>2.08</td>\n",
              "      <td>2.88</td>\n",
              "      <td>348.8</td>\n",
              "    </tr>\n",
              "    <tr>\n",
              "      <th>2009-01-01 08:00:00</th>\n",
              "      <td>01.01.2009 08:00:00</td>\n",
              "      <td>999.17</td>\n",
              "      <td>-8.10</td>\n",
              "      <td>265.12</td>\n",
              "      <td>-9.05</td>\n",
              "      <td>92.8</td>\n",
              "      <td>3.31</td>\n",
              "      <td>3.07</td>\n",
              "      <td>0.24</td>\n",
              "      <td>1.92</td>\n",
              "      <td>3.08</td>\n",
              "      <td>1311.65</td>\n",
              "      <td>0.72</td>\n",
              "      <td>1.25</td>\n",
              "      <td>213.9</td>\n",
              "    </tr>\n",
              "    <tr>\n",
              "      <th>2009-01-01 09:00:00</th>\n",
              "      <td>01.01.2009 09:00:00</td>\n",
              "      <td>999.69</td>\n",
              "      <td>-7.66</td>\n",
              "      <td>265.52</td>\n",
              "      <td>-8.84</td>\n",
              "      <td>91.2</td>\n",
              "      <td>3.43</td>\n",
              "      <td>3.13</td>\n",
              "      <td>0.30</td>\n",
              "      <td>1.95</td>\n",
              "      <td>3.13</td>\n",
              "      <td>1310.14</td>\n",
              "      <td>0.34</td>\n",
              "      <td>0.63</td>\n",
              "      <td>202.2</td>\n",
              "    </tr>\n",
              "    <tr>\n",
              "      <th>2009-01-01 10:00:00</th>\n",
              "      <td>01.01.2009 10:00:00</td>\n",
              "      <td>1000.27</td>\n",
              "      <td>-7.04</td>\n",
              "      <td>266.10</td>\n",
              "      <td>-8.17</td>\n",
              "      <td>91.6</td>\n",
              "      <td>3.60</td>\n",
              "      <td>3.30</td>\n",
              "      <td>0.30</td>\n",
              "      <td>2.05</td>\n",
              "      <td>3.29</td>\n",
              "      <td>1307.76</td>\n",
              "      <td>1.45</td>\n",
              "      <td>3.00</td>\n",
              "      <td>292.6</td>\n",
              "    </tr>\n",
              "    <tr>\n",
              "      <th>2009-01-01 11:00:00</th>\n",
              "      <td>01.01.2009 11:00:00</td>\n",
              "      <td>1000.87</td>\n",
              "      <td>-7.41</td>\n",
              "      <td>265.68</td>\n",
              "      <td>-8.66</td>\n",
              "      <td>90.7</td>\n",
              "      <td>3.50</td>\n",
              "      <td>3.17</td>\n",
              "      <td>0.33</td>\n",
              "      <td>1.97</td>\n",
              "      <td>3.17</td>\n",
              "      <td>1310.43</td>\n",
              "      <td>1.91</td>\n",
              "      <td>3.38</td>\n",
              "      <td>269.6</td>\n",
              "    </tr>\n",
              "    <tr>\n",
              "      <th>2009-01-01 12:00:00</th>\n",
              "      <td>01.01.2009 12:00:00</td>\n",
              "      <td>1000.30</td>\n",
              "      <td>-6.87</td>\n",
              "      <td>266.27</td>\n",
              "      <td>-8.28</td>\n",
              "      <td>89.6</td>\n",
              "      <td>3.64</td>\n",
              "      <td>3.27</td>\n",
              "      <td>0.38</td>\n",
              "      <td>2.03</td>\n",
              "      <td>3.26</td>\n",
              "      <td>1306.98</td>\n",
              "      <td>1.84</td>\n",
              "      <td>2.63</td>\n",
              "      <td>184.4</td>\n",
              "    </tr>\n",
              "    <tr>\n",
              "      <th>2009-01-01 13:00:00</th>\n",
              "      <td>01.01.2009 13:00:00</td>\n",
              "      <td>1000.03</td>\n",
              "      <td>-5.89</td>\n",
              "      <td>267.27</td>\n",
              "      <td>-7.46</td>\n",
              "      <td>88.6</td>\n",
              "      <td>3.93</td>\n",
              "      <td>3.48</td>\n",
              "      <td>0.45</td>\n",
              "      <td>2.17</td>\n",
              "      <td>3.48</td>\n",
              "      <td>1301.73</td>\n",
              "      <td>0.57</td>\n",
              "      <td>1.25</td>\n",
              "      <td>187.3</td>\n",
              "    </tr>\n",
              "    <tr>\n",
              "      <th>2009-01-01 14:00:00</th>\n",
              "      <td>01.01.2009 14:00:00</td>\n",
              "      <td>999.81</td>\n",
              "      <td>-5.94</td>\n",
              "      <td>267.24</td>\n",
              "      <td>-7.43</td>\n",
              "      <td>89.1</td>\n",
              "      <td>3.92</td>\n",
              "      <td>3.49</td>\n",
              "      <td>0.43</td>\n",
              "      <td>2.17</td>\n",
              "      <td>3.49</td>\n",
              "      <td>1301.67</td>\n",
              "      <td>1.25</td>\n",
              "      <td>2.00</td>\n",
              "      <td>144.0</td>\n",
              "    </tr>\n",
              "    <tr>\n",
              "      <th>2009-01-01 15:00:00</th>\n",
              "      <td>01.01.2009 15:00:00</td>\n",
              "      <td>999.88</td>\n",
              "      <td>-5.69</td>\n",
              "      <td>267.48</td>\n",
              "      <td>-7.00</td>\n",
              "      <td>90.4</td>\n",
              "      <td>3.99</td>\n",
              "      <td>3.61</td>\n",
              "      <td>0.38</td>\n",
              "      <td>2.25</td>\n",
              "      <td>3.61</td>\n",
              "      <td>1300.51</td>\n",
              "      <td>1.17</td>\n",
              "      <td>1.88</td>\n",
              "      <td>134.9</td>\n",
              "    </tr>\n",
              "    <tr>\n",
              "      <th>2009-01-01 16:00:00</th>\n",
              "      <td>01.01.2009 16:00:00</td>\n",
              "      <td>999.94</td>\n",
              "      <td>-5.40</td>\n",
              "      <td>267.76</td>\n",
              "      <td>-6.86</td>\n",
              "      <td>89.4</td>\n",
              "      <td>4.08</td>\n",
              "      <td>3.65</td>\n",
              "      <td>0.43</td>\n",
              "      <td>2.27</td>\n",
              "      <td>3.65</td>\n",
              "      <td>1299.17</td>\n",
              "      <td>1.40</td>\n",
              "      <td>2.13</td>\n",
              "      <td>145.5</td>\n",
              "    </tr>\n",
              "    <tr>\n",
              "      <th>2009-01-01 17:00:00</th>\n",
              "      <td>01.01.2009 17:00:00</td>\n",
              "      <td>1000.17</td>\n",
              "      <td>-5.37</td>\n",
              "      <td>267.78</td>\n",
              "      <td>-6.82</td>\n",
              "      <td>89.4</td>\n",
              "      <td>4.09</td>\n",
              "      <td>3.66</td>\n",
              "      <td>0.43</td>\n",
              "      <td>2.28</td>\n",
              "      <td>3.66</td>\n",
              "      <td>1299.27</td>\n",
              "      <td>0.85</td>\n",
              "      <td>1.63</td>\n",
              "      <td>142.2</td>\n",
              "    </tr>\n",
              "    <tr>\n",
              "      <th>2009-01-01 18:00:00</th>\n",
              "      <td>01.01.2009 18:00:00</td>\n",
              "      <td>1000.16</td>\n",
              "      <td>-5.25</td>\n",
              "      <td>267.90</td>\n",
              "      <td>-6.75</td>\n",
              "      <td>89.1</td>\n",
              "      <td>4.13</td>\n",
              "      <td>3.68</td>\n",
              "      <td>0.45</td>\n",
              "      <td>2.29</td>\n",
              "      <td>3.68</td>\n",
              "      <td>1298.68</td>\n",
              "      <td>0.55</td>\n",
              "      <td>1.00</td>\n",
              "      <td>183.7</td>\n",
              "    </tr>\n",
              "    <tr>\n",
              "      <th>2009-01-01 19:00:00</th>\n",
              "      <td>01.01.2009 19:00:00</td>\n",
              "      <td>1000.22</td>\n",
              "      <td>-5.11</td>\n",
              "      <td>268.03</td>\n",
              "      <td>-6.57</td>\n",
              "      <td>89.4</td>\n",
              "      <td>4.17</td>\n",
              "      <td>3.73</td>\n",
              "      <td>0.44</td>\n",
              "      <td>2.32</td>\n",
              "      <td>3.73</td>\n",
              "      <td>1298.07</td>\n",
              "      <td>0.41</td>\n",
              "      <td>0.75</td>\n",
              "      <td>176.7</td>\n",
              "    </tr>\n",
              "    <tr>\n",
              "      <th>2009-01-01 20:00:00</th>\n",
              "      <td>01.01.2009 20:00:00</td>\n",
              "      <td>1000.22</td>\n",
              "      <td>-4.90</td>\n",
              "      <td>268.24</td>\n",
              "      <td>-6.38</td>\n",
              "      <td>89.3</td>\n",
              "      <td>4.24</td>\n",
              "      <td>3.79</td>\n",
              "      <td>0.45</td>\n",
              "      <td>2.36</td>\n",
              "      <td>3.78</td>\n",
              "      <td>1297.05</td>\n",
              "      <td>0.68</td>\n",
              "      <td>1.13</td>\n",
              "      <td>195.2</td>\n",
              "    </tr>\n",
              "    <tr>\n",
              "      <th>2009-01-01 21:00:00</th>\n",
              "      <td>01.01.2009 21:00:00</td>\n",
              "      <td>1000.19</td>\n",
              "      <td>-4.80</td>\n",
              "      <td>268.35</td>\n",
              "      <td>-6.14</td>\n",
              "      <td>90.2</td>\n",
              "      <td>4.27</td>\n",
              "      <td>3.85</td>\n",
              "      <td>0.42</td>\n",
              "      <td>2.40</td>\n",
              "      <td>3.85</td>\n",
              "      <td>1296.45</td>\n",
              "      <td>0.44</td>\n",
              "      <td>0.75</td>\n",
              "      <td>206.3</td>\n",
              "    </tr>\n",
              "    <tr>\n",
              "      <th>2009-01-01 22:00:00</th>\n",
              "      <td>01.01.2009 22:00:00</td>\n",
              "      <td>1000.00</td>\n",
              "      <td>-4.50</td>\n",
              "      <td>268.66</td>\n",
              "      <td>-5.82</td>\n",
              "      <td>90.4</td>\n",
              "      <td>4.37</td>\n",
              "      <td>3.95</td>\n",
              "      <td>0.42</td>\n",
              "      <td>2.46</td>\n",
              "      <td>3.95</td>\n",
              "      <td>1294.72</td>\n",
              "      <td>0.33</td>\n",
              "      <td>0.63</td>\n",
              "      <td>175.7</td>\n",
              "    </tr>\n",
              "    <tr>\n",
              "      <th>2009-01-01 23:00:00</th>\n",
              "      <td>01.01.2009 23:00:00</td>\n",
              "      <td>999.77</td>\n",
              "      <td>-4.47</td>\n",
              "      <td>268.71</td>\n",
              "      <td>-5.84</td>\n",
              "      <td>90.1</td>\n",
              "      <td>4.38</td>\n",
              "      <td>3.95</td>\n",
              "      <td>0.43</td>\n",
              "      <td>2.46</td>\n",
              "      <td>3.95</td>\n",
              "      <td>1294.29</td>\n",
              "      <td>0.65</td>\n",
              "      <td>1.00</td>\n",
              "      <td>219.3</td>\n",
              "    </tr>\n",
              "    <tr>\n",
              "      <th>2009-01-02 00:00:00</th>\n",
              "      <td>02.01.2009 00:00:00</td>\n",
              "      <td>999.59</td>\n",
              "      <td>-4.54</td>\n",
              "      <td>268.65</td>\n",
              "      <td>-5.46</td>\n",
              "      <td>93.2</td>\n",
              "      <td>4.36</td>\n",
              "      <td>4.06</td>\n",
              "      <td>0.30</td>\n",
              "      <td>2.53</td>\n",
              "      <td>4.06</td>\n",
              "      <td>1294.33</td>\n",
              "      <td>0.41</td>\n",
              "      <td>0.88</td>\n",
              "      <td>155.0</td>\n",
              "    </tr>\n",
              "  </tbody>\n",
              "</table>\n",
              "</div>\n",
              "    <div class=\"colab-df-buttons\">\n",
              "\n",
              "  <div class=\"colab-df-container\">\n",
              "    <button class=\"colab-df-convert\" onclick=\"convertToInteractive('df-9a518e22-f0a5-44c1-80f6-03efb80f88aa')\"\n",
              "            title=\"Convert this dataframe to an interactive table.\"\n",
              "            style=\"display:none;\">\n",
              "\n",
              "  <svg xmlns=\"http://www.w3.org/2000/svg\" height=\"24px\" viewBox=\"0 -960 960 960\">\n",
              "    <path d=\"M120-120v-720h720v720H120Zm60-500h600v-160H180v160Zm220 220h160v-160H400v160Zm0 220h160v-160H400v160ZM180-400h160v-160H180v160Zm440 0h160v-160H620v160ZM180-180h160v-160H180v160Zm440 0h160v-160H620v160Z\"/>\n",
              "  </svg>\n",
              "    </button>\n",
              "\n",
              "  <style>\n",
              "    .colab-df-container {\n",
              "      display:flex;\n",
              "      gap: 12px;\n",
              "    }\n",
              "\n",
              "    .colab-df-convert {\n",
              "      background-color: #E8F0FE;\n",
              "      border: none;\n",
              "      border-radius: 50%;\n",
              "      cursor: pointer;\n",
              "      display: none;\n",
              "      fill: #1967D2;\n",
              "      height: 32px;\n",
              "      padding: 0 0 0 0;\n",
              "      width: 32px;\n",
              "    }\n",
              "\n",
              "    .colab-df-convert:hover {\n",
              "      background-color: #E2EBFA;\n",
              "      box-shadow: 0px 1px 2px rgba(60, 64, 67, 0.3), 0px 1px 3px 1px rgba(60, 64, 67, 0.15);\n",
              "      fill: #174EA6;\n",
              "    }\n",
              "\n",
              "    .colab-df-buttons div {\n",
              "      margin-bottom: 4px;\n",
              "    }\n",
              "\n",
              "    [theme=dark] .colab-df-convert {\n",
              "      background-color: #3B4455;\n",
              "      fill: #D2E3FC;\n",
              "    }\n",
              "\n",
              "    [theme=dark] .colab-df-convert:hover {\n",
              "      background-color: #434B5C;\n",
              "      box-shadow: 0px 1px 3px 1px rgba(0, 0, 0, 0.15);\n",
              "      filter: drop-shadow(0px 1px 2px rgba(0, 0, 0, 0.3));\n",
              "      fill: #FFFFFF;\n",
              "    }\n",
              "  </style>\n",
              "\n",
              "    <script>\n",
              "      const buttonEl =\n",
              "        document.querySelector('#df-9a518e22-f0a5-44c1-80f6-03efb80f88aa button.colab-df-convert');\n",
              "      buttonEl.style.display =\n",
              "        google.colab.kernel.accessAllowed ? 'block' : 'none';\n",
              "\n",
              "      async function convertToInteractive(key) {\n",
              "        const element = document.querySelector('#df-9a518e22-f0a5-44c1-80f6-03efb80f88aa');\n",
              "        const dataTable =\n",
              "          await google.colab.kernel.invokeFunction('convertToInteractive',\n",
              "                                                    [key], {});\n",
              "        if (!dataTable) return;\n",
              "\n",
              "        const docLinkHtml = 'Like what you see? Visit the ' +\n",
              "          '<a target=\"_blank\" href=https://colab.research.google.com/notebooks/data_table.ipynb>data table notebook</a>'\n",
              "          + ' to learn more about interactive tables.';\n",
              "        element.innerHTML = '';\n",
              "        dataTable['output_type'] = 'display_data';\n",
              "        await google.colab.output.renderOutput(dataTable, element);\n",
              "        const docLink = document.createElement('div');\n",
              "        docLink.innerHTML = docLinkHtml;\n",
              "        element.appendChild(docLink);\n",
              "      }\n",
              "    </script>\n",
              "  </div>\n",
              "\n",
              "\n",
              "<div id=\"df-cd7f3c58-d181-412e-87a4-019df410c8a3\">\n",
              "  <button class=\"colab-df-quickchart\" onclick=\"quickchart('df-cd7f3c58-d181-412e-87a4-019df410c8a3')\"\n",
              "            title=\"Suggest charts.\"\n",
              "            style=\"display:none;\">\n",
              "\n",
              "<svg xmlns=\"http://www.w3.org/2000/svg\" height=\"24px\"viewBox=\"0 0 24 24\"\n",
              "     width=\"24px\">\n",
              "    <g>\n",
              "        <path d=\"M19 3H5c-1.1 0-2 .9-2 2v14c0 1.1.9 2 2 2h14c1.1 0 2-.9 2-2V5c0-1.1-.9-2-2-2zM9 17H7v-7h2v7zm4 0h-2V7h2v10zm4 0h-2v-4h2v4z\"/>\n",
              "    </g>\n",
              "</svg>\n",
              "  </button>\n",
              "\n",
              "<style>\n",
              "  .colab-df-quickchart {\n",
              "    background-color: #E8F0FE;\n",
              "    border: none;\n",
              "    border-radius: 50%;\n",
              "    cursor: pointer;\n",
              "    display: none;\n",
              "    fill: #1967D2;\n",
              "    height: 32px;\n",
              "    padding: 0 0 0 0;\n",
              "    width: 32px;\n",
              "  }\n",
              "\n",
              "  .colab-df-quickchart:hover {\n",
              "    background-color: #E2EBFA;\n",
              "    box-shadow: 0px 1px 2px rgba(60, 64, 67, 0.3), 0px 1px 3px 1px rgba(60, 64, 67, 0.15);\n",
              "    fill: #174EA6;\n",
              "  }\n",
              "\n",
              "  [theme=dark] .colab-df-quickchart {\n",
              "    background-color: #3B4455;\n",
              "    fill: #D2E3FC;\n",
              "  }\n",
              "\n",
              "  [theme=dark] .colab-df-quickchart:hover {\n",
              "    background-color: #434B5C;\n",
              "    box-shadow: 0px 1px 3px 1px rgba(0, 0, 0, 0.15);\n",
              "    filter: drop-shadow(0px 1px 2px rgba(0, 0, 0, 0.3));\n",
              "    fill: #FFFFFF;\n",
              "  }\n",
              "</style>\n",
              "\n",
              "  <script>\n",
              "    async function quickchart(key) {\n",
              "      const charts = await google.colab.kernel.invokeFunction(\n",
              "          'suggestCharts', [key], {});\n",
              "    }\n",
              "    (() => {\n",
              "      let quickchartButtonEl =\n",
              "        document.querySelector('#df-cd7f3c58-d181-412e-87a4-019df410c8a3 button');\n",
              "      quickchartButtonEl.style.display =\n",
              "        google.colab.kernel.accessAllowed ? 'block' : 'none';\n",
              "    })();\n",
              "  </script>\n",
              "</div>\n",
              "    </div>\n",
              "  </div>\n"
            ]
          },
          "metadata": {},
          "execution_count": 5
        }
      ]
    },
    {
      "cell_type": "code",
      "metadata": {
        "colab": {
          "base_uri": "https://localhost:8080/",
          "height": 0
        },
        "id": "3fWZ3nYxS3oe",
        "outputId": "212fc8f4-db6c-4c58-fcfa-17d271d479f3"
      },
      "source": [
        "temp = df['T (degC)']\n",
        "temp.plot()"
      ],
      "execution_count": 6,
      "outputs": [
        {
          "output_type": "execute_result",
          "data": {
            "text/plain": [
              "<Axes: xlabel='Date Time'>"
            ]
          },
          "metadata": {},
          "execution_count": 6
        },
        {
          "output_type": "display_data",
          "data": {
            "text/plain": [
              "<Figure size 640x480 with 1 Axes>"
            ],
            "image/png": "[encoded data removed]"
          },
          "metadata": {}
        }
      ]
    },
    {
      "cell_type": "code",
      "metadata": {
        "id": "bY2yEu2QTBXP"
      },
      "source": [
        "# Window[x]         Prediction[y]\n",
        "# [[[1], [2], [3], [4], [5]]] [6]\n",
        "# [[[2], [3], [4], [5], [6]]] [7]\n",
        "# [[[3], [4], [5], [6], [7]]] [8]\n",
        "\n",
        "def df_to_X_y(df, window_size=5):\n",
        "  df_as_np = df.to_numpy()\n",
        "  X = []\n",
        "  y = []\n",
        "  for i in range(len(df_as_np)-window_size):\n",
        "    row = [[a] for a in df_as_np[i:i+window_size]]\n",
        "    X.append(row)\n",
        "    label = df_as_np[i+window_size]\n",
        "    y.append(label)\n",
        "  return np.array(X), np.array(y)"
      ],
      "execution_count": 7,
      "outputs": []
    },
    {
      "cell_type": "code",
      "metadata": {
        "colab": {
          "base_uri": "https://localhost:8080/"
        },
        "id": "qhGUH0NoV9Zq",
        "outputId": "26c517fa-73d1-427c-dd1f-7a201c7c4475"
      },
      "source": [
        "WINDOW_SIZE = 5\n",
        "X1, y1 = df_to_X_y(temp, WINDOW_SIZE)\n",
        "X1.shape, y1.shape"
      ],
      "execution_count": 8,
      "outputs": [
        {
          "output_type": "execute_result",
          "data": {
            "text/plain": [
              "((70086, 5, 1), (70086,))"
            ]
          },
          "metadata": {},
          "execution_count": 8
        }
      ]
    },
    {
      "cell_type": "code",
      "metadata": {
        "colab": {
          "base_uri": "https://localhost:8080/"
        },
        "id": "Vsy2-BjnWMhB",
        "outputId": "7b07a33c-a8d9-4357-824f-8346c6690d15"
      },
      "source": [
        "X_train1, y_train1 = X1[:60000], y1[:60000]\n",
        "X_val1, y_val1 = X1[60000:65000], y1[60000:65000]\n",
        "X_test1, y_test1 = X1[65000:], y1[65000:]\n",
        "X_train1.shape, y_train1.shape, X_val1.shape, y_val1.shape, X_test1.shape, y_test1.shape"
      ],
      "execution_count": 9,
      "outputs": [
        {
          "output_type": "execute_result",
          "data": {
            "text/plain": [
              "((60000, 5, 1), (60000,), (5000, 5, 1), (5000,), (5086, 5, 1), (5086,))"
            ]
          },
          "metadata": {},
          "execution_count": 9
        }
      ]
    },
    {
      "cell_type": "code",
      "metadata": {
        "colab": {
          "base_uri": "https://localhost:8080/"
        },
        "id": "4jZz4ZjpW217",
        "outputId": "28f92916-b5eb-4b6b-94a1-47d4b4bf16e2"
      },
      "source": [
        "from tensorflow.keras.models import Sequential\n",
        "from tensorflow.keras.layers import *\n",
        "from tensorflow.keras.callbacks import ModelCheckpoint\n",
        "from tensorflow.keras.losses import MeanSquaredError\n",
        "from tensorflow.keras.metrics import RootMeanSquaredError\n",
        "from tensorflow.keras.optimizers import Adam\n",
        "\n",
        "model1 = Sequential()\n",
        "model1.add(InputLayer((5, 1)))\n",
        "model1.add(LSTM(64))\n",
        "model1.add(Dense(8, 'relu'))\n",
        "model1.add(Dense(1, 'linear'))\n",
        "\n",
        "model1.summary()"
      ],
      "execution_count": 10,
      "outputs": [
        {
          "output_type": "stream",
          "name": "stdout",
          "text": [
            "Model: \"sequential\"\n",
            "_________________________________________________________________\n",
            " Layer (type)                Output Shape              Param #   \n",
            "=================================================================\n",
            " lstm (LSTM)                 (None, 64)                16896     \n",
            "                                                                 \n",
            " dense (Dense)               (None, 8)                 520       \n",
            "                                                                 \n",
            " dense_1 (Dense)             (None, 1)                 9         \n",
            "                                                                 \n",
            "=================================================================\n",
            "Total params: 17,425\n",
            "Trainable params: 17,425\n",
            "Non-trainable params: 0\n",
            "_________________________________________________________________\n"
          ]
        }
      ]
    },
    {
      "cell_type": "code",
      "metadata": {
        "id": "5jMK7auDXwEr"
      },
      "source": [
        "cp1 = ModelCheckpoint('model1/', save_best_only=True)\n",
        "model1.compile(loss=MeanSquaredError(), optimizer=Adam(learning_rate=0.0001), metrics=[RootMeanSquaredError()])"
      ],
      "execution_count": 11,
      "outputs": []
    },
    {
      "cell_type": "code",
      "metadata": {
        "id": "CWeSakSwYLtr",
        "colab": {
          "base_uri": "https://localhost:8080/"
        },
        "outputId": "9e54a248-5429-47bf-d0c5-314b1d2d97cf"
      },
      "source": [
        "model1.fit(X_train1, y_train1, validation_data=(X_val1, y_val1), epochs=10, callbacks=[cp1])"
      ],
      "execution_count": 12,
      "outputs": [
        {
          "output_type": "stream",
          "name": "stdout",
          "text": [
            "Epoch 1/10\n",
            "1871/1875 [============================>.] - ETA: 0s - loss: 60.2546 - root_mean_squared_error: 7.7624"
          ]
        },
        {
          "output_type": "stream",
          "name": "stderr",
          "text": [
            "WARNING:absl:Found untraced functions such as _update_step_xla, lstm_cell_layer_call_fn, lstm_cell_layer_call_and_return_conditional_losses while saving (showing 3 of 3). These functions will not be directly callable after loading.\n"
          ]
        },
        {
          "output_type": "stream",
          "name": "stdout",
          "text": [
            "\b\b\b\b\b\b\b\b\b\b\b\b\b\b\b\b\b\b\b\b\b\b\b\b\b\b\b\b\b\b\b\b\b\b\b\b\b\b\b\b\b\b\b\b\b\b\b\b\b\b\b\b\b\b\b\b\b\b\b\b\b\b\b\b\b\b\b\b\b\b\b\b\b\b\b\b\b\b\b\b\b\b\b\b\b\b\b\b\b\b\b\b\b\b\b\b\b\b\b\b\b\b\r1875/1875 [==============================] - 32s 16ms/step - loss: 60.1536 - root_mean_squared_error: 7.7559 - val_loss: 2.7317 - val_root_mean_squared_error: 1.6528\n",
            "Epoch 2/10\n",
            "1870/1875 [============================>.] - ETA: 0s - loss: 5.1280 - root_mean_squared_error: 2.2645"
          ]
        },
        {
          "output_type": "stream",
          "name": "stderr",
          "text": [
            "WARNING:absl:Found untraced functions such as _update_step_xla, lstm_cell_layer_call_fn, lstm_cell_layer_call_and_return_conditional_losses while saving (showing 3 of 3). These functions will not be directly callable after loading.\n"
          ]
        },
        {
          "output_type": "stream",
          "name": "stdout",
          "text": [
            "\b\b\b\b\b\b\b\b\b\b\b\b\b\b\b\b\b\b\b\b\b\b\b\b\b\b\b\b\b\b\b\b\b\b\b\b\b\b\b\b\b\b\b\b\b\b\b\b\b\b\b\b\b\b\b\b\b\b\b\b\b\b\b\b\b\b\b\b\b\b\b\b\b\b\b\b\b\b\b\b\b\b\b\b\b\b\b\b\b\b\b\b\b\b\b\b\b\b\b\b\b\r1875/1875 [==============================] - 16s 9ms/step - loss: 5.1181 - root_mean_squared_error: 2.2623 - val_loss: 0.6899 - val_root_mean_squared_error: 0.8306\n",
            "Epoch 3/10\n",
            "1875/1875 [==============================] - ETA: 0s - loss: 1.3735 - root_mean_squared_error: 1.1720"
          ]
        },
        {
          "output_type": "stream",
          "name": "stderr",
          "text": [
            "WARNING:absl:Found untraced functions such as _update_step_xla, lstm_cell_layer_call_fn, lstm_cell_layer_call_and_return_conditional_losses while saving (showing 3 of 3). These functions will not be directly callable after loading.\n"
          ]
        },
        {
          "output_type": "stream",
          "name": "stdout",
          "text": [
            "\b\b\b\b\b\b\b\b\b\b\b\b\b\b\b\b\b\b\b\b\b\b\b\b\b\b\b\b\b\b\b\b\b\b\b\b\b\b\b\b\b\b\b\b\b\b\b\b\b\b\b\b\b\b\b\b\b\b\b\b\b\b\b\b\b\b\b\b\b\b\b\b\b\b\b\b\b\b\b\b\b\b\b\b\b\b\b\b\b\b\b\b\b\b\b\b\b\b\b\b\b\r1875/1875 [==============================] - 16s 8ms/step - loss: 1.3735 - root_mean_squared_error: 1.1720 - val_loss: 0.5588 - val_root_mean_squared_error: 0.7475\n",
            "Epoch 4/10\n",
            "1875/1875 [==============================] - 12s 6ms/step - loss: 0.8349 - root_mean_squared_error: 0.9137 - val_loss: 0.5840 - val_root_mean_squared_error: 0.7642\n",
            "Epoch 5/10\n",
            "1874/1875 [============================>.] - ETA: 0s - loss: 0.7160 - root_mean_squared_error: 0.8462"
          ]
        },
        {
          "output_type": "stream",
          "name": "stderr",
          "text": [
            "WARNING:absl:Found untraced functions such as _update_step_xla, lstm_cell_layer_call_fn, lstm_cell_layer_call_and_return_conditional_losses while saving (showing 3 of 3). These functions will not be directly callable after loading.\n"
          ]
        },
        {
          "output_type": "stream",
          "name": "stdout",
          "text": [
            "\b\b\b\b\b\b\b\b\b\b\b\b\b\b\b\b\b\b\b\b\b\b\b\b\b\b\b\b\b\b\b\b\b\b\b\b\b\b\b\b\b\b\b\b\b\b\b\b\b\b\b\b\b\b\b\b\b\b\b\b\b\b\b\b\b\b\b\b\b\b\b\b\b\b\b\b\b\b\b\b\b\b\b\b\b\b\b\b\b\b\b\b\b\b\b\b\b\b\b\b\b\r1875/1875 [==============================] - 17s 9ms/step - loss: 0.7159 - root_mean_squared_error: 0.8461 - val_loss: 0.5058 - val_root_mean_squared_error: 0.7112\n",
            "Epoch 6/10\n",
            "1875/1875 [==============================] - 11s 6ms/step - loss: 0.6815 - root_mean_squared_error: 0.8256 - val_loss: 0.5066 - val_root_mean_squared_error: 0.7118\n",
            "Epoch 7/10\n",
            "1874/1875 [============================>.] - ETA: 0s - loss: 0.6666 - root_mean_squared_error: 0.8165"
          ]
        },
        {
          "output_type": "stream",
          "name": "stderr",
          "text": [
            "WARNING:absl:Found untraced functions such as _update_step_xla, lstm_cell_layer_call_fn, lstm_cell_layer_call_and_return_conditional_losses while saving (showing 3 of 3). These functions will not be directly callable after loading.\n"
          ]
        },
        {
          "output_type": "stream",
          "name": "stdout",
          "text": [
            "\b\b\b\b\b\b\b\b\b\b\b\b\b\b\b\b\b\b\b\b\b\b\b\b\b\b\b\b\b\b\b\b\b\b\b\b\b\b\b\b\b\b\b\b\b\b\b\b\b\b\b\b\b\b\b\b\b\b\b\b\b\b\b\b\b\b\b\b\b\b\b\b\b\b\b\b\b\b\b\b\b\b\b\b\b\b\b\b\b\b\b\b\b\b\b\b\b\b\b\b\b\r1875/1875 [==============================] - 22s 12ms/step - loss: 0.6667 - root_mean_squared_error: 0.8165 - val_loss: 0.4964 - val_root_mean_squared_error: 0.7046\n",
            "Epoch 8/10\n",
            "1875/1875 [==============================] - 11s 6ms/step - loss: 0.6593 - root_mean_squared_error: 0.8120 - val_loss: 0.5007 - val_root_mean_squared_error: 0.7076\n",
            "Epoch 9/10\n",
            "1871/1875 [============================>.] - ETA: 0s - loss: 0.6535 - root_mean_squared_error: 0.8084"
          ]
        },
        {
          "output_type": "stream",
          "name": "stderr",
          "text": [
            "WARNING:absl:Found untraced functions such as _update_step_xla, lstm_cell_layer_call_fn, lstm_cell_layer_call_and_return_conditional_losses while saving (showing 3 of 3). These functions will not be directly callable after loading.\n"
          ]
        },
        {
          "output_type": "stream",
          "name": "stdout",
          "text": [
            "\b\b\b\b\b\b\b\b\b\b\b\b\b\b\b\b\b\b\b\b\b\b\b\b\b\b\b\b\b\b\b\b\b\b\b\b\b\b\b\b\b\b\b\b\b\b\b\b\b\b\b\b\b\b\b\b\b\b\b\b\b\b\b\b\b\b\b\b\b\b\b\b\b\b\b\b\b\b\b\b\b\b\b\b\b\b\b\b\b\b\b\b\b\b\b\b\b\b\b\b\b\r1875/1875 [==============================] - 22s 12ms/step - loss: 0.6540 - root_mean_squared_error: 0.8087 - val_loss: 0.4929 - val_root_mean_squared_error: 0.7021\n",
            "Epoch 10/10\n",
            "1875/1875 [==============================] - 12s 7ms/step - loss: 0.6506 - root_mean_squared_error: 0.8066 - val_loss: 0.4981 - val_root_mean_squared_error: 0.7058\n"
          ]
        },
        {
          "output_type": "execute_result",
          "data": {
            "text/plain": [
              "<keras.callbacks.History at 0x7caaf49b12d0>"
            ]
          },
          "metadata": {},
          "execution_count": 12
        }
      ]
    },
    {
      "cell_type": "code",
      "metadata": {
        "id": "vdaqGHG4YZkN"
      },
      "source": [
        "# load the saved model\n",
        "from tensorflow.keras.models import load_model\n",
        "model1 = load_model('model1/')"
      ],
      "execution_count": 13,
      "outputs": []
    },
    {
      "cell_type": "code",
      "metadata": {
        "colab": {
          "base_uri": "https://localhost:8080/",
          "height": 0
        },
        "id": "byObmr8CZRhp",
        "outputId": "def50517-1156-4fa7-cc0b-ec78240d17ec"
      },
      "source": [
        "train_predictions = model1.predict(X_train1).flatten()\n",
        "train_results = pd.DataFrame(data={'Train Predictions':train_predictions, 'Actuals':y_train1})\n",
        "train_results"
      ],
      "execution_count": 14,
      "outputs": [
        {
          "output_type": "stream",
          "name": "stdout",
          "text": [
            "1875/1875 [==============================] - 11s 6ms/step\n"
          ]
        },
        {
          "output_type": "execute_result",
          "data": {
            "text/plain": [
              "       Train Predictions  Actuals\n",
              "0              -9.709962    -9.67\n",
              "1              -9.543835    -9.17\n",
              "2              -8.719626    -8.10\n",
              "3              -7.309615    -7.66\n",
              "4              -7.088613    -7.04\n",
              "...                  ...      ...\n",
              "59995           6.232236     6.07\n",
              "59996           7.238575     9.88\n",
              "59997          12.505942    13.53\n",
              "59998          15.839409    15.43\n",
              "59999          16.408230    15.54\n",
              "\n",
              "[60000 rows x 2 columns]"
            ],
            "text/html": [
              "\n",
              "  <div id=\"df-8d9f2205-c1c4-46ae-86d4-9ed7d55dd5c0\" class=\"colab-df-container\">\n",
              "    <div>\n",
              "<style scoped>\n",
              "    .dataframe tbody tr th:only-of-type {\n",
              "        vertical-align: middle;\n",
              "    }\n",
              "\n",
              "    .dataframe tbody tr th {\n",
              "        vertical-align: top;\n",
              "    }\n",
              "\n",
              "    .dataframe thead th {\n",
              "        text-align: right;\n",
              "    }\n",
              "</style>\n",
              "<table border=\"1\" class=\"dataframe\">\n",
              "  <thead>\n",
              "    <tr style=\"text-align: right;\">\n",
              "      <th></th>\n",
              "      <th>Train Predictions</th>\n",
              "      <th>Actuals</th>\n",
              "    </tr>\n",
              "  </thead>\n",
              "  <tbody>\n",
              "    <tr>\n",
              "      <th>0</th>\n",
              "      <td>-9.709962</td>\n",
              "      <td>-9.67</td>\n",
              "    </tr>\n",
              "    <tr>\n",
              "      <th>1</th>\n",
              "      <td>-9.543835</td>\n",
              "      <td>-9.17</td>\n",
              "    </tr>\n",
              "    <tr>\n",
              "      <th>2</th>\n",
              "      <td>-8.719626</td>\n",
              "      <td>-8.10</td>\n",
              "    </tr>\n",
              "    <tr>\n",
              "      <th>3</th>\n",
              "      <td>-7.309615</td>\n",
              "      <td>-7.66</td>\n",
              "    </tr>\n",
              "    <tr>\n",
              "      <th>4</th>\n",
              "      <td>-7.088613</td>\n",
              "      <td>-7.04</td>\n",
              "    </tr>\n",
              "    <tr>\n",
              "      <th>...</th>\n",
              "      <td>...</td>\n",
              "      <td>...</td>\n",
              "    </tr>\n",
              "    <tr>\n",
              "      <th>59995</th>\n",
              "      <td>6.232236</td>\n",
              "      <td>6.07</td>\n",
              "    </tr>\n",
              "    <tr>\n",
              "      <th>59996</th>\n",
              "      <td>7.238575</td>\n",
              "      <td>9.88</td>\n",
              "    </tr>\n",
              "    <tr>\n",
              "      <th>59997</th>\n",
              "      <td>12.505942</td>\n",
              "      <td>13.53</td>\n",
              "    </tr>\n",
              "    <tr>\n",
              "      <th>59998</th>\n",
              "      <td>15.839409</td>\n",
              "      <td>15.43</td>\n",
              "    </tr>\n",
              "    <tr>\n",
              "      <th>59999</th>\n",
              "      <td>16.408230</td>\n",
              "      <td>15.54</td>\n",
              "    </tr>\n",
              "  </tbody>\n",
              "</table>\n",
              "<p>60000 rows × 2 columns</p>\n",
              "</div>\n",
              "    <div class=\"colab-df-buttons\">\n",
              "\n",
              "  <div class=\"colab-df-container\">\n",
              "    <button class=\"colab-df-convert\" onclick=\"convertToInteractive('df-8d9f2205-c1c4-46ae-86d4-9ed7d55dd5c0')\"\n",
              "            title=\"Convert this dataframe to an interactive table.\"\n",
              "            style=\"display:none;\">\n",
              "\n",
              "  <svg xmlns=\"http://www.w3.org/2000/svg\" height=\"24px\" viewBox=\"0 -960 960 960\">\n",
              "    <path d=\"M120-120v-720h720v720H120Zm60-500h600v-160H180v160Zm220 220h160v-160H400v160Zm0 220h160v-160H400v160ZM180-400h160v-160H180v160Zm440 0h160v-160H620v160ZM180-180h160v-160H180v160Zm440 0h160v-160H620v160Z\"/>\n",
              "  </svg>\n",
              "    </button>\n",
              "\n",
              "  <style>\n",
              "    .colab-df-container {\n",
              "      display:flex;\n",
              "      gap: 12px;\n",
              "    }\n",
              "\n",
              "    .colab-df-convert {\n",
              "      background-color: #E8F0FE;\n",
              "      border: none;\n",
              "      border-radius: 50%;\n",
              "      cursor: pointer;\n",
              "      display: none;\n",
              "      fill: #1967D2;\n",
              "      height: 32px;\n",
              "      padding: 0 0 0 0;\n",
              "      width: 32px;\n",
              "    }\n",
              "\n",
              "    .colab-df-convert:hover {\n",
              "      background-color: #E2EBFA;\n",
              "      box-shadow: 0px 1px 2px rgba(60, 64, 67, 0.3), 0px 1px 3px 1px rgba(60, 64, 67, 0.15);\n",
              "      fill: #174EA6;\n",
              "    }\n",
              "\n",
              "    .colab-df-buttons div {\n",
              "      margin-bottom: 4px;\n",
              "    }\n",
              "\n",
              "    [theme=dark] .colab-df-convert {\n",
              "      background-color: #3B4455;\n",
              "      fill: #D2E3FC;\n",
              "    }\n",
              "\n",
              "    [theme=dark] .colab-df-convert:hover {\n",
              "      background-color: #434B5C;\n",
              "      box-shadow: 0px 1px 3px 1px rgba(0, 0, 0, 0.15);\n",
              "      filter: drop-shadow(0px 1px 2px rgba(0, 0, 0, 0.3));\n",
              "      fill: #FFFFFF;\n",
              "    }\n",
              "  </style>\n",
              "\n",
              "    <script>\n",
              "      const buttonEl =\n",
              "        document.querySelector('#df-8d9f2205-c1c4-46ae-86d4-9ed7d55dd5c0 button.colab-df-convert');\n",
              "      buttonEl.style.display =\n",
              "        google.colab.kernel.accessAllowed ? 'block' : 'none';\n",
              "\n",
              "      async function convertToInteractive(key) {\n",
              "        const element = document.querySelector('#df-8d9f2205-c1c4-46ae-86d4-9ed7d55dd5c0');\n",
              "        const dataTable =\n",
              "          await google.colab.kernel.invokeFunction('convertToInteractive',\n",
              "                                                    [key], {});\n",
              "        if (!dataTable) return;\n",
              "\n",
              "        const docLinkHtml = 'Like what you see? Visit the ' +\n",
              "          '<a target=\"_blank\" href=https://colab.research.google.com/notebooks/data_table.ipynb>data table notebook</a>'\n",
              "          + ' to learn more about interactive tables.';\n",
              "        element.innerHTML = '';\n",
              "        dataTable['output_type'] = 'display_data';\n",
              "        await google.colab.output.renderOutput(dataTable, element);\n",
              "        const docLink = document.createElement('div');\n",
              "        docLink.innerHTML = docLinkHtml;\n",
              "        element.appendChild(docLink);\n",
              "      }\n",
              "    </script>\n",
              "  </div>\n",
              "\n",
              "\n",
              "<div id=\"df-87c6dc98-d1dc-4b26-898f-23e59da09f49\">\n",
              "  <button class=\"colab-df-quickchart\" onclick=\"quickchart('df-87c6dc98-d1dc-4b26-898f-23e59da09f49')\"\n",
              "            title=\"Suggest charts.\"\n",
              "            style=\"display:none;\">\n",
              "\n",
              "<svg xmlns=\"http://www.w3.org/2000/svg\" height=\"24px\"viewBox=\"0 0 24 24\"\n",
              "     width=\"24px\">\n",
              "    <g>\n",
              "        <path d=\"M19 3H5c-1.1 0-2 .9-2 2v14c0 1.1.9 2 2 2h14c1.1 0 2-.9 2-2V5c0-1.1-.9-2-2-2zM9 17H7v-7h2v7zm4 0h-2V7h2v10zm4 0h-2v-4h2v4z\"/>\n",
              "    </g>\n",
              "</svg>\n",
              "  </button>\n",
              "\n",
              "<style>\n",
              "  .colab-df-quickchart {\n",
              "    background-color: #E8F0FE;\n",
              "    border: none;\n",
              "    border-radius: 50%;\n",
              "    cursor: pointer;\n",
              "    display: none;\n",
              "    fill: #1967D2;\n",
              "    height: 32px;\n",
              "    padding: 0 0 0 0;\n",
              "    width: 32px;\n",
              "  }\n",
              "\n",
              "  .colab-df-quickchart:hover {\n",
              "    background-color: #E2EBFA;\n",
              "    box-shadow: 0px 1px 2px rgba(60, 64, 67, 0.3), 0px 1px 3px 1px rgba(60, 64, 67, 0.15);\n",
              "    fill: #174EA6;\n",
              "  }\n",
              "\n",
              "  [theme=dark] .colab-df-quickchart {\n",
              "    background-color: #3B4455;\n",
              "    fill: #D2E3FC;\n",
              "  }\n",
              "\n",
              "  [theme=dark] .colab-df-quickchart:hover {\n",
              "    background-color: #434B5C;\n",
              "    box-shadow: 0px 1px 3px 1px rgba(0, 0, 0, 0.15);\n",
              "    filter: drop-shadow(0px 1px 2px rgba(0, 0, 0, 0.3));\n",
              "    fill: #FFFFFF;\n",
              "  }\n",
              "</style>\n",
              "\n",
              "  <script>\n",
              "    async function quickchart(key) {\n",
              "      const charts = await google.colab.kernel.invokeFunction(\n",
              "          'suggestCharts', [key], {});\n",
              "    }\n",
              "    (() => {\n",
              "      let quickchartButtonEl =\n",
              "        document.querySelector('#df-87c6dc98-d1dc-4b26-898f-23e59da09f49 button');\n",
              "      quickchartButtonEl.style.display =\n",
              "        google.colab.kernel.accessAllowed ? 'block' : 'none';\n",
              "    })();\n",
              "  </script>\n",
              "</div>\n",
              "    </div>\n",
              "  </div>\n"
            ]
          },
          "metadata": {},
          "execution_count": 14
        }
      ]
    },
    {
      "cell_type": "code",
      "metadata": {
        "colab": {
          "base_uri": "https://localhost:8080/",
          "height": 0
        },
        "id": "KTqY8r6_Zpev",
        "outputId": "e5fc3efe-9326-4443-a8e5-464834ae07dd"
      },
      "source": [
        "import matplotlib.pyplot as plt\n",
        "plt.plot(train_results['Train Predictions'][50:100])\n",
        "plt.plot(train_results['Actuals'][50:100])\n",
        "plt.legend(['Prediction','Actual'])"
      ],
      "execution_count": 15,
      "outputs": [
        {
          "output_type": "execute_result",
          "data": {
            "text/plain": [
              "<matplotlib.legend.Legend at 0x7caadb9a21d0>"
            ]
          },
          "metadata": {},
          "execution_count": 15
        },
        {
          "output_type": "display_data",
          "data": {
            "text/plain": [
              "<Figure size 640x480 with 1 Axes>"
            ],
            "image/png": "[encoded data removed]"
          },
          "metadata": {}
        }
      ]
    },
    {
      "cell_type": "code",
      "metadata": {
        "colab": {
          "base_uri": "https://localhost:8080/",
          "height": 0
        },
        "id": "vuY5nmGYZ8ix",
        "outputId": "a20f2832-50fe-473f-d230-145ceb1fe67a"
      },
      "source": [
        "val_predictions = model1.predict(X_val1).flatten()\n",
        "val_results = pd.DataFrame(data={'Val Predictions':val_predictions, 'Actuals':y_val1})\n",
        "val_results"
      ],
      "execution_count": 16,
      "outputs": [
        {
          "output_type": "stream",
          "name": "stdout",
          "text": [
            "157/157 [==============================] - 1s 3ms/step\n"
          ]
        },
        {
          "output_type": "execute_result",
          "data": {
            "text/plain": [
              "      Val Predictions  Actuals\n",
              "0           15.598977    14.02\n",
              "1           13.376417    13.67\n",
              "2           13.158778    12.27\n",
              "3           11.558631    11.19\n",
              "4           10.470344    10.85\n",
              "...               ...      ...\n",
              "4995        17.342440    18.27\n",
              "4996        17.501146    17.85\n",
              "4997        17.323107    16.65\n",
              "4998        16.001196    15.85\n",
              "4999        15.207323    15.09\n",
              "\n",
              "[5000 rows x 2 columns]"
            ],
            "text/html": [
              "\n",
              "  <div id=\"df-d19bf92a-cd47-447b-9814-207187047ddf\" class=\"colab-df-container\">\n",
              "    <div>\n",
              "<style scoped>\n",
              "    .dataframe tbody tr th:only-of-type {\n",
              "        vertical-align: middle;\n",
              "    }\n",
              "\n",
              "    .dataframe tbody tr th {\n",
              "        vertical-align: top;\n",
              "    }\n",
              "\n",
              "    .dataframe thead th {\n",
              "        text-align: right;\n",
              "    }\n",
              "</style>\n",
              "<table border=\"1\" class=\"dataframe\">\n",
              "  <thead>\n",
              "    <tr style=\"text-align: right;\">\n",
              "      <th></th>\n",
              "      <th>Val Predictions</th>\n",
              "      <th>Actuals</th>\n",
              "    </tr>\n",
              "  </thead>\n",
              "  <tbody>\n",
              "    <tr>\n",
              "      <th>0</th>\n",
              "      <td>15.598977</td>\n",
              "      <td>14.02</td>\n",
              "    </tr>\n",
              "    <tr>\n",
              "      <th>1</th>\n",
              "      <td>13.376417</td>\n",
              "      <td>13.67</td>\n",
              "    </tr>\n",
              "    <tr>\n",
              "      <th>2</th>\n",
              "      <td>13.158778</td>\n",
              "      <td>12.27</td>\n",
              "    </tr>\n",
              "    <tr>\n",
              "      <th>3</th>\n",
              "      <td>11.558631</td>\n",
              "      <td>11.19</td>\n",
              "    </tr>\n",
              "    <tr>\n",
              "      <th>4</th>\n",
              "      <td>10.470344</td>\n",
              "      <td>10.85</td>\n",
              "    </tr>\n",
              "    <tr>\n",
              "      <th>...</th>\n",
              "      <td>...</td>\n",
              "      <td>...</td>\n",
              "    </tr>\n",
              "    <tr>\n",
              "      <th>4995</th>\n",
              "      <td>17.342440</td>\n",
              "      <td>18.27</td>\n",
              "    </tr>\n",
              "    <tr>\n",
              "      <th>4996</th>\n",
              "      <td>17.501146</td>\n",
              "      <td>17.85</td>\n",
              "    </tr>\n",
              "    <tr>\n",
              "      <th>4997</th>\n",
              "      <td>17.323107</td>\n",
              "      <td>16.65</td>\n",
              "    </tr>\n",
              "    <tr>\n",
              "      <th>4998</th>\n",
              "      <td>16.001196</td>\n",
              "      <td>15.85</td>\n",
              "    </tr>\n",
              "    <tr>\n",
              "      <th>4999</th>\n",
              "      <td>15.207323</td>\n",
              "      <td>15.09</td>\n",
              "    </tr>\n",
              "  </tbody>\n",
              "</table>\n",
              "<p>5000 rows × 2 columns</p>\n",
              "</div>\n",
              "    <div class=\"colab-df-buttons\">\n",
              "\n",
              "  <div class=\"colab-df-container\">\n",
              "    <button class=\"colab-df-convert\" onclick=\"convertToInteractive('df-d19bf92a-cd47-447b-9814-207187047ddf')\"\n",
              "            title=\"Convert this dataframe to an interactive table.\"\n",
              "            style=\"display:none;\">\n",
              "\n",
              "  <svg xmlns=\"http://www.w3.org/2000/svg\" height=\"24px\" viewBox=\"0 -960 960 960\">\n",
              "    <path d=\"M120-120v-720h720v720H120Zm60-500h600v-160H180v160Zm220 220h160v-160H400v160Zm0 220h160v-160H400v160ZM180-400h160v-160H180v160Zm440 0h160v-160H620v160ZM180-180h160v-160H180v160Zm440 0h160v-160H620v160Z\"/>\n",
              "  </svg>\n",
              "    </button>\n",
              "\n",
              "  <style>\n",
              "    .colab-df-container {\n",
              "      display:flex;\n",
              "      gap: 12px;\n",
              "    }\n",
              "\n",
              "    .colab-df-convert {\n",
              "      background-color: #E8F0FE;\n",
              "      border: none;\n",
              "      border-radius: 50%;\n",
              "      cursor: pointer;\n",
              "      display: none;\n",
              "      fill: #1967D2;\n",
              "      height: 32px;\n",
              "      padding: 0 0 0 0;\n",
              "      width: 32px;\n",
              "    }\n",
              "\n",
              "    .colab-df-convert:hover {\n",
              "      background-color: #E2EBFA;\n",
              "      box-shadow: 0px 1px 2px rgba(60, 64, 67, 0.3), 0px 1px 3px 1px rgba(60, 64, 67, 0.15);\n",
              "      fill: #174EA6;\n",
              "    }\n",
              "\n",
              "    .colab-df-buttons div {\n",
              "      margin-bottom: 4px;\n",
              "    }\n",
              "\n",
              "    [theme=dark] .colab-df-convert {\n",
              "      background-color: #3B4455;\n",
              "      fill: #D2E3FC;\n",
              "    }\n",
              "\n",
              "    [theme=dark] .colab-df-convert:hover {\n",
              "      background-color: #434B5C;\n",
              "      box-shadow: 0px 1px 3px 1px rgba(0, 0, 0, 0.15);\n",
              "      filter: drop-shadow(0px 1px 2px rgba(0, 0, 0, 0.3));\n",
              "      fill: #FFFFFF;\n",
              "    }\n",
              "  </style>\n",
              "\n",
              "    <script>\n",
              "      const buttonEl =\n",
              "        document.querySelector('#df-d19bf92a-cd47-447b-9814-207187047ddf button.colab-df-convert');\n",
              "      buttonEl.style.display =\n",
              "        google.colab.kernel.accessAllowed ? 'block' : 'none';\n",
              "\n",
              "      async function convertToInteractive(key) {\n",
              "        const element = document.querySelector('#df-d19bf92a-cd47-447b-9814-207187047ddf');\n",
              "        const dataTable =\n",
              "          await google.colab.kernel.invokeFunction('convertToInteractive',\n",
              "                                                    [key], {});\n",
              "        if (!dataTable) return;\n",
              "\n",
              "        const docLinkHtml = 'Like what you see? Visit the ' +\n",
              "          '<a target=\"_blank\" href=https://colab.research.google.com/notebooks/data_table.ipynb>data table notebook</a>'\n",
              "          + ' to learn more about interactive tables.';\n",
              "        element.innerHTML = '';\n",
              "        dataTable['output_type'] = 'display_data';\n",
              "        await google.colab.output.renderOutput(dataTable, element);\n",
              "        const docLink = document.createElement('div');\n",
              "        docLink.innerHTML = docLinkHtml;\n",
              "        element.appendChild(docLink);\n",
              "      }\n",
              "    </script>\n",
              "  </div>\n",
              "\n",
              "\n",
              "<div id=\"df-da960f1e-d917-4132-a214-03b8c1e90fe4\">\n",
              "  <button class=\"colab-df-quickchart\" onclick=\"quickchart('df-da960f1e-d917-4132-a214-03b8c1e90fe4')\"\n",
              "            title=\"Suggest charts.\"\n",
              "            style=\"display:none;\">\n",
              "\n",
              "<svg xmlns=\"http://www.w3.org/2000/svg\" height=\"24px\"viewBox=\"0 0 24 24\"\n",
              "     width=\"24px\">\n",
              "    <g>\n",
              "        <path d=\"M19 3H5c-1.1 0-2 .9-2 2v14c0 1.1.9 2 2 2h14c1.1 0 2-.9 2-2V5c0-1.1-.9-2-2-2zM9 17H7v-7h2v7zm4 0h-2V7h2v10zm4 0h-2v-4h2v4z\"/>\n",
              "    </g>\n",
              "</svg>\n",
              "  </button>\n",
              "\n",
              "<style>\n",
              "  .colab-df-quickchart {\n",
              "    background-color: #E8F0FE;\n",
              "    border: none;\n",
              "    border-radius: 50%;\n",
              "    cursor: pointer;\n",
              "    display: none;\n",
              "    fill: #1967D2;\n",
              "    height: 32px;\n",
              "    padding: 0 0 0 0;\n",
              "    width: 32px;\n",
              "  }\n",
              "\n",
              "  .colab-df-quickchart:hover {\n",
              "    background-color: #E2EBFA;\n",
              "    box-shadow: 0px 1px 2px rgba(60, 64, 67, 0.3), 0px 1px 3px 1px rgba(60, 64, 67, 0.15);\n",
              "    fill: #174EA6;\n",
              "  }\n",
              "\n",
              "  [theme=dark] .colab-df-quickchart {\n",
              "    background-color: #3B4455;\n",
              "    fill: #D2E3FC;\n",
              "  }\n",
              "\n",
              "  [theme=dark] .colab-df-quickchart:hover {\n",
              "    background-color: #434B5C;\n",
              "    box-shadow: 0px 1px 3px 1px rgba(0, 0, 0, 0.15);\n",
              "    filter: drop-shadow(0px 1px 2px rgba(0, 0, 0, 0.3));\n",
              "    fill: #FFFFFF;\n",
              "  }\n",
              "</style>\n",
              "\n",
              "  <script>\n",
              "    async function quickchart(key) {\n",
              "      const charts = await google.colab.kernel.invokeFunction(\n",
              "          'suggestCharts', [key], {});\n",
              "    }\n",
              "    (() => {\n",
              "      let quickchartButtonEl =\n",
              "        document.querySelector('#df-da960f1e-d917-4132-a214-03b8c1e90fe4 button');\n",
              "      quickchartButtonEl.style.display =\n",
              "        google.colab.kernel.accessAllowed ? 'block' : 'none';\n",
              "    })();\n",
              "  </script>\n",
              "</div>\n",
              "    </div>\n",
              "  </div>\n"
            ]
          },
          "metadata": {},
          "execution_count": 16
        }
      ]
    },
    {
      "cell_type": "code",
      "metadata": {
        "colab": {
          "base_uri": "https://localhost:8080/",
          "height": 0
        },
        "id": "6MlctzuuaQww",
        "outputId": "3f128cfe-a30f-405a-e138-4e218dca8757"
      },
      "source": [
        "plt.plot(val_results['Val Predictions'][:100])\n",
        "plt.plot(val_results['Actuals'][:100])\n",
        "plt.legend(['Prediction','Actual'])"
      ],
      "execution_count": 17,
      "outputs": [
        {
          "output_type": "execute_result",
          "data": {
            "text/plain": [
              "<matplotlib.legend.Legend at 0x7caadbdf01c0>"
            ]
          },
          "metadata": {},
          "execution_count": 17
        },
        {
          "output_type": "display_data",
          "data": {
            "text/plain": [
              "<Figure size 640x480 with 1 Axes>"
            ],
            "image/png": "[encoded data removed]"
          },
          "metadata": {}
        }
      ]
    },
    {
      "cell_type": "code",
      "metadata": {
        "colab": {
          "base_uri": "https://localhost:8080/",
          "height": 0
        },
        "id": "5O59Q8MTaRN7",
        "outputId": "89f4dabb-64cb-41be-a5bd-804a740d9a9c"
      },
      "source": [
        "test_predictions = model1.predict(X_test1).flatten()\n",
        "test_results = pd.DataFrame(data={'Test Predictions':test_predictions, 'Actuals':y_test1})\n",
        "test_results"
      ],
      "execution_count": 18,
      "outputs": [
        {
          "output_type": "stream",
          "name": "stdout",
          "text": [
            "159/159 [==============================] - 1s 3ms/step\n"
          ]
        },
        {
          "output_type": "execute_result",
          "data": {
            "text/plain": [
              "      Test Predictions  Actuals\n",
              "0            14.519771    13.99\n",
              "1            13.357121    13.46\n",
              "2            12.974573    12.93\n",
              "3            12.557888    12.43\n",
              "4            12.113648    12.17\n",
              "...                ...      ...\n",
              "5081         -1.112705    -0.98\n",
              "5082         -1.378773    -1.40\n",
              "5083         -1.500674    -2.75\n",
              "5084         -3.305466    -2.89\n",
              "5085         -3.048545    -3.93\n",
              "\n",
              "[5086 rows x 2 columns]"
            ],
            "text/html": [
              "\n",
              "  <div id=\"df-42a949c4-bde2-4f38-a8ce-2da83c71f28e\" class=\"colab-df-container\">\n",
              "    <div>\n",
              "<style scoped>\n",
              "    .dataframe tbody tr th:only-of-type {\n",
              "        vertical-align: middle;\n",
              "    }\n",
              "\n",
              "    .dataframe tbody tr th {\n",
              "        vertical-align: top;\n",
              "    }\n",
              "\n",
              "    .dataframe thead th {\n",
              "        text-align: right;\n",
              "    }\n",
              "</style>\n",
              "<table border=\"1\" class=\"dataframe\">\n",
              "  <thead>\n",
              "    <tr style=\"text-align: right;\">\n",
              "      <th></th>\n",
              "      <th>Test Predictions</th>\n",
              "      <th>Actuals</th>\n",
              "    </tr>\n",
              "  </thead>\n",
              "  <tbody>\n",
              "    <tr>\n",
              "      <th>0</th>\n",
              "      <td>14.519771</td>\n",
              "      <td>13.99</td>\n",
              "    </tr>\n",
              "    <tr>\n",
              "      <th>1</th>\n",
              "      <td>13.357121</td>\n",
              "      <td>13.46</td>\n",
              "    </tr>\n",
              "    <tr>\n",
              "      <th>2</th>\n",
              "      <td>12.974573</td>\n",
              "      <td>12.93</td>\n",
              "    </tr>\n",
              "    <tr>\n",
              "      <th>3</th>\n",
              "      <td>12.557888</td>\n",
              "      <td>12.43</td>\n",
              "    </tr>\n",
              "    <tr>\n",
              "      <th>4</th>\n",
              "      <td>12.113648</td>\n",
              "      <td>12.17</td>\n",
              "    </tr>\n",
              "    <tr>\n",
              "      <th>...</th>\n",
              "      <td>...</td>\n",
              "      <td>...</td>\n",
              "    </tr>\n",
              "    <tr>\n",
              "      <th>5081</th>\n",
              "      <td>-1.112705</td>\n",
              "      <td>-0.98</td>\n",
              "    </tr>\n",
              "    <tr>\n",
              "      <th>5082</th>\n",
              "      <td>-1.378773</td>\n",
              "      <td>-1.40</td>\n",
              "    </tr>\n",
              "    <tr>\n",
              "      <th>5083</th>\n",
              "      <td>-1.500674</td>\n",
              "      <td>-2.75</td>\n",
              "    </tr>\n",
              "    <tr>\n",
              "      <th>5084</th>\n",
              "      <td>-3.305466</td>\n",
              "      <td>-2.89</td>\n",
              "    </tr>\n",
              "    <tr>\n",
              "      <th>5085</th>\n",
              "      <td>-3.048545</td>\n",
              "      <td>-3.93</td>\n",
              "    </tr>\n",
              "  </tbody>\n",
              "</table>\n",
              "<p>5086 rows × 2 columns</p>\n",
              "</div>\n",
              "    <div class=\"colab-df-buttons\">\n",
              "\n",
              "  <div class=\"colab-df-container\">\n",
              "    <button class=\"colab-df-convert\" onclick=\"convertToInteractive('df-42a949c4-bde2-4f38-a8ce-2da83c71f28e')\"\n",
              "            title=\"Convert this dataframe to an interactive table.\"\n",
              "            style=\"display:none;\">\n",
              "\n",
              "  <svg xmlns=\"http://www.w3.org/2000/svg\" height=\"24px\" viewBox=\"0 -960 960 960\">\n",
              "    <path d=\"M120-120v-720h720v720H120Zm60-500h600v-160H180v160Zm220 220h160v-160H400v160Zm0 220h160v-160H400v160ZM180-400h160v-160H180v160Zm440 0h160v-160H620v160ZM180-180h160v-160H180v160Zm440 0h160v-160H620v160Z\"/>\n",
              "  </svg>\n",
              "    </button>\n",
              "\n",
              "  <style>\n",
              "    .colab-df-container {\n",
              "      display:flex;\n",
              "      gap: 12px;\n",
              "    }\n",
              "\n",
              "    .colab-df-convert {\n",
              "      background-color: #E8F0FE;\n",
              "      border: none;\n",
              "      border-radius: 50%;\n",
              "      cursor: pointer;\n",
              "      display: none;\n",
              "      fill: #1967D2;\n",
              "      height: 32px;\n",
              "      padding: 0 0 0 0;\n",
              "      width: 32px;\n",
              "    }\n",
              "\n",
              "    .colab-df-convert:hover {\n",
              "      background-color: #E2EBFA;\n",
              "      box-shadow: 0px 1px 2px rgba(60, 64, 67, 0.3), 0px 1px 3px 1px rgba(60, 64, 67, 0.15);\n",
              "      fill: #174EA6;\n",
              "    }\n",
              "\n",
              "    .colab-df-buttons div {\n",
              "      margin-bottom: 4px;\n",
              "    }\n",
              "\n",
              "    [theme=dark] .colab-df-convert {\n",
              "      background-color: #3B4455;\n",
              "      fill: #D2E3FC;\n",
              "    }\n",
              "\n",
              "    [theme=dark] .colab-df-convert:hover {\n",
              "      background-color: #434B5C;\n",
              "      box-shadow: 0px 1px 3px 1px rgba(0, 0, 0, 0.15);\n",
              "      filter: drop-shadow(0px 1px 2px rgba(0, 0, 0, 0.3));\n",
              "      fill: #FFFFFF;\n",
              "    }\n",
              "  </style>\n",
              "\n",
              "    <script>\n",
              "      const buttonEl =\n",
              "        document.querySelector('#df-42a949c4-bde2-4f38-a8ce-2da83c71f28e button.colab-df-convert');\n",
              "      buttonEl.style.display =\n",
              "        google.colab.kernel.accessAllowed ? 'block' : 'none';\n",
              "\n",
              "      async function convertToInteractive(key) {\n",
              "        const element = document.querySelector('#df-42a949c4-bde2-4f38-a8ce-2da83c71f28e');\n",
              "        const dataTable =\n",
              "          await google.colab.kernel.invokeFunction('convertToInteractive',\n",
              "                                                    [key], {});\n",
              "        if (!dataTable) return;\n",
              "\n",
              "        const docLinkHtml = 'Like what you see? Visit the ' +\n",
              "          '<a target=\"_blank\" href=https://colab.research.google.com/notebooks/data_table.ipynb>data table notebook</a>'\n",
              "          + ' to learn more about interactive tables.';\n",
              "        element.innerHTML = '';\n",
              "        dataTable['output_type'] = 'display_data';\n",
              "        await google.colab.output.renderOutput(dataTable, element);\n",
              "        const docLink = document.createElement('div');\n",
              "        docLink.innerHTML = docLinkHtml;\n",
              "        element.appendChild(docLink);\n",
              "      }\n",
              "    </script>\n",
              "  </div>\n",
              "\n",
              "\n",
              "<div id=\"df-81ec4b0e-f14f-49d2-aa16-6e6c1b43074f\">\n",
              "  <button class=\"colab-df-quickchart\" onclick=\"quickchart('df-81ec4b0e-f14f-49d2-aa16-6e6c1b43074f')\"\n",
              "            title=\"Suggest charts.\"\n",
              "            style=\"display:none;\">\n",
              "\n",
              "<svg xmlns=\"http://www.w3.org/2000/svg\" height=\"24px\"viewBox=\"0 0 24 24\"\n",
              "     width=\"24px\">\n",
              "    <g>\n",
              "        <path d=\"M19 3H5c-1.1 0-2 .9-2 2v14c0 1.1.9 2 2 2h14c1.1 0 2-.9 2-2V5c0-1.1-.9-2-2-2zM9 17H7v-7h2v7zm4 0h-2V7h2v10zm4 0h-2v-4h2v4z\"/>\n",
              "    </g>\n",
              "</svg>\n",
              "  </button>\n",
              "\n",
              "<style>\n",
              "  .colab-df-quickchart {\n",
              "    background-color: #E8F0FE;\n",
              "    border: none;\n",
              "    border-radius: 50%;\n",
              "    cursor: pointer;\n",
              "    display: none;\n",
              "    fill: #1967D2;\n",
              "    height: 32px;\n",
              "    padding: 0 0 0 0;\n",
              "    width: 32px;\n",
              "  }\n",
              "\n",
              "  .colab-df-quickchart:hover {\n",
              "    background-color: #E2EBFA;\n",
              "    box-shadow: 0px 1px 2px rgba(60, 64, 67, 0.3), 0px 1px 3px 1px rgba(60, 64, 67, 0.15);\n",
              "    fill: #174EA6;\n",
              "  }\n",
              "\n",
              "  [theme=dark] .colab-df-quickchart {\n",
              "    background-color: #3B4455;\n",
              "    fill: #D2E3FC;\n",
              "  }\n",
              "\n",
              "  [theme=dark] .colab-df-quickchart:hover {\n",
              "    background-color: #434B5C;\n",
              "    box-shadow: 0px 1px 3px 1px rgba(0, 0, 0, 0.15);\n",
              "    filter: drop-shadow(0px 1px 2px rgba(0, 0, 0, 0.3));\n",
              "    fill: #FFFFFF;\n",
              "  }\n",
              "</style>\n",
              "\n",
              "  <script>\n",
              "    async function quickchart(key) {\n",
              "      const charts = await google.colab.kernel.invokeFunction(\n",
              "          'suggestCharts', [key], {});\n",
              "    }\n",
              "    (() => {\n",
              "      let quickchartButtonEl =\n",
              "        document.querySelector('#df-81ec4b0e-f14f-49d2-aa16-6e6c1b43074f button');\n",
              "      quickchartButtonEl.style.display =\n",
              "        google.colab.kernel.accessAllowed ? 'block' : 'none';\n",
              "    })();\n",
              "  </script>\n",
              "</div>\n",
              "    </div>\n",
              "  </div>\n"
            ]
          },
          "metadata": {},
          "execution_count": 18
        }
      ]
    },
    {
      "cell_type": "code",
      "metadata": {
        "id": "m8UzGIfEaW-P",
        "colab": {
          "base_uri": "https://localhost:8080/",
          "height": 0
        },
        "outputId": "3f71572a-61c3-4bc1-acd6-7973ac8c14bc"
      },
      "source": [
        "plt.plot(test_results['Test Predictions'][:100])\n",
        "plt.plot(test_results['Actuals'][:100])\n",
        "plt.legend(['Prediction','Actual'])"
      ],
      "execution_count": 19,
      "outputs": [
        {
          "output_type": "execute_result",
          "data": {
            "text/plain": [
              "<matplotlib.legend.Legend at 0x7caae470ca00>"
            ]
          },
          "metadata": {},
          "execution_count": 19
        },
        {
          "output_type": "display_data",
          "data": {
            "text/plain": [
              "<Figure size 640x480 with 1 Axes>"
            ],
            "image/png": "[encoded data removed]"
          },
          "metadata": {}
        }
      ]
    },
    {
      "cell_type": "markdown",
      "source": [
        "# Part 2\n",
        "\n",
        "[Multivariate Time Series Forecasting Using LSTM, GRU & 1d CNNs\n",
        "](https://www.youtube.com/watch?v=kGdbPnMCdOg)"
      ],
      "metadata": {
        "id": "DrVx-dcTOWxI"
      }
    },
    {
      "cell_type": "code",
      "metadata": {
        "id": "XFf7bCFlctu8"
      },
      "source": [
        "from sklearn.metrics import mean_squared_error as mse\n",
        "\n",
        "def plot_predictions1(model, X, y, start=0, end=100): # start/end is for plotting\n",
        "  predictions = model.predict(X).flatten()\n",
        "  df = pd.DataFrame(data={'Predictions':predictions, 'Actuals':y})\n",
        "  rmse = mse(y, predictions, squared=False)\n",
        "\n",
        "  plt.plot(df['Predictions'][start:end])\n",
        "  plt.plot(df['Actuals'][start:end])\n",
        "  plt.legend(['Predictions','Actuals'])\n",
        "\n",
        "  return df, rmse"
      ],
      "execution_count": 20,
      "outputs": []
    },
    {
      "cell_type": "code",
      "metadata": {
        "colab": {
          "base_uri": "https://localhost:8080/",
          "height": 707
        },
        "id": "pdabyyStdavq",
        "outputId": "01a78168-6d2b-4d2d-d756-1f5714c23975"
      },
      "source": [
        "plot_predictions1(model1, X_test1, y_test1)"
      ],
      "execution_count": 21,
      "outputs": [
        {
          "output_type": "stream",
          "name": "stdout",
          "text": [
            "159/159 [==============================] - 0s 3ms/step\n"
          ]
        },
        {
          "output_type": "execute_result",
          "data": {
            "text/plain": [
              "(      Predictions  Actuals\n",
              " 0       14.519771    13.99\n",
              " 1       13.357121    13.46\n",
              " 2       12.974573    12.93\n",
              " 3       12.557888    12.43\n",
              " 4       12.113648    12.17\n",
              " ...           ...      ...\n",
              " 5081    -1.112705    -0.98\n",
              " 5082    -1.378773    -1.40\n",
              " 5083    -1.500674    -2.75\n",
              " 5084    -3.305466    -2.89\n",
              " 5085    -3.048545    -3.93\n",
              " \n",
              " [5086 rows x 2 columns],\n",
              " 0.7845942604699556)"
            ]
          },
          "metadata": {},
          "execution_count": 21
        },
        {
          "output_type": "display_data",
          "data": {
            "text/plain": [
              "<Figure size 640x480 with 1 Axes>"
            ],
            "image/png": "[encoded data removed]"
          },
          "metadata": {}
        }
      ]
    },
    {
      "cell_type": "code",
      "metadata": {
        "colab": {
          "base_uri": "https://localhost:8080/"
        },
        "id": "K6KDLXc3dg3x",
        "outputId": "80eb86e4-7eaa-495f-f849-8d13fbc9bdee"
      },
      "source": [
        "model2 = Sequential()\n",
        "model2.add(InputLayer((5, 1)))\n",
        "model2.add(Conv1D(64, kernel_size=2))\n",
        "model2.add(Flatten())\n",
        "model2.add(Dense(8, 'relu'))\n",
        "model2.add(Dense(1, 'linear'))\n",
        "\n",
        "model2.summary()\n",
        "# notice Conv1D uses less params than LSTM near 17k compared to 2.5k"
      ],
      "execution_count": 22,
      "outputs": [
        {
          "output_type": "stream",
          "name": "stdout",
          "text": [
            "Model: \"sequential_1\"\n",
            "_________________________________________________________________\n",
            " Layer (type)                Output Shape              Param #   \n",
            "=================================================================\n",
            " conv1d (Conv1D)             (None, 4, 64)             192       \n",
            "                                                                 \n",
            " flatten (Flatten)           (None, 256)               0         \n",
            "                                                                 \n",
            " dense_2 (Dense)             (None, 8)                 2056      \n",
            "                                                                 \n",
            " dense_3 (Dense)             (None, 1)                 9         \n",
            "                                                                 \n",
            "=================================================================\n",
            "Total params: 2,257\n",
            "Trainable params: 2,257\n",
            "Non-trainable params: 0\n",
            "_________________________________________________________________\n"
          ]
        }
      ]
    },
    {
      "cell_type": "code",
      "metadata": {
        "id": "YoGw3DQeeTES"
      },
      "source": [
        "cp2 = ModelCheckpoint('model2/', save_best_only=True)\n",
        "model2.compile(loss=MeanSquaredError(), optimizer=Adam(learning_rate=0.0001), metrics=[RootMeanSquaredError()])"
      ],
      "execution_count": 23,
      "outputs": []
    },
    {
      "cell_type": "code",
      "metadata": {
        "colab": {
          "base_uri": "https://localhost:8080/"
        },
        "id": "fUe56iajetZe",
        "outputId": "47266406-77fa-42da-b639-bb0f435fd1eb"
      },
      "source": [
        "model2.fit(X_train1, y_train1, validation_data=(X_val1, y_val1), epochs=10, callbacks=[cp2])"
      ],
      "execution_count": 24,
      "outputs": [
        {
          "output_type": "stream",
          "name": "stdout",
          "text": [
            "Epoch 1/10\n",
            "1871/1875 [============================>.] - ETA: 0s - loss: 5.0159 - root_mean_squared_error: 2.2396"
          ]
        },
        {
          "output_type": "stream",
          "name": "stderr",
          "text": [
            "WARNING:absl:Found untraced functions such as _jit_compiled_convolution_op, _update_step_xla while saving (showing 2 of 2). These functions will not be directly callable after loading.\n"
          ]
        },
        {
          "output_type": "stream",
          "name": "stdout",
          "text": [
            "\b\b\b\b\b\b\b\b\b\b\b\b\b\b\b\b\b\b\b\b\b\b\b\b\b\b\b\b\b\b\b\b\b\b\b\b\b\b\b\b\b\b\b\b\b\b\b\b\b\b\b\b\b\b\b\b\b\b\b\b\b\b\b\b\b\b\b\b\b\b\b\b\b\b\b\b\b\b\b\b\b\b\b\b\b\b\b\b\b\b\b\b\b\b\b\b\b\b\b\b\b\r1875/1875 [==============================] - 7s 3ms/step - loss: 5.0074 - root_mean_squared_error: 2.2377 - val_loss: 0.9783 - val_root_mean_squared_error: 0.9891\n",
            "Epoch 2/10\n",
            "1871/1875 [============================>.] - ETA: 0s - loss: 1.0766 - root_mean_squared_error: 1.0376"
          ]
        },
        {
          "output_type": "stream",
          "name": "stderr",
          "text": [
            "WARNING:absl:Found untraced functions such as _jit_compiled_convolution_op, _update_step_xla while saving (showing 2 of 2). These functions will not be directly callable after loading.\n"
          ]
        },
        {
          "output_type": "stream",
          "name": "stdout",
          "text": [
            "\b\b\b\b\b\b\b\b\b\b\b\b\b\b\b\b\b\b\b\b\b\b\b\b\b\b\b\b\b\b\b\b\b\b\b\b\b\b\b\b\b\b\b\b\b\b\b\b\b\b\b\b\b\b\b\b\b\b\b\b\b\b\b\b\b\b\b\b\b\b\b\b\b\b\b\b\b\b\b\b\b\b\b\b\b\b\b\b\b\b\b\b\b\b\b\b\b\b\b\b\b\r1875/1875 [==============================] - 14s 8ms/step - loss: 1.0766 - root_mean_squared_error: 1.0376 - val_loss: 0.6799 - val_root_mean_squared_error: 0.8246\n",
            "Epoch 3/10\n",
            "1866/1875 [============================>.] - ETA: 0s - loss: 0.8002 - root_mean_squared_error: 0.8945"
          ]
        },
        {
          "output_type": "stream",
          "name": "stderr",
          "text": [
            "WARNING:absl:Found untraced functions such as _jit_compiled_convolution_op, _update_step_xla while saving (showing 2 of 2). These functions will not be directly callable after loading.\n"
          ]
        },
        {
          "output_type": "stream",
          "name": "stdout",
          "text": [
            "\b\b\b\b\b\b\b\b\b\b\b\b\b\b\b\b\b\b\b\b\b\b\b\b\b\b\b\b\b\b\b\b\b\b\b\b\b\b\b\b\b\b\b\b\b\b\b\b\b\b\b\b\b\b\b\b\b\b\b\b\b\b\b\b\b\b\b\b\b\b\b\b\b\b\b\b\b\b\b\b\b\b\b\b\b\b\b\b\b\b\b\b\b\b\b\b\b\b\b\b\b\r1875/1875 [==============================] - 6s 3ms/step - loss: 0.7995 - root_mean_squared_error: 0.8942 - val_loss: 0.5512 - val_root_mean_squared_error: 0.7424\n",
            "Epoch 4/10\n",
            "1873/1875 [============================>.] - ETA: 0s - loss: 0.7057 - root_mean_squared_error: 0.8401"
          ]
        },
        {
          "output_type": "stream",
          "name": "stderr",
          "text": [
            "WARNING:absl:Found untraced functions such as _jit_compiled_convolution_op, _update_step_xla while saving (showing 2 of 2). These functions will not be directly callable after loading.\n"
          ]
        },
        {
          "output_type": "stream",
          "name": "stdout",
          "text": [
            "\b\b\b\b\b\b\b\b\b\b\b\b\b\b\b\b\b\b\b\b\b\b\b\b\b\b\b\b\b\b\b\b\b\b\b\b\b\b\b\b\b\b\b\b\b\b\b\b\b\b\b\b\b\b\b\b\b\b\b\b\b\b\b\b\b\b\b\b\b\b\b\b\b\b\b\b\b\b\b\b\b\b\b\b\b\b\b\b\b\b\b\b\b\b\b\b\b\b\b\b\b\r1875/1875 [==============================] - 7s 4ms/step - loss: 0.7059 - root_mean_squared_error: 0.8402 - val_loss: 0.5437 - val_root_mean_squared_error: 0.7374\n",
            "Epoch 5/10\n",
            "1874/1875 [============================>.] - ETA: 0s - loss: 0.6820 - root_mean_squared_error: 0.8258"
          ]
        },
        {
          "output_type": "stream",
          "name": "stderr",
          "text": [
            "WARNING:absl:Found untraced functions such as _jit_compiled_convolution_op, _update_step_xla while saving (showing 2 of 2). These functions will not be directly callable after loading.\n"
          ]
        },
        {
          "output_type": "stream",
          "name": "stdout",
          "text": [
            "\b\b\b\b\b\b\b\b\b\b\b\b\b\b\b\b\b\b\b\b\b\b\b\b\b\b\b\b\b\b\b\b\b\b\b\b\b\b\b\b\b\b\b\b\b\b\b\b\b\b\b\b\b\b\b\b\b\b\b\b\b\b\b\b\b\b\b\b\b\b\b\b\b\b\b\b\b\b\b\b\b\b\b\b\b\b\b\b\b\b\b\b\b\b\b\b\b\b\b\b\b\r1875/1875 [==============================] - 9s 5ms/step - loss: 0.6821 - root_mean_squared_error: 0.8259 - val_loss: 0.5013 - val_root_mean_squared_error: 0.7080\n",
            "Epoch 6/10\n",
            "1875/1875 [==============================] - 6s 3ms/step - loss: 0.6702 - root_mean_squared_error: 0.8187 - val_loss: 0.5049 - val_root_mean_squared_error: 0.7105\n",
            "Epoch 7/10\n",
            "1873/1875 [============================>.] - ETA: 0s - loss: 0.6643 - root_mean_squared_error: 0.8150"
          ]
        },
        {
          "output_type": "stream",
          "name": "stderr",
          "text": [
            "WARNING:absl:Found untraced functions such as _jit_compiled_convolution_op, _update_step_xla while saving (showing 2 of 2). These functions will not be directly callable after loading.\n"
          ]
        },
        {
          "output_type": "stream",
          "name": "stdout",
          "text": [
            "\b\b\b\b\b\b\b\b\b\b\b\b\b\b\b\b\b\b\b\b\b\b\b\b\b\b\b\b\b\b\b\b\b\b\b\b\b\b\b\b\b\b\b\b\b\b\b\b\b\b\b\b\b\b\b\b\b\b\b\b\b\b\b\b\b\b\b\b\b\b\b\b\b\b\b\b\b\b\b\b\b\b\b\b\b\b\b\b\b\b\b\b\b\b\b\b\b\b\b\b\b\r1875/1875 [==============================] - 9s 5ms/step - loss: 0.6639 - root_mean_squared_error: 0.8148 - val_loss: 0.4935 - val_root_mean_squared_error: 0.7025\n",
            "Epoch 8/10\n",
            "1872/1875 [============================>.] - ETA: 0s - loss: 0.6617 - root_mean_squared_error: 0.8135"
          ]
        },
        {
          "output_type": "stream",
          "name": "stderr",
          "text": [
            "WARNING:absl:Found untraced functions such as _jit_compiled_convolution_op, _update_step_xla while saving (showing 2 of 2). These functions will not be directly callable after loading.\n"
          ]
        },
        {
          "output_type": "stream",
          "name": "stdout",
          "text": [
            "\b\b\b\b\b\b\b\b\b\b\b\b\b\b\b\b\b\b\b\b\b\b\b\b\b\b\b\b\b\b\b\b\b\b\b\b\b\b\b\b\b\b\b\b\b\b\b\b\b\b\b\b\b\b\b\b\b\b\b\b\b\b\b\b\b\b\b\b\b\b\b\b\b\b\b\b\b\b\b\b\b\b\b\b\b\b\b\b\b\b\b\b\b\b\b\b\b\b\b\b\b\r1875/1875 [==============================] - 6s 3ms/step - loss: 0.6629 - root_mean_squared_error: 0.8142 - val_loss: 0.4923 - val_root_mean_squared_error: 0.7017\n",
            "Epoch 9/10\n",
            "1875/1875 [==============================] - 4s 2ms/step - loss: 0.6622 - root_mean_squared_error: 0.8138 - val_loss: 0.4980 - val_root_mean_squared_error: 0.7057\n",
            "Epoch 10/10\n",
            "1875/1875 [==============================] - 5s 3ms/step - loss: 0.6598 - root_mean_squared_error: 0.8123 - val_loss: 0.5016 - val_root_mean_squared_error: 0.7083\n"
          ]
        },
        {
          "output_type": "execute_result",
          "data": {
            "text/plain": [
              "<keras.callbacks.History at 0x7caadbd7d300>"
            ]
          },
          "metadata": {},
          "execution_count": 24
        }
      ]
    },
    {
      "cell_type": "code",
      "metadata": {
        "colab": {
          "base_uri": "https://localhost:8080/"
        },
        "id": "_0mmRGP8exPo",
        "outputId": "a7b2c0ec-b417-4ade-b0ea-1a353662d05d"
      },
      "source": [
        "model3 = Sequential()\n",
        "model3.add(InputLayer((5, 1)))\n",
        "model3.add(GRU(64))\n",
        "model3.add(Dense(8, 'relu'))\n",
        "model3.add(Dense(1, 'linear'))\n",
        "model3.summary()"
      ],
      "execution_count": 25,
      "outputs": [
        {
          "output_type": "stream",
          "name": "stdout",
          "text": [
            "Model: \"sequential_2\"\n",
            "_________________________________________________________________\n",
            " Layer (type)                Output Shape              Param #   \n",
            "=================================================================\n",
            " gru (GRU)                   (None, 64)                12864     \n",
            "                                                                 \n",
            " dense_4 (Dense)             (None, 8)                 520       \n",
            "                                                                 \n",
            " dense_5 (Dense)             (None, 1)                 9         \n",
            "                                                                 \n",
            "=================================================================\n",
            "Total params: 13,393\n",
            "Trainable params: 13,393\n",
            "Non-trainable params: 0\n",
            "_________________________________________________________________\n"
          ]
        }
      ]
    },
    {
      "cell_type": "code",
      "metadata": {
        "id": "WbQzFWjXfa2i"
      },
      "source": [
        "cp3 = ModelCheckpoint('model3/', save_best_only=True)\n",
        "model3.compile(loss=MeanSquaredError(), optimizer=Adam(learning_rate=0.0001), metrics=[RootMeanSquaredError()])"
      ],
      "execution_count": 26,
      "outputs": []
    },
    {
      "cell_type": "code",
      "metadata": {
        "colab": {
          "base_uri": "https://localhost:8080/"
        },
        "id": "BzB6BUOQfivn",
        "outputId": "0634f5b5-c600-426d-b682-6dfc29c722e2"
      },
      "source": [
        "model3.fit(X_train1, y_train1, validation_data=(X_val1, y_val1), epochs=10, callbacks=[cp3])"
      ],
      "execution_count": 27,
      "outputs": [
        {
          "output_type": "stream",
          "name": "stdout",
          "text": [
            "Epoch 1/10\n",
            "1873/1875 [============================>.] - ETA: 0s - loss: 66.1244 - root_mean_squared_error: 8.1317"
          ]
        },
        {
          "output_type": "stream",
          "name": "stderr",
          "text": [
            "WARNING:absl:Found untraced functions such as _update_step_xla, gru_cell_layer_call_fn, gru_cell_layer_call_and_return_conditional_losses while saving (showing 3 of 3). These functions will not be directly callable after loading.\n"
          ]
        },
        {
          "output_type": "stream",
          "name": "stdout",
          "text": [
            "\b\b\b\b\b\b\b\b\b\b\b\b\b\b\b\b\b\b\b\b\b\b\b\b\b\b\b\b\b\b\b\b\b\b\b\b\b\b\b\b\b\b\b\b\b\b\b\b\b\b\b\b\b\b\b\b\b\b\b\b\b\b\b\b\b\b\b\b\b\b\b\b\b\b\b\b\b\b\b\b\b\b\b\b\b\b\b\b\b\b\b\b\b\b\b\b\b\b\b\b\b\b\r1875/1875 [==============================] - 18s 8ms/step - loss: 66.0969 - root_mean_squared_error: 8.1300 - val_loss: 5.5583 - val_root_mean_squared_error: 2.3576\n",
            "Epoch 2/10\n",
            "1871/1875 [============================>.] - ETA: 0s - loss: 11.0463 - root_mean_squared_error: 3.3236"
          ]
        },
        {
          "output_type": "stream",
          "name": "stderr",
          "text": [
            "WARNING:absl:Found untraced functions such as _update_step_xla, gru_cell_layer_call_fn, gru_cell_layer_call_and_return_conditional_losses while saving (showing 3 of 3). These functions will not be directly callable after loading.\n"
          ]
        },
        {
          "output_type": "stream",
          "name": "stdout",
          "text": [
            "\b\b\b\b\b\b\b\b\b\b\b\b\b\b\b\b\b\b\b\b\b\b\b\b\b\b\b\b\b\b\b\b\b\b\b\b\b\b\b\b\b\b\b\b\b\b\b\b\b\b\b\b\b\b\b\b\b\b\b\b\b\b\b\b\b\b\b\b\b\b\b\b\b\b\b\b\b\b\b\b\b\b\b\b\b\b\b\b\b\b\b\b\b\b\b\b\b\b\b\b\b\b\r1875/1875 [==============================] - 16s 8ms/step - loss: 11.0327 - root_mean_squared_error: 3.3215 - val_loss: 0.9791 - val_root_mean_squared_error: 0.9895\n",
            "Epoch 3/10\n",
            "1873/1875 [============================>.] - ETA: 0s - loss: 2.6023 - root_mean_squared_error: 1.6132"
          ]
        },
        {
          "output_type": "stream",
          "name": "stderr",
          "text": [
            "WARNING:absl:Found untraced functions such as _update_step_xla, gru_cell_layer_call_fn, gru_cell_layer_call_and_return_conditional_losses while saving (showing 3 of 3). These functions will not be directly callable after loading.\n"
          ]
        },
        {
          "output_type": "stream",
          "name": "stdout",
          "text": [
            "\b\b\b\b\b\b\b\b\b\b\b\b\b\b\b\b\b\b\b\b\b\b\b\b\b\b\b\b\b\b\b\b\b\b\b\b\b\b\b\b\b\b\b\b\b\b\b\b\b\b\b\b\b\b\b\b\b\b\b\b\b\b\b\b\b\b\b\b\b\b\b\b\b\b\b\b\b\b\b\b\b\b\b\b\b\b\b\b\b\b\b\b\b\b\b\b\b\b\b\b\b\r1875/1875 [==============================] - 18s 10ms/step - loss: 2.6028 - root_mean_squared_error: 1.6133 - val_loss: 0.6007 - val_root_mean_squared_error: 0.7751\n",
            "Epoch 4/10\n",
            "1872/1875 [============================>.] - ETA: 0s - loss: 1.1373 - root_mean_squared_error: 1.0664"
          ]
        },
        {
          "output_type": "stream",
          "name": "stderr",
          "text": [
            "WARNING:absl:Found untraced functions such as _update_step_xla, gru_cell_layer_call_fn, gru_cell_layer_call_and_return_conditional_losses while saving (showing 3 of 3). These functions will not be directly callable after loading.\n"
          ]
        },
        {
          "output_type": "stream",
          "name": "stdout",
          "text": [
            "\b\b\b\b\b\b\b\b\b\b\b\b\b\b\b\b\b\b\b\b\b\b\b\b\b\b\b\b\b\b\b\b\b\b\b\b\b\b\b\b\b\b\b\b\b\b\b\b\b\b\b\b\b\b\b\b\b\b\b\b\b\b\b\b\b\b\b\b\b\b\b\b\b\b\b\b\b\b\b\b\b\b\b\b\b\b\b\b\b\b\b\b\b\b\b\b\b\b\b\b\b\r1875/1875 [==============================] - 18s 9ms/step - loss: 1.1363 - root_mean_squared_error: 1.0660 - val_loss: 0.5166 - val_root_mean_squared_error: 0.7188\n",
            "Epoch 5/10\n",
            "1868/1875 [============================>.] - ETA: 0s - loss: 0.7935 - root_mean_squared_error: 0.8908"
          ]
        },
        {
          "output_type": "stream",
          "name": "stderr",
          "text": [
            "WARNING:absl:Found untraced functions such as _update_step_xla, gru_cell_layer_call_fn, gru_cell_layer_call_and_return_conditional_losses while saving (showing 3 of 3). These functions will not be directly callable after loading.\n"
          ]
        },
        {
          "output_type": "stream",
          "name": "stdout",
          "text": [
            "\b\b\b\b\b\b\b\b\b\b\b\b\b\b\b\b\b\b\b\b\b\b\b\b\b\b\b\b\b\b\b\b\b\b\b\b\b\b\b\b\b\b\b\b\b\b\b\b\b\b\b\b\b\b\b\b\b\b\b\b\b\b\b\b\b\b\b\b\b\b\b\b\b\b\b\b\b\b\b\b\b\b\b\b\b\b\b\b\b\b\b\b\b\b\b\b\b\b\b\b\b\r1875/1875 [==============================] - 18s 10ms/step - loss: 0.7946 - root_mean_squared_error: 0.8914 - val_loss: 0.5031 - val_root_mean_squared_error: 0.7093\n",
            "Epoch 6/10\n",
            "1874/1875 [============================>.] - ETA: 0s - loss: 0.7021 - root_mean_squared_error: 0.8379"
          ]
        },
        {
          "output_type": "stream",
          "name": "stderr",
          "text": [
            "WARNING:absl:Found untraced functions such as _update_step_xla, gru_cell_layer_call_fn, gru_cell_layer_call_and_return_conditional_losses while saving (showing 3 of 3). These functions will not be directly callable after loading.\n"
          ]
        },
        {
          "output_type": "stream",
          "name": "stdout",
          "text": [
            "\b\b\b\b\b\b\b\b\b\b\b\b\b\b\b\b\b\b\b\b\b\b\b\b\b\b\b\b\b\b\b\b\b\b\b\b\b\b\b\b\b\b\b\b\b\b\b\b\b\b\b\b\b\b\b\b\b\b\b\b\b\b\b\b\b\b\b\b\b\b\b\b\b\b\b\b\b\b\b\b\b\b\b\b\b\b\b\b\b\b\b\b\b\b\b\b\b\b\b\b\b\r1875/1875 [==============================] - 15s 8ms/step - loss: 0.7021 - root_mean_squared_error: 0.8379 - val_loss: 0.4956 - val_root_mean_squared_error: 0.7040\n",
            "Epoch 7/10\n",
            "1875/1875 [==============================] - 11s 6ms/step - loss: 0.6744 - root_mean_squared_error: 0.8212 - val_loss: 0.5030 - val_root_mean_squared_error: 0.7092\n",
            "Epoch 8/10\n",
            "1875/1875 [==============================] - 10s 5ms/step - loss: 0.6614 - root_mean_squared_error: 0.8133 - val_loss: 0.5010 - val_root_mean_squared_error: 0.7078\n",
            "Epoch 9/10\n",
            "1865/1875 [============================>.] - ETA: 0s - loss: 0.6550 - root_mean_squared_error: 0.8093"
          ]
        },
        {
          "output_type": "stream",
          "name": "stderr",
          "text": [
            "WARNING:absl:Found untraced functions such as _update_step_xla, gru_cell_layer_call_fn, gru_cell_layer_call_and_return_conditional_losses while saving (showing 3 of 3). These functions will not be directly callable after loading.\n"
          ]
        },
        {
          "output_type": "stream",
          "name": "stdout",
          "text": [
            "\b\b\b\b\b\b\b\b\b\b\b\b\b\b\b\b\b\b\b\b\b\b\b\b\b\b\b\b\b\b\b\b\b\b\b\b\b\b\b\b\b\b\b\b\b\b\b\b\b\b\b\b\b\b\b\b\b\b\b\b\b\b\b\b\b\b\b\b\b\b\b\b\b\b\b\b\b\b\b\b\b\b\b\b\b\b\b\b\b\b\b\b\b\b\b\b\b\b\b\b\b\r1875/1875 [==============================] - 16s 9ms/step - loss: 0.6550 - root_mean_squared_error: 0.8093 - val_loss: 0.4908 - val_root_mean_squared_error: 0.7006\n",
            "Epoch 10/10\n",
            "1869/1875 [============================>.] - ETA: 0s - loss: 0.6495 - root_mean_squared_error: 0.8059"
          ]
        },
        {
          "output_type": "stream",
          "name": "stderr",
          "text": [
            "WARNING:absl:Found untraced functions such as _update_step_xla, gru_cell_layer_call_fn, gru_cell_layer_call_and_return_conditional_losses while saving (showing 3 of 3). These functions will not be directly callable after loading.\n"
          ]
        },
        {
          "output_type": "stream",
          "name": "stdout",
          "text": [
            "\b\b\b\b\b\b\b\b\b\b\b\b\b\b\b\b\b\b\b\b\b\b\b\b\b\b\b\b\b\b\b\b\b\b\b\b\b\b\b\b\b\b\b\b\b\b\b\b\b\b\b\b\b\b\b\b\b\b\b\b\b\b\b\b\b\b\b\b\b\b\b\b\b\b\b\b\b\b\b\b\b\b\b\b\b\b\b\b\b\b\b\b\b\b\b\b\b\b\b\b\b\r1875/1875 [==============================] - 16s 9ms/step - loss: 0.6509 - root_mean_squared_error: 0.8068 - val_loss: 0.4900 - val_root_mean_squared_error: 0.7000\n"
          ]
        },
        {
          "output_type": "execute_result",
          "data": {
            "text/plain": [
              "<keras.callbacks.History at 0x7caaf4622bc0>"
            ]
          },
          "metadata": {},
          "execution_count": 27
        }
      ]
    },
    {
      "cell_type": "code",
      "metadata": {
        "colab": {
          "base_uri": "https://localhost:8080/",
          "height": 455
        },
        "id": "hGpenRH8hcvR",
        "outputId": "17626b83-ac9a-4375-db05-71dea750a71c"
      },
      "source": [
        "temp_df = pd.DataFrame({'Temperature':temp})\n",
        "temp_df['Seconds'] = temp_df.index.map(pd.Timestamp.timestamp)\n",
        "temp_df"
      ],
      "execution_count": 28,
      "outputs": [
        {
          "output_type": "execute_result",
          "data": {
            "text/plain": [
              "                     Temperature       Seconds\n",
              "Date Time                                     \n",
              "2009-01-01 01:00:00        -8.05  1.230772e+09\n",
              "2009-01-01 02:00:00        -8.88  1.230775e+09\n",
              "2009-01-01 03:00:00        -8.81  1.230779e+09\n",
              "2009-01-01 04:00:00        -9.05  1.230782e+09\n",
              "2009-01-01 05:00:00        -9.63  1.230786e+09\n",
              "...                          ...           ...\n",
              "2016-12-31 19:10:00        -0.98  1.483211e+09\n",
              "2016-12-31 20:10:00        -1.40  1.483215e+09\n",
              "2016-12-31 21:10:00        -2.75  1.483219e+09\n",
              "2016-12-31 22:10:00        -2.89  1.483222e+09\n",
              "2016-12-31 23:10:00        -3.93  1.483226e+09\n",
              "\n",
              "[70091 rows x 2 columns]"
            ],
            "text/html": [
              "\n",
              "  <div id=\"df-bcd6555a-f5ce-48bf-8afa-9ca060e31ad7\" class=\"colab-df-container\">\n",
              "    <div>\n",
              "<style scoped>\n",
              "    .dataframe tbody tr th:only-of-type {\n",
              "        vertical-align: middle;\n",
              "    }\n",
              "\n",
              "    .dataframe tbody tr th {\n",
              "        vertical-align: top;\n",
              "    }\n",
              "\n",
              "    .dataframe thead th {\n",
              "        text-align: right;\n",
              "    }\n",
              "</style>\n",
              "<table border=\"1\" class=\"dataframe\">\n",
              "  <thead>\n",
              "    <tr style=\"text-align: right;\">\n",
              "      <th></th>\n",
              "      <th>Temperature</th>\n",
              "      <th>Seconds</th>\n",
              "    </tr>\n",
              "    <tr>\n",
              "      <th>Date Time</th>\n",
              "      <th></th>\n",
              "      <th></th>\n",
              "    </tr>\n",
              "  </thead>\n",
              "  <tbody>\n",
              "    <tr>\n",
              "      <th>2009-01-01 01:00:00</th>\n",
              "      <td>-8.05</td>\n",
              "      <td>1.230772e+09</td>\n",
              "    </tr>\n",
              "    <tr>\n",
              "      <th>2009-01-01 02:00:00</th>\n",
              "      <td>-8.88</td>\n",
              "      <td>1.230775e+09</td>\n",
              "    </tr>\n",
              "    <tr>\n",
              "      <th>2009-01-01 03:00:00</th>\n",
              "      <td>-8.81</td>\n",
              "      <td>1.230779e+09</td>\n",
              "    </tr>\n",
              "    <tr>\n",
              "      <th>2009-01-01 04:00:00</th>\n",
              "      <td>-9.05</td>\n",
              "      <td>1.230782e+09</td>\n",
              "    </tr>\n",
              "    <tr>\n",
              "      <th>2009-01-01 05:00:00</th>\n",
              "      <td>-9.63</td>\n",
              "      <td>1.230786e+09</td>\n",
              "    </tr>\n",
              "    <tr>\n",
              "      <th>...</th>\n",
              "      <td>...</td>\n",
              "      <td>...</td>\n",
              "    </tr>\n",
              "    <tr>\n",
              "      <th>2016-12-31 19:10:00</th>\n",
              "      <td>-0.98</td>\n",
              "      <td>1.483211e+09</td>\n",
              "    </tr>\n",
              "    <tr>\n",
              "      <th>2016-12-31 20:10:00</th>\n",
              "      <td>-1.40</td>\n",
              "      <td>1.483215e+09</td>\n",
              "    </tr>\n",
              "    <tr>\n",
              "      <th>2016-12-31 21:10:00</th>\n",
              "      <td>-2.75</td>\n",
              "      <td>1.483219e+09</td>\n",
              "    </tr>\n",
              "    <tr>\n",
              "      <th>2016-12-31 22:10:00</th>\n",
              "      <td>-2.89</td>\n",
              "      <td>1.483222e+09</td>\n",
              "    </tr>\n",
              "    <tr>\n",
              "      <th>2016-12-31 23:10:00</th>\n",
              "      <td>-3.93</td>\n",
              "      <td>1.483226e+09</td>\n",
              "    </tr>\n",
              "  </tbody>\n",
              "</table>\n",
              "<p>70091 rows × 2 columns</p>\n",
              "</div>\n",
              "    <div class=\"colab-df-buttons\">\n",
              "\n",
              "  <div class=\"colab-df-container\">\n",
              "    <button class=\"colab-df-convert\" onclick=\"convertToInteractive('df-bcd6555a-f5ce-48bf-8afa-9ca060e31ad7')\"\n",
              "            title=\"Convert this dataframe to an interactive table.\"\n",
              "            style=\"display:none;\">\n",
              "\n",
              "  <svg xmlns=\"http://www.w3.org/2000/svg\" height=\"24px\" viewBox=\"0 -960 960 960\">\n",
              "    <path d=\"M120-120v-720h720v720H120Zm60-500h600v-160H180v160Zm220 220h160v-160H400v160Zm0 220h160v-160H400v160ZM180-400h160v-160H180v160Zm440 0h160v-160H620v160ZM180-180h160v-160H180v160Zm440 0h160v-160H620v160Z\"/>\n",
              "  </svg>\n",
              "    </button>\n",
              "\n",
              "  <style>\n",
              "    .colab-df-container {\n",
              "      display:flex;\n",
              "      gap: 12px;\n",
              "    }\n",
              "\n",
              "    .colab-df-convert {\n",
              "      background-color: #E8F0FE;\n",
              "      border: none;\n",
              "      border-radius: 50%;\n",
              "      cursor: pointer;\n",
              "      display: none;\n",
              "      fill: #1967D2;\n",
              "      height: 32px;\n",
              "      padding: 0 0 0 0;\n",
              "      width: 32px;\n",
              "    }\n",
              "\n",
              "    .colab-df-convert:hover {\n",
              "      background-color: #E2EBFA;\n",
              "      box-shadow: 0px 1px 2px rgba(60, 64, 67, 0.3), 0px 1px 3px 1px rgba(60, 64, 67, 0.15);\n",
              "      fill: #174EA6;\n",
              "    }\n",
              "\n",
              "    .colab-df-buttons div {\n",
              "      margin-bottom: 4px;\n",
              "    }\n",
              "\n",
              "    [theme=dark] .colab-df-convert {\n",
              "      background-color: #3B4455;\n",
              "      fill: #D2E3FC;\n",
              "    }\n",
              "\n",
              "    [theme=dark] .colab-df-convert:hover {\n",
              "      background-color: #434B5C;\n",
              "      box-shadow: 0px 1px 3px 1px rgba(0, 0, 0, 0.15);\n",
              "      filter: drop-shadow(0px 1px 2px rgba(0, 0, 0, 0.3));\n",
              "      fill: #FFFFFF;\n",
              "    }\n",
              "  </style>\n",
              "\n",
              "    <script>\n",
              "      const buttonEl =\n",
              "        document.querySelector('#df-bcd6555a-f5ce-48bf-8afa-9ca060e31ad7 button.colab-df-convert');\n",
              "      buttonEl.style.display =\n",
              "        google.colab.kernel.accessAllowed ? 'block' : 'none';\n",
              "\n",
              "      async function convertToInteractive(key) {\n",
              "        const element = document.querySelector('#df-bcd6555a-f5ce-48bf-8afa-9ca060e31ad7');\n",
              "        const dataTable =\n",
              "          await google.colab.kernel.invokeFunction('convertToInteractive',\n",
              "                                                    [key], {});\n",
              "        if (!dataTable) return;\n",
              "\n",
              "        const docLinkHtml = 'Like what you see? Visit the ' +\n",
              "          '<a target=\"_blank\" href=https://colab.research.google.com/notebooks/data_table.ipynb>data table notebook</a>'\n",
              "          + ' to learn more about interactive tables.';\n",
              "        element.innerHTML = '';\n",
              "        dataTable['output_type'] = 'display_data';\n",
              "        await google.colab.output.renderOutput(dataTable, element);\n",
              "        const docLink = document.createElement('div');\n",
              "        docLink.innerHTML = docLinkHtml;\n",
              "        element.appendChild(docLink);\n",
              "      }\n",
              "    </script>\n",
              "  </div>\n",
              "\n",
              "\n",
              "<div id=\"df-fac0f0f8-90f8-4eaf-a149-8a6c0f97c816\">\n",
              "  <button class=\"colab-df-quickchart\" onclick=\"quickchart('df-fac0f0f8-90f8-4eaf-a149-8a6c0f97c816')\"\n",
              "            title=\"Suggest charts.\"\n",
              "            style=\"display:none;\">\n",
              "\n",
              "<svg xmlns=\"http://www.w3.org/2000/svg\" height=\"24px\"viewBox=\"0 0 24 24\"\n",
              "     width=\"24px\">\n",
              "    <g>\n",
              "        <path d=\"M19 3H5c-1.1 0-2 .9-2 2v14c0 1.1.9 2 2 2h14c1.1 0 2-.9 2-2V5c0-1.1-.9-2-2-2zM9 17H7v-7h2v7zm4 0h-2V7h2v10zm4 0h-2v-4h2v4z\"/>\n",
              "    </g>\n",
              "</svg>\n",
              "  </button>\n",
              "\n",
              "<style>\n",
              "  .colab-df-quickchart {\n",
              "    background-color: #E8F0FE;\n",
              "    border: none;\n",
              "    border-radius: 50%;\n",
              "    cursor: pointer;\n",
              "    display: none;\n",
              "    fill: #1967D2;\n",
              "    height: 32px;\n",
              "    padding: 0 0 0 0;\n",
              "    width: 32px;\n",
              "  }\n",
              "\n",
              "  .colab-df-quickchart:hover {\n",
              "    background-color: #E2EBFA;\n",
              "    box-shadow: 0px 1px 2px rgba(60, 64, 67, 0.3), 0px 1px 3px 1px rgba(60, 64, 67, 0.15);\n",
              "    fill: #174EA6;\n",
              "  }\n",
              "\n",
              "  [theme=dark] .colab-df-quickchart {\n",
              "    background-color: #3B4455;\n",
              "    fill: #D2E3FC;\n",
              "  }\n",
              "\n",
              "  [theme=dark] .colab-df-quickchart:hover {\n",
              "    background-color: #434B5C;\n",
              "    box-shadow: 0px 1px 3px 1px rgba(0, 0, 0, 0.15);\n",
              "    filter: drop-shadow(0px 1px 2px rgba(0, 0, 0, 0.3));\n",
              "    fill: #FFFFFF;\n",
              "  }\n",
              "</style>\n",
              "\n",
              "  <script>\n",
              "    async function quickchart(key) {\n",
              "      const charts = await google.colab.kernel.invokeFunction(\n",
              "          'suggestCharts', [key], {});\n",
              "    }\n",
              "    (() => {\n",
              "      let quickchartButtonEl =\n",
              "        document.querySelector('#df-fac0f0f8-90f8-4eaf-a149-8a6c0f97c816 button');\n",
              "      quickchartButtonEl.style.display =\n",
              "        google.colab.kernel.accessAllowed ? 'block' : 'none';\n",
              "    })();\n",
              "  </script>\n",
              "</div>\n",
              "    </div>\n",
              "  </div>\n"
            ]
          },
          "metadata": {},
          "execution_count": 28
        }
      ]
    },
    {
      "cell_type": "markdown",
      "source": [
        "[Cyclical features encoding, it’s about time!](https://towardsdatascience.com/cyclical-features-encoding-its-about-time-ce23581845ca)"
      ],
      "metadata": {
        "id": "r75Harz5aRP_"
      }
    },
    {
      "cell_type": "code",
      "metadata": {
        "colab": {
          "base_uri": "https://localhost:8080/",
          "height": 237
        },
        "id": "J-YOd8tLhpE0",
        "outputId": "94c34fa6-e900-408d-859e-ddc951702689"
      },
      "source": [
        "# sin /cos better captures the cyclic nature vs the ever increasing nature of total seconds\n",
        "day = 60*60*24\n",
        "year = 365.2425*day\n",
        "\n",
        "temp_df['Day sin'] = np.sin(temp_df['Seconds'] * (2* np.pi / day))\n",
        "temp_df['Day cos'] = np.cos(temp_df['Seconds'] * (2 * np.pi / day))\n",
        "temp_df['Year sin'] = np.sin(temp_df['Seconds'] * (2 * np.pi / year))\n",
        "temp_df['Year cos'] = np.cos(temp_df['Seconds'] * (2 * np.pi / year))\n",
        "temp_df.head()"
      ],
      "execution_count": 29,
      "outputs": [
        {
          "output_type": "execute_result",
          "data": {
            "text/plain": [
              "                     Temperature       Seconds   Day sin   Day cos  Year sin  \\\n",
              "Date Time                                                                      \n",
              "2009-01-01 01:00:00        -8.05  1.230772e+09  0.258819  0.965926  0.010049   \n",
              "2009-01-01 02:00:00        -8.88  1.230775e+09  0.500000  0.866025  0.010766   \n",
              "2009-01-01 03:00:00        -8.81  1.230779e+09  0.707107  0.707107  0.011483   \n",
              "2009-01-01 04:00:00        -9.05  1.230782e+09  0.866025  0.500000  0.012199   \n",
              "2009-01-01 05:00:00        -9.63  1.230786e+09  0.965926  0.258819  0.012916   \n",
              "\n",
              "                     Year cos  \n",
              "Date Time                      \n",
              "2009-01-01 01:00:00  0.999950  \n",
              "2009-01-01 02:00:00  0.999942  \n",
              "2009-01-01 03:00:00  0.999934  \n",
              "2009-01-01 04:00:00  0.999926  \n",
              "2009-01-01 05:00:00  0.999917  "
            ],
            "text/html": [
              "\n",
              "  <div id=\"df-3419e908-f6e1-4a2a-b53a-43f9ec5e6e0c\" class=\"colab-df-container\">\n",
              "    <div>\n",
              "<style scoped>\n",
              "    .dataframe tbody tr th:only-of-type {\n",
              "        vertical-align: middle;\n",
              "    }\n",
              "\n",
              "    .dataframe tbody tr th {\n",
              "        vertical-align: top;\n",
              "    }\n",
              "\n",
              "    .dataframe thead th {\n",
              "        text-align: right;\n",
              "    }\n",
              "</style>\n",
              "<table border=\"1\" class=\"dataframe\">\n",
              "  <thead>\n",
              "    <tr style=\"text-align: right;\">\n",
              "      <th></th>\n",
              "      <th>Temperature</th>\n",
              "      <th>Seconds</th>\n",
              "      <th>Day sin</th>\n",
              "      <th>Day cos</th>\n",
              "      <th>Year sin</th>\n",
              "      <th>Year cos</th>\n",
              "    </tr>\n",
              "    <tr>\n",
              "      <th>Date Time</th>\n",
              "      <th></th>\n",
              "      <th></th>\n",
              "      <th></th>\n",
              "      <th></th>\n",
              "      <th></th>\n",
              "      <th></th>\n",
              "    </tr>\n",
              "  </thead>\n",
              "  <tbody>\n",
              "    <tr>\n",
              "      <th>2009-01-01 01:00:00</th>\n",
              "      <td>-8.05</td>\n",
              "      <td>1.230772e+09</td>\n",
              "      <td>0.258819</td>\n",
              "      <td>0.965926</td>\n",
              "      <td>0.010049</td>\n",
              "      <td>0.999950</td>\n",
              "    </tr>\n",
              "    <tr>\n",
              "      <th>2009-01-01 02:00:00</th>\n",
              "      <td>-8.88</td>\n",
              "      <td>1.230775e+09</td>\n",
              "      <td>0.500000</td>\n",
              "      <td>0.866025</td>\n",
              "      <td>0.010766</td>\n",
              "      <td>0.999942</td>\n",
              "    </tr>\n",
              "    <tr>\n",
              "      <th>2009-01-01 03:00:00</th>\n",
              "      <td>-8.81</td>\n",
              "      <td>1.230779e+09</td>\n",
              "      <td>0.707107</td>\n",
              "      <td>0.707107</td>\n",
              "      <td>0.011483</td>\n",
              "      <td>0.999934</td>\n",
              "    </tr>\n",
              "    <tr>\n",
              "      <th>2009-01-01 04:00:00</th>\n",
              "      <td>-9.05</td>\n",
              "      <td>1.230782e+09</td>\n",
              "      <td>0.866025</td>\n",
              "      <td>0.500000</td>\n",
              "      <td>0.012199</td>\n",
              "      <td>0.999926</td>\n",
              "    </tr>\n",
              "    <tr>\n",
              "      <th>2009-01-01 05:00:00</th>\n",
              "      <td>-9.63</td>\n",
              "      <td>1.230786e+09</td>\n",
              "      <td>0.965926</td>\n",
              "      <td>0.258819</td>\n",
              "      <td>0.012916</td>\n",
              "      <td>0.999917</td>\n",
              "    </tr>\n",
              "  </tbody>\n",
              "</table>\n",
              "</div>\n",
              "    <div class=\"colab-df-buttons\">\n",
              "\n",
              "  <div class=\"colab-df-container\">\n",
              "    <button class=\"colab-df-convert\" onclick=\"convertToInteractive('df-3419e908-f6e1-4a2a-b53a-43f9ec5e6e0c')\"\n",
              "            title=\"Convert this dataframe to an interactive table.\"\n",
              "            style=\"display:none;\">\n",
              "\n",
              "  <svg xmlns=\"http://www.w3.org/2000/svg\" height=\"24px\" viewBox=\"0 -960 960 960\">\n",
              "    <path d=\"M120-120v-720h720v720H120Zm60-500h600v-160H180v160Zm220 220h160v-160H400v160Zm0 220h160v-160H400v160ZM180-400h160v-160H180v160Zm440 0h160v-160H620v160ZM180-180h160v-160H180v160Zm440 0h160v-160H620v160Z\"/>\n",
              "  </svg>\n",
              "    </button>\n",
              "\n",
              "  <style>\n",
              "    .colab-df-container {\n",
              "      display:flex;\n",
              "      gap: 12px;\n",
              "    }\n",
              "\n",
              "    .colab-df-convert {\n",
              "      background-color: #E8F0FE;\n",
              "      border: none;\n",
              "      border-radius: 50%;\n",
              "      cursor: pointer;\n",
              "      display: none;\n",
              "      fill: #1967D2;\n",
              "      height: 32px;\n",
              "      padding: 0 0 0 0;\n",
              "      width: 32px;\n",
              "    }\n",
              "\n",
              "    .colab-df-convert:hover {\n",
              "      background-color: #E2EBFA;\n",
              "      box-shadow: 0px 1px 2px rgba(60, 64, 67, 0.3), 0px 1px 3px 1px rgba(60, 64, 67, 0.15);\n",
              "      fill: #174EA6;\n",
              "    }\n",
              "\n",
              "    .colab-df-buttons div {\n",
              "      margin-bottom: 4px;\n",
              "    }\n",
              "\n",
              "    [theme=dark] .colab-df-convert {\n",
              "      background-color: #3B4455;\n",
              "      fill: #D2E3FC;\n",
              "    }\n",
              "\n",
              "    [theme=dark] .colab-df-convert:hover {\n",
              "      background-color: #434B5C;\n",
              "      box-shadow: 0px 1px 3px 1px rgba(0, 0, 0, 0.15);\n",
              "      filter: drop-shadow(0px 1px 2px rgba(0, 0, 0, 0.3));\n",
              "      fill: #FFFFFF;\n",
              "    }\n",
              "  </style>\n",
              "\n",
              "    <script>\n",
              "      const buttonEl =\n",
              "        document.querySelector('#df-3419e908-f6e1-4a2a-b53a-43f9ec5e6e0c button.colab-df-convert');\n",
              "      buttonEl.style.display =\n",
              "        google.colab.kernel.accessAllowed ? 'block' : 'none';\n",
              "\n",
              "      async function convertToInteractive(key) {\n",
              "        const element = document.querySelector('#df-3419e908-f6e1-4a2a-b53a-43f9ec5e6e0c');\n",
              "        const dataTable =\n",
              "          await google.colab.kernel.invokeFunction('convertToInteractive',\n",
              "                                                    [key], {});\n",
              "        if (!dataTable) return;\n",
              "\n",
              "        const docLinkHtml = 'Like what you see? Visit the ' +\n",
              "          '<a target=\"_blank\" href=https://colab.research.google.com/notebooks/data_table.ipynb>data table notebook</a>'\n",
              "          + ' to learn more about interactive tables.';\n",
              "        element.innerHTML = '';\n",
              "        dataTable['output_type'] = 'display_data';\n",
              "        await google.colab.output.renderOutput(dataTable, element);\n",
              "        const docLink = document.createElement('div');\n",
              "        docLink.innerHTML = docLinkHtml;\n",
              "        element.appendChild(docLink);\n",
              "      }\n",
              "    </script>\n",
              "  </div>\n",
              "\n",
              "\n",
              "<div id=\"df-d08e0b8b-a89d-42af-bbaf-a868bfaea010\">\n",
              "  <button class=\"colab-df-quickchart\" onclick=\"quickchart('df-d08e0b8b-a89d-42af-bbaf-a868bfaea010')\"\n",
              "            title=\"Suggest charts.\"\n",
              "            style=\"display:none;\">\n",
              "\n",
              "<svg xmlns=\"http://www.w3.org/2000/svg\" height=\"24px\"viewBox=\"0 0 24 24\"\n",
              "     width=\"24px\">\n",
              "    <g>\n",
              "        <path d=\"M19 3H5c-1.1 0-2 .9-2 2v14c0 1.1.9 2 2 2h14c1.1 0 2-.9 2-2V5c0-1.1-.9-2-2-2zM9 17H7v-7h2v7zm4 0h-2V7h2v10zm4 0h-2v-4h2v4z\"/>\n",
              "    </g>\n",
              "</svg>\n",
              "  </button>\n",
              "\n",
              "<style>\n",
              "  .colab-df-quickchart {\n",
              "    background-color: #E8F0FE;\n",
              "    border: none;\n",
              "    border-radius: 50%;\n",
              "    cursor: pointer;\n",
              "    display: none;\n",
              "    fill: #1967D2;\n",
              "    height: 32px;\n",
              "    padding: 0 0 0 0;\n",
              "    width: 32px;\n",
              "  }\n",
              "\n",
              "  .colab-df-quickchart:hover {\n",
              "    background-color: #E2EBFA;\n",
              "    box-shadow: 0px 1px 2px rgba(60, 64, 67, 0.3), 0px 1px 3px 1px rgba(60, 64, 67, 0.15);\n",
              "    fill: #174EA6;\n",
              "  }\n",
              "\n",
              "  [theme=dark] .colab-df-quickchart {\n",
              "    background-color: #3B4455;\n",
              "    fill: #D2E3FC;\n",
              "  }\n",
              "\n",
              "  [theme=dark] .colab-df-quickchart:hover {\n",
              "    background-color: #434B5C;\n",
              "    box-shadow: 0px 1px 3px 1px rgba(0, 0, 0, 0.15);\n",
              "    filter: drop-shadow(0px 1px 2px rgba(0, 0, 0, 0.3));\n",
              "    fill: #FFFFFF;\n",
              "  }\n",
              "</style>\n",
              "\n",
              "  <script>\n",
              "    async function quickchart(key) {\n",
              "      const charts = await google.colab.kernel.invokeFunction(\n",
              "          'suggestCharts', [key], {});\n",
              "    }\n",
              "    (() => {\n",
              "      let quickchartButtonEl =\n",
              "        document.querySelector('#df-d08e0b8b-a89d-42af-bbaf-a868bfaea010 button');\n",
              "      quickchartButtonEl.style.display =\n",
              "        google.colab.kernel.accessAllowed ? 'block' : 'none';\n",
              "    })();\n",
              "  </script>\n",
              "</div>\n",
              "    </div>\n",
              "  </div>\n"
            ]
          },
          "metadata": {},
          "execution_count": 29
        }
      ]
    },
    {
      "cell_type": "code",
      "metadata": {
        "colab": {
          "base_uri": "https://localhost:8080/",
          "height": 237
        },
        "id": "KKF-LfUVjDpi",
        "outputId": "68591823-c445-4ae9-a84c-b2430d8ec74a"
      },
      "source": [
        "# seconds would cause a collinearity with the sin/cos features\n",
        "temp_df = temp_df.drop('Seconds', axis=1)\n",
        "temp_df.head()"
      ],
      "execution_count": 30,
      "outputs": [
        {
          "output_type": "execute_result",
          "data": {
            "text/plain": [
              "                     Temperature   Day sin   Day cos  Year sin  Year cos\n",
              "Date Time                                                               \n",
              "2009-01-01 01:00:00        -8.05  0.258819  0.965926  0.010049  0.999950\n",
              "2009-01-01 02:00:00        -8.88  0.500000  0.866025  0.010766  0.999942\n",
              "2009-01-01 03:00:00        -8.81  0.707107  0.707107  0.011483  0.999934\n",
              "2009-01-01 04:00:00        -9.05  0.866025  0.500000  0.012199  0.999926\n",
              "2009-01-01 05:00:00        -9.63  0.965926  0.258819  0.012916  0.999917"
            ],
            "text/html": [
              "\n",
              "  <div id=\"df-6717fa77-4500-47d1-9a9d-f661f66e069e\" class=\"colab-df-container\">\n",
              "    <div>\n",
              "<style scoped>\n",
              "    .dataframe tbody tr th:only-of-type {\n",
              "        vertical-align: middle;\n",
              "    }\n",
              "\n",
              "    .dataframe tbody tr th {\n",
              "        vertical-align: top;\n",
              "    }\n",
              "\n",
              "    .dataframe thead th {\n",
              "        text-align: right;\n",
              "    }\n",
              "</style>\n",
              "<table border=\"1\" class=\"dataframe\">\n",
              "  <thead>\n",
              "    <tr style=\"text-align: right;\">\n",
              "      <th></th>\n",
              "      <th>Temperature</th>\n",
              "      <th>Day sin</th>\n",
              "      <th>Day cos</th>\n",
              "      <th>Year sin</th>\n",
              "      <th>Year cos</th>\n",
              "    </tr>\n",
              "    <tr>\n",
              "      <th>Date Time</th>\n",
              "      <th></th>\n",
              "      <th></th>\n",
              "      <th></th>\n",
              "      <th></th>\n",
              "      <th></th>\n",
              "    </tr>\n",
              "  </thead>\n",
              "  <tbody>\n",
              "    <tr>\n",
              "      <th>2009-01-01 01:00:00</th>\n",
              "      <td>-8.05</td>\n",
              "      <td>0.258819</td>\n",
              "      <td>0.965926</td>\n",
              "      <td>0.010049</td>\n",
              "      <td>0.999950</td>\n",
              "    </tr>\n",
              "    <tr>\n",
              "      <th>2009-01-01 02:00:00</th>\n",
              "      <td>-8.88</td>\n",
              "      <td>0.500000</td>\n",
              "      <td>0.866025</td>\n",
              "      <td>0.010766</td>\n",
              "      <td>0.999942</td>\n",
              "    </tr>\n",
              "    <tr>\n",
              "      <th>2009-01-01 03:00:00</th>\n",
              "      <td>-8.81</td>\n",
              "      <td>0.707107</td>\n",
              "      <td>0.707107</td>\n",
              "      <td>0.011483</td>\n",
              "      <td>0.999934</td>\n",
              "    </tr>\n",
              "    <tr>\n",
              "      <th>2009-01-01 04:00:00</th>\n",
              "      <td>-9.05</td>\n",
              "      <td>0.866025</td>\n",
              "      <td>0.500000</td>\n",
              "      <td>0.012199</td>\n",
              "      <td>0.999926</td>\n",
              "    </tr>\n",
              "    <tr>\n",
              "      <th>2009-01-01 05:00:00</th>\n",
              "      <td>-9.63</td>\n",
              "      <td>0.965926</td>\n",
              "      <td>0.258819</td>\n",
              "      <td>0.012916</td>\n",
              "      <td>0.999917</td>\n",
              "    </tr>\n",
              "  </tbody>\n",
              "</table>\n",
              "</div>\n",
              "    <div class=\"colab-df-buttons\">\n",
              "\n",
              "  <div class=\"colab-df-container\">\n",
              "    <button class=\"colab-df-convert\" onclick=\"convertToInteractive('df-6717fa77-4500-47d1-9a9d-f661f66e069e')\"\n",
              "            title=\"Convert this dataframe to an interactive table.\"\n",
              "            style=\"display:none;\">\n",
              "\n",
              "  <svg xmlns=\"http://www.w3.org/2000/svg\" height=\"24px\" viewBox=\"0 -960 960 960\">\n",
              "    <path d=\"M120-120v-720h720v720H120Zm60-500h600v-160H180v160Zm220 220h160v-160H400v160Zm0 220h160v-160H400v160ZM180-400h160v-160H180v160Zm440 0h160v-160H620v160ZM180-180h160v-160H180v160Zm440 0h160v-160H620v160Z\"/>\n",
              "  </svg>\n",
              "    </button>\n",
              "\n",
              "  <style>\n",
              "    .colab-df-container {\n",
              "      display:flex;\n",
              "      gap: 12px;\n",
              "    }\n",
              "\n",
              "    .colab-df-convert {\n",
              "      background-color: #E8F0FE;\n",
              "      border: none;\n",
              "      border-radius: 50%;\n",
              "      cursor: pointer;\n",
              "      display: none;\n",
              "      fill: #1967D2;\n",
              "      height: 32px;\n",
              "      padding: 0 0 0 0;\n",
              "      width: 32px;\n",
              "    }\n",
              "\n",
              "    .colab-df-convert:hover {\n",
              "      background-color: #E2EBFA;\n",
              "      box-shadow: 0px 1px 2px rgba(60, 64, 67, 0.3), 0px 1px 3px 1px rgba(60, 64, 67, 0.15);\n",
              "      fill: #174EA6;\n",
              "    }\n",
              "\n",
              "    .colab-df-buttons div {\n",
              "      margin-bottom: 4px;\n",
              "    }\n",
              "\n",
              "    [theme=dark] .colab-df-convert {\n",
              "      background-color: #3B4455;\n",
              "      fill: #D2E3FC;\n",
              "    }\n",
              "\n",
              "    [theme=dark] .colab-df-convert:hover {\n",
              "      background-color: #434B5C;\n",
              "      box-shadow: 0px 1px 3px 1px rgba(0, 0, 0, 0.15);\n",
              "      filter: drop-shadow(0px 1px 2px rgba(0, 0, 0, 0.3));\n",
              "      fill: #FFFFFF;\n",
              "    }\n",
              "  </style>\n",
              "\n",
              "    <script>\n",
              "      const buttonEl =\n",
              "        document.querySelector('#df-6717fa77-4500-47d1-9a9d-f661f66e069e button.colab-df-convert');\n",
              "      buttonEl.style.display =\n",
              "        google.colab.kernel.accessAllowed ? 'block' : 'none';\n",
              "\n",
              "      async function convertToInteractive(key) {\n",
              "        const element = document.querySelector('#df-6717fa77-4500-47d1-9a9d-f661f66e069e');\n",
              "        const dataTable =\n",
              "          await google.colab.kernel.invokeFunction('convertToInteractive',\n",
              "                                                    [key], {});\n",
              "        if (!dataTable) return;\n",
              "\n",
              "        const docLinkHtml = 'Like what you see? Visit the ' +\n",
              "          '<a target=\"_blank\" href=https://colab.research.google.com/notebooks/data_table.ipynb>data table notebook</a>'\n",
              "          + ' to learn more about interactive tables.';\n",
              "        element.innerHTML = '';\n",
              "        dataTable['output_type'] = 'display_data';\n",
              "        await google.colab.output.renderOutput(dataTable, element);\n",
              "        const docLink = document.createElement('div');\n",
              "        docLink.innerHTML = docLinkHtml;\n",
              "        element.appendChild(docLink);\n",
              "      }\n",
              "    </script>\n",
              "  </div>\n",
              "\n",
              "\n",
              "<div id=\"df-9974ac33-003c-44dd-b2e8-5e8908c2b253\">\n",
              "  <button class=\"colab-df-quickchart\" onclick=\"quickchart('df-9974ac33-003c-44dd-b2e8-5e8908c2b253')\"\n",
              "            title=\"Suggest charts.\"\n",
              "            style=\"display:none;\">\n",
              "\n",
              "<svg xmlns=\"http://www.w3.org/2000/svg\" height=\"24px\"viewBox=\"0 0 24 24\"\n",
              "     width=\"24px\">\n",
              "    <g>\n",
              "        <path d=\"M19 3H5c-1.1 0-2 .9-2 2v14c0 1.1.9 2 2 2h14c1.1 0 2-.9 2-2V5c0-1.1-.9-2-2-2zM9 17H7v-7h2v7zm4 0h-2V7h2v10zm4 0h-2v-4h2v4z\"/>\n",
              "    </g>\n",
              "</svg>\n",
              "  </button>\n",
              "\n",
              "<style>\n",
              "  .colab-df-quickchart {\n",
              "    background-color: #E8F0FE;\n",
              "    border: none;\n",
              "    border-radius: 50%;\n",
              "    cursor: pointer;\n",
              "    display: none;\n",
              "    fill: #1967D2;\n",
              "    height: 32px;\n",
              "    padding: 0 0 0 0;\n",
              "    width: 32px;\n",
              "  }\n",
              "\n",
              "  .colab-df-quickchart:hover {\n",
              "    background-color: #E2EBFA;\n",
              "    box-shadow: 0px 1px 2px rgba(60, 64, 67, 0.3), 0px 1px 3px 1px rgba(60, 64, 67, 0.15);\n",
              "    fill: #174EA6;\n",
              "  }\n",
              "\n",
              "  [theme=dark] .colab-df-quickchart {\n",
              "    background-color: #3B4455;\n",
              "    fill: #D2E3FC;\n",
              "  }\n",
              "\n",
              "  [theme=dark] .colab-df-quickchart:hover {\n",
              "    background-color: #434B5C;\n",
              "    box-shadow: 0px 1px 3px 1px rgba(0, 0, 0, 0.15);\n",
              "    filter: drop-shadow(0px 1px 2px rgba(0, 0, 0, 0.3));\n",
              "    fill: #FFFFFF;\n",
              "  }\n",
              "</style>\n",
              "\n",
              "  <script>\n",
              "    async function quickchart(key) {\n",
              "      const charts = await google.colab.kernel.invokeFunction(\n",
              "          'suggestCharts', [key], {});\n",
              "    }\n",
              "    (() => {\n",
              "      let quickchartButtonEl =\n",
              "        document.querySelector('#df-9974ac33-003c-44dd-b2e8-5e8908c2b253 button');\n",
              "      quickchartButtonEl.style.display =\n",
              "        google.colab.kernel.accessAllowed ? 'block' : 'none';\n",
              "    })();\n",
              "  </script>\n",
              "</div>\n",
              "    </div>\n",
              "  </div>\n"
            ]
          },
          "metadata": {},
          "execution_count": 30
        }
      ]
    },
    {
      "cell_type": "code",
      "metadata": {
        "id": "Db8BJQONjbAT"
      },
      "source": [
        "# create the set of data (for each variable) for a given time. And those features are used for the prediction\n",
        "# for example temp and Day sin = [[[t1, ds1],[t2,ds2],[t3,ds3],....]]\n",
        "def df_to_X_y2(df, window_size=6):\n",
        "  df_as_np = df.to_numpy()\n",
        "  X = []\n",
        "  y = []\n",
        "  for i in range(len(df_as_np)-window_size):\n",
        "    row = [r for r in df_as_np[i:i+window_size]]\n",
        "    X.append(row)\n",
        "    label = df_as_np[i+window_size][0]\n",
        "    y.append(label)\n",
        "  return np.array(X), np.array(y)"
      ],
      "execution_count": 31,
      "outputs": []
    },
    {
      "cell_type": "code",
      "metadata": {
        "colab": {
          "base_uri": "https://localhost:8080/"
        },
        "id": "eJhF1cIDleQ1",
        "outputId": "97ce6c9b-78ad-4075-c7bc-3af9687a9502"
      },
      "source": [
        "X2, y2 = df_to_X_y2(temp_df)\n",
        "X2.shape, y2.shape"
      ],
      "execution_count": 32,
      "outputs": [
        {
          "output_type": "execute_result",
          "data": {
            "text/plain": [
              "((70085, 6, 5), (70085,))"
            ]
          },
          "metadata": {},
          "execution_count": 32
        }
      ]
    },
    {
      "cell_type": "code",
      "metadata": {
        "colab": {
          "base_uri": "https://localhost:8080/"
        },
        "id": "FMOArQgyoTnq",
        "outputId": "2b477dd3-7d40-41e8-b0fc-90fe3e21a2df"
      },
      "source": [
        "X2_train, y2_train = X2[:60000], y2[:60000]\n",
        "X2_val, y2_val = X2[60000:65000], y2[60000:65000]\n",
        "X2_test, y2_test = X2[65000:], y2[65000:]\n",
        "X2_train.shape, y2_train.shape, X2_val.shape, y2_val.shape, X2_test.shape, y2_test.shape"
      ],
      "execution_count": 33,
      "outputs": [
        {
          "output_type": "execute_result",
          "data": {
            "text/plain": [
              "((60000, 6, 5), (60000,), (5000, 6, 5), (5000,), (5085, 6, 5), (5085,))"
            ]
          },
          "metadata": {},
          "execution_count": 33
        }
      ]
    },
    {
      "cell_type": "code",
      "metadata": {
        "id": "887KpvYwpkZq"
      },
      "source": [
        "temp_training_mean = np.mean(X2_train[:, :, 0]) # rows,time steps,features. 0 selects the temp\n",
        "temp_training_std = np.std(X2_train[:, :, 0])\n",
        "\n",
        "def preprocess(X):\n",
        "  X[:, :, 0] = (X[:, :, 0] - temp_training_mean) / temp_training_std\n",
        "  return X"
      ],
      "execution_count": 34,
      "outputs": []
    },
    {
      "cell_type": "code",
      "metadata": {
        "id": "z-Kaf4KTqSEV",
        "colab": {
          "base_uri": "https://localhost:8080/"
        },
        "outputId": "48047d24-864b-42ef-eb57-f3388bb8ee50"
      },
      "source": [
        "preprocess(X2_train)\n",
        "preprocess(X2_val)\n",
        "preprocess(X2_test)"
      ],
      "execution_count": 35,
      "outputs": [
        {
          "output_type": "execute_result",
          "data": {
            "text/plain": [
              "array([[[ 1.04009706e+00, -9.65925826e-01,  2.58819045e-01,\n",
              "          5.22877889e-01, -8.52407598e-01],\n",
              "        [ 9.90732794e-01, -8.66025404e-01,  5.00000000e-01,\n",
              "          5.22266764e-01, -8.52782169e-01],\n",
              "        [ 8.49692028e-01, -7.07106781e-01,  7.07106781e-01,\n",
              "          5.21655371e-01, -8.53156301e-01],\n",
              "        [ 7.55664851e-01, -5.00000000e-01,  8.66025404e-01,\n",
              "          5.21043709e-01, -8.53529995e-01],\n",
              "        [ 6.66339032e-01, -2.58819045e-01,  9.65925826e-01,\n",
              "          5.20431780e-01, -8.53903251e-01],\n",
              "        [ 5.37051663e-01, -7.16474371e-12,  1.00000000e+00,\n",
              "          5.19819584e-01, -8.54276068e-01]],\n",
              "\n",
              "       [[ 9.90732794e-01, -8.66025404e-01,  5.00000000e-01,\n",
              "          5.22266764e-01, -8.52782169e-01],\n",
              "        [ 8.49692028e-01, -7.07106781e-01,  7.07106781e-01,\n",
              "          5.21655371e-01, -8.53156301e-01],\n",
              "        [ 7.55664851e-01, -5.00000000e-01,  8.66025404e-01,\n",
              "          5.21043709e-01, -8.53529995e-01],\n",
              "        [ 6.66339032e-01, -2.58819045e-01,  9.65925826e-01,\n",
              "          5.20431780e-01, -8.53903251e-01],\n",
              "        [ 5.37051663e-01, -7.16474371e-12,  1.00000000e+00,\n",
              "          5.19819584e-01, -8.54276068e-01],\n",
              "        [ 4.74758658e-01,  2.58819045e-01,  9.65925826e-01,\n",
              "          5.19207120e-01, -8.54648446e-01]],\n",
              "\n",
              "       [[ 8.49692028e-01, -7.07106781e-01,  7.07106781e-01,\n",
              "          5.21655371e-01, -8.53156301e-01],\n",
              "        [ 7.55664851e-01, -5.00000000e-01,  8.66025404e-01,\n",
              "          5.21043709e-01, -8.53529995e-01],\n",
              "        [ 6.66339032e-01, -2.58819045e-01,  9.65925826e-01,\n",
              "          5.20431780e-01, -8.53903251e-01],\n",
              "        [ 5.37051663e-01, -7.16474371e-12,  1.00000000e+00,\n",
              "          5.19819584e-01, -8.54276068e-01],\n",
              "        [ 4.74758658e-01,  2.58819045e-01,  9.65925826e-01,\n",
              "          5.19207120e-01, -8.54648446e-01],\n",
              "        [ 4.12465653e-01,  5.00000000e-01,  8.66025404e-01,\n",
              "          5.18594390e-01, -8.55020385e-01]],\n",
              "\n",
              "       ...,\n",
              "\n",
              "       [[-5.23104762e-01, -7.37277337e-01, -6.75590208e-01,\n",
              "          4.03308458e-03,  9.99991867e-01],\n",
              "        [-8.20465711e-01, -8.87010833e-01, -4.61748613e-01,\n",
              "          4.74986003e-03,  9.99988719e-01],\n",
              "        [-9.55629779e-01, -9.76296007e-01, -2.16439614e-01,\n",
              "          5.46663304e-03,  9.99985058e-01],\n",
              "        [-1.15661287e+00, -9.99048222e-01,  4.36193874e-02,\n",
              "          6.18340325e-03,  9.99980883e-01],\n",
              "        [-1.22243189e+00, -9.53716951e-01,  3.00705799e-01,\n",
              "          6.90017027e-03,  9.99976194e-01],\n",
              "        [-1.27179616e+00, -8.43391446e-01,  5.37299608e-01,\n",
              "          7.61693375e-03,  9.99970991e-01]],\n",
              "\n",
              "       [[-8.20465711e-01, -8.87010833e-01, -4.61748613e-01,\n",
              "          4.74986003e-03,  9.99988719e-01],\n",
              "        [-9.55629779e-01, -9.76296007e-01, -2.16439614e-01,\n",
              "          5.46663304e-03,  9.99985058e-01],\n",
              "        [-1.15661287e+00, -9.99048222e-01,  4.36193874e-02,\n",
              "          6.18340325e-03,  9.99980883e-01],\n",
              "        [-1.22243189e+00, -9.53716951e-01,  3.00705799e-01,\n",
              "          6.90017027e-03,  9.99976194e-01],\n",
              "        [-1.27179616e+00, -8.43391446e-01,  5.37299608e-01,\n",
              "          7.61693375e-03,  9.99970991e-01],\n",
              "        [-1.43046702e+00, -6.75590208e-01,  7.37277337e-01,\n",
              "          8.33369332e-03,  9.99965274e-01]],\n",
              "\n",
              "       [[-9.55629779e-01, -9.76296007e-01, -2.16439614e-01,\n",
              "          5.46663304e-03,  9.99985058e-01],\n",
              "        [-1.15661287e+00, -9.99048222e-01,  4.36193874e-02,\n",
              "          6.18340325e-03,  9.99980883e-01],\n",
              "        [-1.22243189e+00, -9.53716951e-01,  3.00705799e-01,\n",
              "          6.90017027e-03,  9.99976194e-01],\n",
              "        [-1.27179616e+00, -8.43391446e-01,  5.37299608e-01,\n",
              "          7.61693375e-03,  9.99970991e-01],\n",
              "        [-1.43046702e+00, -6.75590208e-01,  7.37277337e-01,\n",
              "          8.33369332e-03,  9.99965274e-01],\n",
              "        [-1.44692178e+00, -4.61748613e-01,  8.87010833e-01,\n",
              "          9.05044860e-03,  9.99959044e-01]]])"
            ]
          },
          "metadata": {},
          "execution_count": 35
        }
      ]
    },
    {
      "cell_type": "code",
      "metadata": {
        "colab": {
          "base_uri": "https://localhost:8080/"
        },
        "id": "NpFVgXYJqbt8",
        "outputId": "4bce89e7-ae99-4802-fa0e-a23d3fc324cc"
      },
      "source": [
        "model4 = Sequential()\n",
        "model4.add(InputLayer((6, 5)))\n",
        "model4.add(LSTM(64))\n",
        "model4.add(Dense(8, 'relu'))\n",
        "model4.add(Dense(1, 'linear'))\n",
        "\n",
        "model4.summary()"
      ],
      "execution_count": 36,
      "outputs": [
        {
          "output_type": "stream",
          "name": "stdout",
          "text": [
            "Model: \"sequential_3\"\n",
            "_________________________________________________________________\n",
            " Layer (type)                Output Shape              Param #   \n",
            "=================================================================\n",
            " lstm_1 (LSTM)               (None, 64)                17920     \n",
            "                                                                 \n",
            " dense_6 (Dense)             (None, 8)                 520       \n",
            "                                                                 \n",
            " dense_7 (Dense)             (None, 1)                 9         \n",
            "                                                                 \n",
            "=================================================================\n",
            "Total params: 18,449\n",
            "Trainable params: 18,449\n",
            "Non-trainable params: 0\n",
            "_________________________________________________________________\n"
          ]
        }
      ]
    },
    {
      "cell_type": "code",
      "metadata": {
        "id": "3RD8D_SXqkk8"
      },
      "source": [
        "cp4 = ModelCheckpoint('model4/', save_best_only=True)\n",
        "model4.compile(loss=MeanSquaredError(), optimizer=Adam(learning_rate=0.0001), metrics=[RootMeanSquaredError()])"
      ],
      "execution_count": 37,
      "outputs": []
    },
    {
      "cell_type": "code",
      "metadata": {
        "colab": {
          "base_uri": "https://localhost:8080/"
        },
        "id": "GB5aik6bqogC",
        "outputId": "6cbea60b-9cdf-4184-e19c-3b7bde7e2f8e"
      },
      "source": [
        "model4.fit(X2_train, y2_train, validation_data=(X2_val, y2_val), epochs=10, callbacks=[cp4])"
      ],
      "execution_count": 38,
      "outputs": [
        {
          "output_type": "stream",
          "name": "stdout",
          "text": [
            "Epoch 1/10\n",
            "1871/1875 [============================>.] - ETA: 0s - loss: 35.8032 - root_mean_squared_error: 5.9836"
          ]
        },
        {
          "output_type": "stream",
          "name": "stderr",
          "text": [
            "WARNING:absl:Found untraced functions such as _update_step_xla, lstm_cell_2_layer_call_fn, lstm_cell_2_layer_call_and_return_conditional_losses while saving (showing 3 of 3). These functions will not be directly callable after loading.\n"
          ]
        },
        {
          "output_type": "stream",
          "name": "stdout",
          "text": [
            "\b\b\b\b\b\b\b\b\b\b\b\b\b\b\b\b\b\b\b\b\b\b\b\b\b\b\b\b\b\b\b\b\b\b\b\b\b\b\b\b\b\b\b\b\b\b\b\b\b\b\b\b\b\b\b\b\b\b\b\b\b\b\b\b\b\b\b\b\b\b\b\b\b\b\b\b\b\b\b\b\b\b\b\b\b\b\b\b\b\b\b\b\b\b\b\b\b\b\b\b\b\b\r1875/1875 [==============================] - 20s 9ms/step - loss: 35.7478 - root_mean_squared_error: 5.9789 - val_loss: 3.9033 - val_root_mean_squared_error: 1.9757\n",
            "Epoch 2/10\n",
            "1868/1875 [============================>.] - ETA: 0s - loss: 4.5982 - root_mean_squared_error: 2.1443"
          ]
        },
        {
          "output_type": "stream",
          "name": "stderr",
          "text": [
            "WARNING:absl:Found untraced functions such as _update_step_xla, lstm_cell_2_layer_call_fn, lstm_cell_2_layer_call_and_return_conditional_losses while saving (showing 3 of 3). These functions will not be directly callable after loading.\n"
          ]
        },
        {
          "output_type": "stream",
          "name": "stdout",
          "text": [
            "\b\b\b\b\b\b\b\b\b\b\b\b\b\b\b\b\b\b\b\b\b\b\b\b\b\b\b\b\b\b\b\b\b\b\b\b\b\b\b\b\b\b\b\b\b\b\b\b\b\b\b\b\b\b\b\b\b\b\b\b\b\b\b\b\b\b\b\b\b\b\b\b\b\b\b\b\b\b\b\b\b\b\b\b\b\b\b\b\b\b\b\b\b\b\b\b\b\b\b\b\b\r1875/1875 [==============================] - 19s 10ms/step - loss: 4.5902 - root_mean_squared_error: 2.1425 - val_loss: 1.8559 - val_root_mean_squared_error: 1.3623\n",
            "Epoch 3/10\n",
            "1866/1875 [============================>.] - ETA: 0s - loss: 1.9082 - root_mean_squared_error: 1.3814"
          ]
        },
        {
          "output_type": "stream",
          "name": "stderr",
          "text": [
            "WARNING:absl:Found untraced functions such as _update_step_xla, lstm_cell_2_layer_call_fn, lstm_cell_2_layer_call_and_return_conditional_losses while saving (showing 3 of 3). These functions will not be directly callable after loading.\n"
          ]
        },
        {
          "output_type": "stream",
          "name": "stdout",
          "text": [
            "\b\b\b\b\b\b\b\b\b\b\b\b\b\b\b\b\b\b\b\b\b\b\b\b\b\b\b\b\b\b\b\b\b\b\b\b\b\b\b\b\b\b\b\b\b\b\b\b\b\b\b\b\b\b\b\b\b\b\b\b\b\b\b\b\b\b\b\b\b\b\b\b\b\b\b\b\b\b\b\b\b\b\b\b\b\b\b\b\b\b\b\b\b\b\b\b\b\b\b\b\b\r1875/1875 [==============================] - 19s 10ms/step - loss: 1.9040 - root_mean_squared_error: 1.3798 - val_loss: 1.0078 - val_root_mean_squared_error: 1.0039\n",
            "Epoch 4/10\n",
            "1869/1875 [============================>.] - ETA: 0s - loss: 1.0144 - root_mean_squared_error: 1.0072"
          ]
        },
        {
          "output_type": "stream",
          "name": "stderr",
          "text": [
            "WARNING:absl:Found untraced functions such as _update_step_xla, lstm_cell_2_layer_call_fn, lstm_cell_2_layer_call_and_return_conditional_losses while saving (showing 3 of 3). These functions will not be directly callable after loading.\n"
          ]
        },
        {
          "output_type": "stream",
          "name": "stdout",
          "text": [
            "\b\b\b\b\b\b\b\b\b\b\b\b\b\b\b\b\b\b\b\b\b\b\b\b\b\b\b\b\b\b\b\b\b\b\b\b\b\b\b\b\b\b\b\b\b\b\b\b\b\b\b\b\b\b\b\b\b\b\b\b\b\b\b\b\b\b\b\b\b\b\b\b\b\b\b\b\b\b\b\b\b\b\b\b\b\b\b\b\b\b\b\b\b\b\b\b\b\b\b\b\b\r1875/1875 [==============================] - 18s 10ms/step - loss: 1.0132 - root_mean_squared_error: 1.0066 - val_loss: 0.6623 - val_root_mean_squared_error: 0.8138\n",
            "Epoch 5/10\n",
            "1870/1875 [============================>.] - ETA: 0s - loss: 0.7492 - root_mean_squared_error: 0.8656"
          ]
        },
        {
          "output_type": "stream",
          "name": "stderr",
          "text": [
            "WARNING:absl:Found untraced functions such as _update_step_xla, lstm_cell_2_layer_call_fn, lstm_cell_2_layer_call_and_return_conditional_losses while saving (showing 3 of 3). These functions will not be directly callable after loading.\n"
          ]
        },
        {
          "output_type": "stream",
          "name": "stdout",
          "text": [
            "\b\b\b\b\b\b\b\b\b\b\b\b\b\b\b\b\b\b\b\b\b\b\b\b\b\b\b\b\b\b\b\b\b\b\b\b\b\b\b\b\b\b\b\b\b\b\b\b\b\b\b\b\b\b\b\b\b\b\b\b\b\b\b\b\b\b\b\b\b\b\b\b\b\b\b\b\b\b\b\b\b\b\b\b\b\b\b\b\b\b\b\b\b\b\b\b\b\b\b\b\b\r1875/1875 [==============================] - 18s 9ms/step - loss: 0.7489 - root_mean_squared_error: 0.8654 - val_loss: 0.5388 - val_root_mean_squared_error: 0.7340\n",
            "Epoch 6/10\n",
            "1871/1875 [============================>.] - ETA: 0s - loss: 0.6267 - root_mean_squared_error: 0.7917"
          ]
        },
        {
          "output_type": "stream",
          "name": "stderr",
          "text": [
            "WARNING:absl:Found untraced functions such as _update_step_xla, lstm_cell_2_layer_call_fn, lstm_cell_2_layer_call_and_return_conditional_losses while saving (showing 3 of 3). These functions will not be directly callable after loading.\n"
          ]
        },
        {
          "output_type": "stream",
          "name": "stdout",
          "text": [
            "\b\b\b\b\b\b\b\b\b\b\b\b\b\b\b\b\b\b\b\b\b\b\b\b\b\b\b\b\b\b\b\b\b\b\b\b\b\b\b\b\b\b\b\b\b\b\b\b\b\b\b\b\b\b\b\b\b\b\b\b\b\b\b\b\b\b\b\b\b\b\b\b\b\b\b\b\b\b\b\b\b\b\b\b\b\b\b\b\b\b\b\b\b\b\b\b\b\b\b\b\b\r1875/1875 [==============================] - 26s 14ms/step - loss: 0.6268 - root_mean_squared_error: 0.7917 - val_loss: 0.4612 - val_root_mean_squared_error: 0.6791\n",
            "Epoch 7/10\n",
            "1871/1875 [============================>.] - ETA: 0s - loss: 0.5682 - root_mean_squared_error: 0.7538"
          ]
        },
        {
          "output_type": "stream",
          "name": "stderr",
          "text": [
            "WARNING:absl:Found untraced functions such as _update_step_xla, lstm_cell_2_layer_call_fn, lstm_cell_2_layer_call_and_return_conditional_losses while saving (showing 3 of 3). These functions will not be directly callable after loading.\n"
          ]
        },
        {
          "output_type": "stream",
          "name": "stdout",
          "text": [
            "\b\b\b\b\b\b\b\b\b\b\b\b\b\b\b\b\b\b\b\b\b\b\b\b\b\b\b\b\b\b\b\b\b\b\b\b\b\b\b\b\b\b\b\b\b\b\b\b\b\b\b\b\b\b\b\b\b\b\b\b\b\b\b\b\b\b\b\b\b\b\b\b\b\b\b\b\b\b\b\b\b\b\b\b\b\b\b\b\b\b\b\b\b\b\b\b\b\b\b\b\b\r1875/1875 [==============================] - 18s 9ms/step - loss: 0.5679 - root_mean_squared_error: 0.7536 - val_loss: 0.4359 - val_root_mean_squared_error: 0.6602\n",
            "Epoch 8/10\n",
            "1873/1875 [============================>.] - ETA: 0s - loss: 0.5433 - root_mean_squared_error: 0.7371"
          ]
        },
        {
          "output_type": "stream",
          "name": "stderr",
          "text": [
            "WARNING:absl:Found untraced functions such as _update_step_xla, lstm_cell_2_layer_call_fn, lstm_cell_2_layer_call_and_return_conditional_losses while saving (showing 3 of 3). These functions will not be directly callable after loading.\n"
          ]
        },
        {
          "output_type": "stream",
          "name": "stdout",
          "text": [
            "\b\b\b\b\b\b\b\b\b\b\b\b\b\b\b\b\b\b\b\b\b\b\b\b\b\b\b\b\b\b\b\b\b\b\b\b\b\b\b\b\b\b\b\b\b\b\b\b\b\b\b\b\b\b\b\b\b\b\b\b\b\b\b\b\b\b\b\b\b\b\b\b\b\b\b\b\b\b\b\b\b\b\b\b\b\b\b\b\b\b\b\b\b\b\b\b\b\b\b\b\b\r1875/1875 [==============================] - 19s 10ms/step - loss: 0.5431 - root_mean_squared_error: 0.7370 - val_loss: 0.4198 - val_root_mean_squared_error: 0.6479\n",
            "Epoch 9/10\n",
            "1875/1875 [==============================] - 14s 7ms/step - loss: 0.5327 - root_mean_squared_error: 0.7298 - val_loss: 0.4533 - val_root_mean_squared_error: 0.6732\n",
            "Epoch 10/10\n",
            "1875/1875 [==============================] - 12s 6ms/step - loss: 0.5294 - root_mean_squared_error: 0.7276 - val_loss: 0.4261 - val_root_mean_squared_error: 0.6527\n"
          ]
        },
        {
          "output_type": "execute_result",
          "data": {
            "text/plain": [
              "<keras.callbacks.History at 0x7caadbda4700>"
            ]
          },
          "metadata": {},
          "execution_count": 38
        }
      ]
    },
    {
      "cell_type": "code",
      "metadata": {
        "colab": {
          "base_uri": "https://localhost:8080/",
          "height": 707
        },
        "id": "FmwshpETs-jE",
        "outputId": "bdb68814-7046-40d5-c1fb-c8fea413967f"
      },
      "source": [
        "plot_predictions1(model4, X2_test, y2_test)"
      ],
      "execution_count": 39,
      "outputs": [
        {
          "output_type": "stream",
          "name": "stdout",
          "text": [
            "159/159 [==============================] - 1s 2ms/step\n"
          ]
        },
        {
          "output_type": "execute_result",
          "data": {
            "text/plain": [
              "(      Predictions  Actuals\n",
              " 0       13.106953    13.46\n",
              " 1       12.689312    12.93\n",
              " 2       12.284487    12.43\n",
              " 3       11.970301    12.17\n",
              " 4       12.062223    11.55\n",
              " ...           ...      ...\n",
              " 5080    -1.104184    -0.98\n",
              " 5081    -1.445854    -1.40\n",
              " 5082    -1.688022    -2.75\n",
              " 5083    -3.059529    -2.89\n",
              " 5084    -3.073725    -3.93\n",
              " \n",
              " [5085 rows x 2 columns],\n",
              " 0.6966789709199991)"
            ]
          },
          "metadata": {},
          "execution_count": 39
        },
        {
          "output_type": "display_data",
          "data": {
            "text/plain": [
              "<Figure size 640x480 with 1 Axes>"
            ],
            "image/png": "[encoded data removed]"
          },
          "metadata": {}
        }
      ]
    },
    {
      "cell_type": "markdown",
      "source": [
        "**Adding predicting pressure**"
      ],
      "metadata": {
        "id": "I2PbFlDcou1A"
      }
    },
    {
      "cell_type": "code",
      "metadata": {
        "colab": {
          "base_uri": "https://localhost:8080/",
          "height": 237
        },
        "id": "FpOwEbBttY8C",
        "outputId": "5b1892bd-d3e4-44c7-bbc8-d163a741b616"
      },
      "source": [
        "p_temp_df = pd.concat([df['p (mbar)'], temp_df], axis=1)\n",
        "p_temp_df.head()"
      ],
      "execution_count": 40,
      "outputs": [
        {
          "output_type": "execute_result",
          "data": {
            "text/plain": [
              "                     p (mbar)  Temperature   Day sin   Day cos  Year sin  \\\n",
              "Date Time                                                                  \n",
              "2009-01-01 01:00:00    996.50        -8.05  0.258819  0.965926  0.010049   \n",
              "2009-01-01 02:00:00    996.62        -8.88  0.500000  0.866025  0.010766   \n",
              "2009-01-01 03:00:00    996.84        -8.81  0.707107  0.707107  0.011483   \n",
              "2009-01-01 04:00:00    996.99        -9.05  0.866025  0.500000  0.012199   \n",
              "2009-01-01 05:00:00    997.46        -9.63  0.965926  0.258819  0.012916   \n",
              "\n",
              "                     Year cos  \n",
              "Date Time                      \n",
              "2009-01-01 01:00:00  0.999950  \n",
              "2009-01-01 02:00:00  0.999942  \n",
              "2009-01-01 03:00:00  0.999934  \n",
              "2009-01-01 04:00:00  0.999926  \n",
              "2009-01-01 05:00:00  0.999917  "
            ],
            "text/html": [
              "\n",
              "  <div id=\"df-28d2be34-bace-41be-8d46-a80ee3ebdfb7\" class=\"colab-df-container\">\n",
              "    <div>\n",
              "<style scoped>\n",
              "    .dataframe tbody tr th:only-of-type {\n",
              "        vertical-align: middle;\n",
              "    }\n",
              "\n",
              "    .dataframe tbody tr th {\n",
              "        vertical-align: top;\n",
              "    }\n",
              "\n",
              "    .dataframe thead th {\n",
              "        text-align: right;\n",
              "    }\n",
              "</style>\n",
              "<table border=\"1\" class=\"dataframe\">\n",
              "  <thead>\n",
              "    <tr style=\"text-align: right;\">\n",
              "      <th></th>\n",
              "      <th>p (mbar)</th>\n",
              "      <th>Temperature</th>\n",
              "      <th>Day sin</th>\n",
              "      <th>Day cos</th>\n",
              "      <th>Year sin</th>\n",
              "      <th>Year cos</th>\n",
              "    </tr>\n",
              "    <tr>\n",
              "      <th>Date Time</th>\n",
              "      <th></th>\n",
              "      <th></th>\n",
              "      <th></th>\n",
              "      <th></th>\n",
              "      <th></th>\n",
              "      <th></th>\n",
              "    </tr>\n",
              "  </thead>\n",
              "  <tbody>\n",
              "    <tr>\n",
              "      <th>2009-01-01 01:00:00</th>\n",
              "      <td>996.50</td>\n",
              "      <td>-8.05</td>\n",
              "      <td>0.258819</td>\n",
              "      <td>0.965926</td>\n",
              "      <td>0.010049</td>\n",
              "      <td>0.999950</td>\n",
              "    </tr>\n",
              "    <tr>\n",
              "      <th>2009-01-01 02:00:00</th>\n",
              "      <td>996.62</td>\n",
              "      <td>-8.88</td>\n",
              "      <td>0.500000</td>\n",
              "      <td>0.866025</td>\n",
              "      <td>0.010766</td>\n",
              "      <td>0.999942</td>\n",
              "    </tr>\n",
              "    <tr>\n",
              "      <th>2009-01-01 03:00:00</th>\n",
              "      <td>996.84</td>\n",
              "      <td>-8.81</td>\n",
              "      <td>0.707107</td>\n",
              "      <td>0.707107</td>\n",
              "      <td>0.011483</td>\n",
              "      <td>0.999934</td>\n",
              "    </tr>\n",
              "    <tr>\n",
              "      <th>2009-01-01 04:00:00</th>\n",
              "      <td>996.99</td>\n",
              "      <td>-9.05</td>\n",
              "      <td>0.866025</td>\n",
              "      <td>0.500000</td>\n",
              "      <td>0.012199</td>\n",
              "      <td>0.999926</td>\n",
              "    </tr>\n",
              "    <tr>\n",
              "      <th>2009-01-01 05:00:00</th>\n",
              "      <td>997.46</td>\n",
              "      <td>-9.63</td>\n",
              "      <td>0.965926</td>\n",
              "      <td>0.258819</td>\n",
              "      <td>0.012916</td>\n",
              "      <td>0.999917</td>\n",
              "    </tr>\n",
              "  </tbody>\n",
              "</table>\n",
              "</div>\n",
              "    <div class=\"colab-df-buttons\">\n",
              "\n",
              "  <div class=\"colab-df-container\">\n",
              "    <button class=\"colab-df-convert\" onclick=\"convertToInteractive('df-28d2be34-bace-41be-8d46-a80ee3ebdfb7')\"\n",
              "            title=\"Convert this dataframe to an interactive table.\"\n",
              "            style=\"display:none;\">\n",
              "\n",
              "  <svg xmlns=\"http://www.w3.org/2000/svg\" height=\"24px\" viewBox=\"0 -960 960 960\">\n",
              "    <path d=\"M120-120v-720h720v720H120Zm60-500h600v-160H180v160Zm220 220h160v-160H400v160Zm0 220h160v-160H400v160ZM180-400h160v-160H180v160Zm440 0h160v-160H620v160ZM180-180h160v-160H180v160Zm440 0h160v-160H620v160Z\"/>\n",
              "  </svg>\n",
              "    </button>\n",
              "\n",
              "  <style>\n",
              "    .colab-df-container {\n",
              "      display:flex;\n",
              "      gap: 12px;\n",
              "    }\n",
              "\n",
              "    .colab-df-convert {\n",
              "      background-color: #E8F0FE;\n",
              "      border: none;\n",
              "      border-radius: 50%;\n",
              "      cursor: pointer;\n",
              "      display: none;\n",
              "      fill: #1967D2;\n",
              "      height: 32px;\n",
              "      padding: 0 0 0 0;\n",
              "      width: 32px;\n",
              "    }\n",
              "\n",
              "    .colab-df-convert:hover {\n",
              "      background-color: #E2EBFA;\n",
              "      box-shadow: 0px 1px 2px rgba(60, 64, 67, 0.3), 0px 1px 3px 1px rgba(60, 64, 67, 0.15);\n",
              "      fill: #174EA6;\n",
              "    }\n",
              "\n",
              "    .colab-df-buttons div {\n",
              "      margin-bottom: 4px;\n",
              "    }\n",
              "\n",
              "    [theme=dark] .colab-df-convert {\n",
              "      background-color: #3B4455;\n",
              "      fill: #D2E3FC;\n",
              "    }\n",
              "\n",
              "    [theme=dark] .colab-df-convert:hover {\n",
              "      background-color: #434B5C;\n",
              "      box-shadow: 0px 1px 3px 1px rgba(0, 0, 0, 0.15);\n",
              "      filter: drop-shadow(0px 1px 2px rgba(0, 0, 0, 0.3));\n",
              "      fill: #FFFFFF;\n",
              "    }\n",
              "  </style>\n",
              "\n",
              "    <script>\n",
              "      const buttonEl =\n",
              "        document.querySelector('#df-28d2be34-bace-41be-8d46-a80ee3ebdfb7 button.colab-df-convert');\n",
              "      buttonEl.style.display =\n",
              "        google.colab.kernel.accessAllowed ? 'block' : 'none';\n",
              "\n",
              "      async function convertToInteractive(key) {\n",
              "        const element = document.querySelector('#df-28d2be34-bace-41be-8d46-a80ee3ebdfb7');\n",
              "        const dataTable =\n",
              "          await google.colab.kernel.invokeFunction('convertToInteractive',\n",
              "                                                    [key], {});\n",
              "        if (!dataTable) return;\n",
              "\n",
              "        const docLinkHtml = 'Like what you see? Visit the ' +\n",
              "          '<a target=\"_blank\" href=https://colab.research.google.com/notebooks/data_table.ipynb>data table notebook</a>'\n",
              "          + ' to learn more about interactive tables.';\n",
              "        element.innerHTML = '';\n",
              "        dataTable['output_type'] = 'display_data';\n",
              "        await google.colab.output.renderOutput(dataTable, element);\n",
              "        const docLink = document.createElement('div');\n",
              "        docLink.innerHTML = docLinkHtml;\n",
              "        element.appendChild(docLink);\n",
              "      }\n",
              "    </script>\n",
              "  </div>\n",
              "\n",
              "\n",
              "<div id=\"df-609026ea-6769-4745-bb4e-ffefbc820996\">\n",
              "  <button class=\"colab-df-quickchart\" onclick=\"quickchart('df-609026ea-6769-4745-bb4e-ffefbc820996')\"\n",
              "            title=\"Suggest charts.\"\n",
              "            style=\"display:none;\">\n",
              "\n",
              "<svg xmlns=\"http://www.w3.org/2000/svg\" height=\"24px\"viewBox=\"0 0 24 24\"\n",
              "     width=\"24px\">\n",
              "    <g>\n",
              "        <path d=\"M19 3H5c-1.1 0-2 .9-2 2v14c0 1.1.9 2 2 2h14c1.1 0 2-.9 2-2V5c0-1.1-.9-2-2-2zM9 17H7v-7h2v7zm4 0h-2V7h2v10zm4 0h-2v-4h2v4z\"/>\n",
              "    </g>\n",
              "</svg>\n",
              "  </button>\n",
              "\n",
              "<style>\n",
              "  .colab-df-quickchart {\n",
              "    background-color: #E8F0FE;\n",
              "    border: none;\n",
              "    border-radius: 50%;\n",
              "    cursor: pointer;\n",
              "    display: none;\n",
              "    fill: #1967D2;\n",
              "    height: 32px;\n",
              "    padding: 0 0 0 0;\n",
              "    width: 32px;\n",
              "  }\n",
              "\n",
              "  .colab-df-quickchart:hover {\n",
              "    background-color: #E2EBFA;\n",
              "    box-shadow: 0px 1px 2px rgba(60, 64, 67, 0.3), 0px 1px 3px 1px rgba(60, 64, 67, 0.15);\n",
              "    fill: #174EA6;\n",
              "  }\n",
              "\n",
              "  [theme=dark] .colab-df-quickchart {\n",
              "    background-color: #3B4455;\n",
              "    fill: #D2E3FC;\n",
              "  }\n",
              "\n",
              "  [theme=dark] .colab-df-quickchart:hover {\n",
              "    background-color: #434B5C;\n",
              "    box-shadow: 0px 1px 3px 1px rgba(0, 0, 0, 0.15);\n",
              "    filter: drop-shadow(0px 1px 2px rgba(0, 0, 0, 0.3));\n",
              "    fill: #FFFFFF;\n",
              "  }\n",
              "</style>\n",
              "\n",
              "  <script>\n",
              "    async function quickchart(key) {\n",
              "      const charts = await google.colab.kernel.invokeFunction(\n",
              "          'suggestCharts', [key], {});\n",
              "    }\n",
              "    (() => {\n",
              "      let quickchartButtonEl =\n",
              "        document.querySelector('#df-609026ea-6769-4745-bb4e-ffefbc820996 button');\n",
              "      quickchartButtonEl.style.display =\n",
              "        google.colab.kernel.accessAllowed ? 'block' : 'none';\n",
              "    })();\n",
              "  </script>\n",
              "</div>\n",
              "    </div>\n",
              "  </div>\n"
            ]
          },
          "metadata": {},
          "execution_count": 40
        }
      ]
    },
    {
      "cell_type": "code",
      "metadata": {
        "id": "7EViSFyntz9j"
      },
      "source": [
        "def df_to_X_y3(df, window_size=7):\n",
        "  df_as_np = df.to_numpy()\n",
        "  X = []\n",
        "  y = []\n",
        "  for i in range(len(df_as_np)-window_size):\n",
        "    row = [r for r in df_as_np[i:i+window_size]]\n",
        "    X.append(row)\n",
        "    label = [df_as_np[i+window_size][0], df_as_np[i+window_size][1]]\n",
        "    y.append(label)\n",
        "  return np.array(X), np.array(y)"
      ],
      "execution_count": 41,
      "outputs": []
    },
    {
      "cell_type": "code",
      "metadata": {
        "colab": {
          "base_uri": "https://localhost:8080/"
        },
        "id": "M6iv-AUQuJdX",
        "outputId": "2b9673a5-fbde-4ea1-cb22-2c1e055f9e24"
      },
      "source": [
        "X3, y3 = df_to_X_y3(p_temp_df)\n",
        "X3.shape, y3.shape"
      ],
      "execution_count": 42,
      "outputs": [
        {
          "output_type": "execute_result",
          "data": {
            "text/plain": [
              "((70084, 7, 6), (70084, 2))"
            ]
          },
          "metadata": {},
          "execution_count": 42
        }
      ]
    },
    {
      "cell_type": "code",
      "metadata": {
        "colab": {
          "base_uri": "https://localhost:8080/"
        },
        "id": "JAaiWt0buKa4",
        "outputId": "c1a3f882-82b9-42e5-b504-7125c7cc5941"
      },
      "source": [
        "X3_train, y3_train = X3[:60000], y3[:60000]\n",
        "X3_val, y3_val = X3[60000:65000], y3[60000:65000]\n",
        "X3_test, y3_test = X3[65000:], y3[65000:]\n",
        "X3_train.shape, y3_train.shape, X3_val.shape, y3_val.shape, X3_test.shape, y3_test.shape"
      ],
      "execution_count": 43,
      "outputs": [
        {
          "output_type": "execute_result",
          "data": {
            "text/plain": [
              "((60000, 7, 6), (60000, 2), (5000, 7, 6), (5000, 2), (5084, 7, 6), (5084, 2))"
            ]
          },
          "metadata": {},
          "execution_count": 43
        }
      ]
    },
    {
      "cell_type": "code",
      "metadata": {
        "id": "Y-1iWv_AuKSk"
      },
      "source": [
        "p_training_mean3 = np.mean(X3_train[:, :, 0]) # temp\n",
        "p_training_std3 = np.std(X3_train[:, :, 0])\n",
        "\n",
        "temp_training_mean3 = np.mean(X3_train[:, :, 1]) # pressure\n",
        "temp_training_std3 = np.std(X3_train[:, :, 1])\n",
        "\n",
        "def preprocess3(X):\n",
        "  X[:, :, 0] = (X[:, :, 0] - p_training_mean3) / p_training_std3\n",
        "  X[:, :, 1] = (X[:, :, 1] - temp_training_mean3) / temp_training_std3\n",
        "\n",
        "def preprocess_output3(y):\n",
        "  y[:, 0] = (y[:, 0] - p_training_mean3) / p_training_std3\n",
        "  y[:, 1] = (y[:, 1] - temp_training_mean3) / temp_training_std3\n",
        "  return y"
      ],
      "execution_count": 44,
      "outputs": []
    },
    {
      "cell_type": "code",
      "metadata": {
        "id": "tA3BDAuluKHO"
      },
      "source": [
        "preprocess3(X3_train)\n",
        "preprocess3(X3_val)\n",
        "preprocess3(X3_test)"
      ],
      "execution_count": 45,
      "outputs": []
    },
    {
      "cell_type": "code",
      "metadata": {
        "colab": {
          "base_uri": "https://localhost:8080/"
        },
        "id": "nyxUc20CuJ4p",
        "outputId": "deb4e6ea-0bdb-44e6-ab7e-5cde8b1d2e4b"
      },
      "source": [
        "preprocess_output3(y3_train)\n",
        "preprocess_output3(y3_val)\n",
        "preprocess_output3(y3_test)"
      ],
      "execution_count": 46,
      "outputs": [
        {
          "output_type": "execute_result",
          "data": {
            "text/plain": [
              "array([[-0.7934386 ,  0.41245076],\n",
              "       [-0.76312281,  0.35368268],\n",
              "       [-0.72189335,  0.32312327],\n",
              "       ...,\n",
              "       [ 1.48145784, -1.43051636],\n",
              "       [ 1.41597574, -1.44697142],\n",
              "       [ 1.35049365, -1.56920903]])"
            ]
          },
          "metadata": {},
          "execution_count": 46
        }
      ]
    },
    {
      "cell_type": "code",
      "metadata": {
        "colab": {
          "base_uri": "https://localhost:8080/"
        },
        "id": "czHWSE2Uv4Br",
        "outputId": "e8c1b5f4-2125-410a-fb35-ba653fa6d10b"
      },
      "source": [
        "model5 = Sequential()\n",
        "model5.add(InputLayer((7, 6))) # window, features\n",
        "model5.add(LSTM(64))\n",
        "model5.add(Dense(8, 'relu'))\n",
        "model5.add(Dense(2, 'linear')) # predicting temp and pressure\n",
        "\n",
        "model5.summary()"
      ],
      "execution_count": 48,
      "outputs": [
        {
          "output_type": "stream",
          "name": "stdout",
          "text": [
            "Model: \"sequential_4\"\n",
            "_________________________________________________________________\n",
            " Layer (type)                Output Shape              Param #   \n",
            "=================================================================\n",
            " lstm_2 (LSTM)               (None, 64)                18176     \n",
            "                                                                 \n",
            " dense_8 (Dense)             (None, 8)                 520       \n",
            "                                                                 \n",
            " dense_9 (Dense)             (None, 2)                 18        \n",
            "                                                                 \n",
            "=================================================================\n",
            "Total params: 18,714\n",
            "Trainable params: 18,714\n",
            "Non-trainable params: 0\n",
            "_________________________________________________________________\n"
          ]
        }
      ]
    },
    {
      "cell_type": "code",
      "metadata": {
        "id": "HY4LnQYxwDI2"
      },
      "source": [
        "cp5 = ModelCheckpoint('model5/', save_best_only=True)\n",
        "model5.compile(loss=MeanSquaredError(), optimizer=Adam(learning_rate=0.0001), metrics=[RootMeanSquaredError()])"
      ],
      "execution_count": 49,
      "outputs": []
    },
    {
      "cell_type": "code",
      "metadata": {
        "colab": {
          "base_uri": "https://localhost:8080/"
        },
        "id": "pR6NEXeSwF6J",
        "outputId": "16a4daa0-7d56-4776-a502-f19ce85213a6"
      },
      "source": [
        "model5.fit(X3_train, y3_train, validation_data=(X3_val, y3_val), epochs=10, callbacks=[cp5])"
      ],
      "execution_count": 50,
      "outputs": [
        {
          "output_type": "stream",
          "name": "stdout",
          "text": [
            "Epoch 1/10\n",
            "1875/1875 [==============================] - ETA: 0s - loss: 0.1180 - root_mean_squared_error: 0.3435"
          ]
        },
        {
          "output_type": "stream",
          "name": "stderr",
          "text": [
            "WARNING:absl:Found untraced functions such as _update_step_xla, lstm_cell_3_layer_call_fn, lstm_cell_3_layer_call_and_return_conditional_losses while saving (showing 3 of 3). These functions will not be directly callable after loading.\n"
          ]
        },
        {
          "output_type": "stream",
          "name": "stdout",
          "text": [
            "\b\b\b\b\b\b\b\b\b\b\b\b\b\b\b\b\b\b\b\b\b\b\b\b\b\b\b\b\b\b\b\b\b\b\b\b\b\b\b\b\b\b\b\b\b\b\b\b\b\b\b\b\b\b\b\b\b\b\b\b\b\b\b\b\b\b\b\b\b\b\b\b\b\b\b\b\b\b\b\b\b\b\b\b\b\b\b\b\b\b\b\b\b\b\b\b\b\b\b\b\b\r1875/1875 [==============================] - 25s 11ms/step - loss: 0.1180 - root_mean_squared_error: 0.3435 - val_loss: 0.0302 - val_root_mean_squared_error: 0.1739\n",
            "Epoch 2/10\n",
            "1872/1875 [============================>.] - ETA: 0s - loss: 0.0225 - root_mean_squared_error: 0.1500"
          ]
        },
        {
          "output_type": "stream",
          "name": "stderr",
          "text": [
            "WARNING:absl:Found untraced functions such as _update_step_xla, lstm_cell_3_layer_call_fn, lstm_cell_3_layer_call_and_return_conditional_losses while saving (showing 3 of 3). These functions will not be directly callable after loading.\n"
          ]
        },
        {
          "output_type": "stream",
          "name": "stdout",
          "text": [
            "\b\b\b\b\b\b\b\b\b\b\b\b\b\b\b\b\b\b\b\b\b\b\b\b\b\b\b\b\b\b\b\b\b\b\b\b\b\b\b\b\b\b\b\b\b\b\b\b\b\b\b\b\b\b\b\b\b\b\b\b\b\b\b\b\b\b\b\b\b\b\b\b\b\b\b\b\b\b\b\b\b\b\b\b\b\b\b\b\b\b\b\b\b\b\b\b\b\b\b\b\b\r1875/1875 [==============================] - 19s 10ms/step - loss: 0.0225 - root_mean_squared_error: 0.1499 - val_loss: 0.0151 - val_root_mean_squared_error: 0.1229\n",
            "Epoch 3/10\n",
            "1873/1875 [============================>.] - ETA: 0s - loss: 0.0109 - root_mean_squared_error: 0.1042"
          ]
        },
        {
          "output_type": "stream",
          "name": "stderr",
          "text": [
            "WARNING:absl:Found untraced functions such as _update_step_xla, lstm_cell_3_layer_call_fn, lstm_cell_3_layer_call_and_return_conditional_losses while saving (showing 3 of 3). These functions will not be directly callable after loading.\n"
          ]
        },
        {
          "output_type": "stream",
          "name": "stdout",
          "text": [
            "\b\b\b\b\b\b\b\b\b\b\b\b\b\b\b\b\b\b\b\b\b\b\b\b\b\b\b\b\b\b\b\b\b\b\b\b\b\b\b\b\b\b\b\b\b\b\b\b\b\b\b\b\b\b\b\b\b\b\b\b\b\b\b\b\b\b\b\b\b\b\b\b\b\b\b\b\b\b\b\b\b\b\b\b\b\b\b\b\b\b\b\b\b\b\b\b\b\b\b\b\b\r1875/1875 [==============================] - 20s 11ms/step - loss: 0.0109 - root_mean_squared_error: 0.1042 - val_loss: 0.0069 - val_root_mean_squared_error: 0.0832\n",
            "Epoch 4/10\n",
            "1873/1875 [============================>.] - ETA: 0s - loss: 0.0069 - root_mean_squared_error: 0.0830"
          ]
        },
        {
          "output_type": "stream",
          "name": "stderr",
          "text": [
            "WARNING:absl:Found untraced functions such as _update_step_xla, lstm_cell_3_layer_call_fn, lstm_cell_3_layer_call_and_return_conditional_losses while saving (showing 3 of 3). These functions will not be directly callable after loading.\n"
          ]
        },
        {
          "output_type": "stream",
          "name": "stdout",
          "text": [
            "\b\b\b\b\b\b\b\b\b\b\b\b\b\b\b\b\b\b\b\b\b\b\b\b\b\b\b\b\b\b\b\b\b\b\b\b\b\b\b\b\b\b\b\b\b\b\b\b\b\b\b\b\b\b\b\b\b\b\b\b\b\b\b\b\b\b\b\b\b\b\b\b\b\b\b\b\b\b\b\b\b\b\b\b\b\b\b\b\b\b\b\b\b\b\b\b\b\b\b\b\b\r1875/1875 [==============================] - 21s 11ms/step - loss: 0.0069 - root_mean_squared_error: 0.0830 - val_loss: 0.0051 - val_root_mean_squared_error: 0.0715\n",
            "Epoch 5/10\n",
            "1872/1875 [============================>.] - ETA: 0s - loss: 0.0058 - root_mean_squared_error: 0.0764"
          ]
        },
        {
          "output_type": "stream",
          "name": "stderr",
          "text": [
            "WARNING:absl:Found untraced functions such as _update_step_xla, lstm_cell_3_layer_call_fn, lstm_cell_3_layer_call_and_return_conditional_losses while saving (showing 3 of 3). These functions will not be directly callable after loading.\n"
          ]
        },
        {
          "output_type": "stream",
          "name": "stdout",
          "text": [
            "\b\b\b\b\b\b\b\b\b\b\b\b\b\b\b\b\b\b\b\b\b\b\b\b\b\b\b\b\b\b\b\b\b\b\b\b\b\b\b\b\b\b\b\b\b\b\b\b\b\b\b\b\b\b\b\b\b\b\b\b\b\b\b\b\b\b\b\b\b\b\b\b\b\b\b\b\b\b\b\b\b\b\b\b\b\b\b\b\b\b\b\b\b\b\b\b\b\b\b\b\b\r1875/1875 [==============================] - 22s 12ms/step - loss: 0.0058 - root_mean_squared_error: 0.0764 - val_loss: 0.0045 - val_root_mean_squared_error: 0.0669\n",
            "Epoch 6/10\n",
            "1873/1875 [============================>.] - ETA: 0s - loss: 0.0054 - root_mean_squared_error: 0.0734"
          ]
        },
        {
          "output_type": "stream",
          "name": "stderr",
          "text": [
            "WARNING:absl:Found untraced functions such as _update_step_xla, lstm_cell_3_layer_call_fn, lstm_cell_3_layer_call_and_return_conditional_losses while saving (showing 3 of 3). These functions will not be directly callable after loading.\n"
          ]
        },
        {
          "output_type": "stream",
          "name": "stdout",
          "text": [
            "\b\b\b\b\b\b\b\b\b\b\b\b\b\b\b\b\b\b\b\b\b\b\b\b\b\b\b\b\b\b\b\b\b\b\b\b\b\b\b\b\b\b\b\b\b\b\b\b\b\b\b\b\b\b\b\b\b\b\b\b\b\b\b\b\b\b\b\b\b\b\b\b\b\b\b\b\b\b\b\b\b\b\b\b\b\b\b\b\b\b\b\b\b\b\b\b\b\b\b\b\b\r1875/1875 [==============================] - 20s 10ms/step - loss: 0.0054 - root_mean_squared_error: 0.0734 - val_loss: 0.0040 - val_root_mean_squared_error: 0.0633\n",
            "Epoch 7/10\n",
            "1867/1875 [============================>.] - ETA: 0s - loss: 0.0051 - root_mean_squared_error: 0.0717"
          ]
        },
        {
          "output_type": "stream",
          "name": "stderr",
          "text": [
            "WARNING:absl:Found untraced functions such as _update_step_xla, lstm_cell_3_layer_call_fn, lstm_cell_3_layer_call_and_return_conditional_losses while saving (showing 3 of 3). These functions will not be directly callable after loading.\n"
          ]
        },
        {
          "output_type": "stream",
          "name": "stdout",
          "text": [
            "\b\b\b\b\b\b\b\b\b\b\b\b\b\b\b\b\b\b\b\b\b\b\b\b\b\b\b\b\b\b\b\b\b\b\b\b\b\b\b\b\b\b\b\b\b\b\b\b\b\b\b\b\b\b\b\b\b\b\b\b\b\b\b\b\b\b\b\b\b\b\b\b\b\b\b\b\b\b\b\b\b\b\b\b\b\b\b\b\b\b\b\b\b\b\b\b\b\b\b\b\b\r1875/1875 [==============================] - 20s 11ms/step - loss: 0.0051 - root_mean_squared_error: 0.0717 - val_loss: 0.0039 - val_root_mean_squared_error: 0.0622\n",
            "Epoch 8/10\n",
            "1872/1875 [============================>.] - ETA: 0s - loss: 0.0050 - root_mean_squared_error: 0.0708"
          ]
        },
        {
          "output_type": "stream",
          "name": "stderr",
          "text": [
            "WARNING:absl:Found untraced functions such as _update_step_xla, lstm_cell_3_layer_call_fn, lstm_cell_3_layer_call_and_return_conditional_losses while saving (showing 3 of 3). These functions will not be directly callable after loading.\n"
          ]
        },
        {
          "output_type": "stream",
          "name": "stdout",
          "text": [
            "\b\b\b\b\b\b\b\b\b\b\b\b\b\b\b\b\b\b\b\b\b\b\b\b\b\b\b\b\b\b\b\b\b\b\b\b\b\b\b\b\b\b\b\b\b\b\b\b\b\b\b\b\b\b\b\b\b\b\b\b\b\b\b\b\b\b\b\b\b\b\b\b\b\b\b\b\b\b\b\b\b\b\b\b\b\b\b\b\b\b\b\b\b\b\b\b\b\b\b\b\b\r1875/1875 [==============================] - 21s 11ms/step - loss: 0.0050 - root_mean_squared_error: 0.0708 - val_loss: 0.0039 - val_root_mean_squared_error: 0.0621\n",
            "Epoch 9/10\n",
            "1873/1875 [============================>.] - ETA: 0s - loss: 0.0049 - root_mean_squared_error: 0.0701"
          ]
        },
        {
          "output_type": "stream",
          "name": "stderr",
          "text": [
            "WARNING:absl:Found untraced functions such as _update_step_xla, lstm_cell_3_layer_call_fn, lstm_cell_3_layer_call_and_return_conditional_losses while saving (showing 3 of 3). These functions will not be directly callable after loading.\n"
          ]
        },
        {
          "output_type": "stream",
          "name": "stdout",
          "text": [
            "\b\b\b\b\b\b\b\b\b\b\b\b\b\b\b\b\b\b\b\b\b\b\b\b\b\b\b\b\b\b\b\b\b\b\b\b\b\b\b\b\b\b\b\b\b\b\b\b\b\b\b\b\b\b\b\b\b\b\b\b\b\b\b\b\b\b\b\b\b\b\b\b\b\b\b\b\b\b\b\b\b\b\b\b\b\b\b\b\b\b\b\b\b\b\b\b\b\b\b\b\b\r1875/1875 [==============================] - 19s 10ms/step - loss: 0.0049 - root_mean_squared_error: 0.0701 - val_loss: 0.0037 - val_root_mean_squared_error: 0.0610\n",
            "Epoch 10/10\n",
            "1866/1875 [============================>.] - ETA: 0s - loss: 0.0049 - root_mean_squared_error: 0.0697"
          ]
        },
        {
          "output_type": "stream",
          "name": "stderr",
          "text": [
            "WARNING:absl:Found untraced functions such as _update_step_xla, lstm_cell_3_layer_call_fn, lstm_cell_3_layer_call_and_return_conditional_losses while saving (showing 3 of 3). These functions will not be directly callable after loading.\n"
          ]
        },
        {
          "output_type": "stream",
          "name": "stdout",
          "text": [
            "\b\b\b\b\b\b\b\b\b\b\b\b\b\b\b\b\b\b\b\b\b\b\b\b\b\b\b\b\b\b\b\b\b\b\b\b\b\b\b\b\b\b\b\b\b\b\b\b\b\b\b\b\b\b\b\b\b\b\b\b\b\b\b\b\b\b\b\b\b\b\b\b\b\b\b\b\b\b\b\b\b\b\b\b\b\b\b\b\b\b\b\b\b\b\b\b\b\b\b\b\b\r1875/1875 [==============================] - 20s 11ms/step - loss: 0.0049 - root_mean_squared_error: 0.0697 - val_loss: 0.0037 - val_root_mean_squared_error: 0.0606\n"
          ]
        },
        {
          "output_type": "execute_result",
          "data": {
            "text/plain": [
              "<keras.callbacks.History at 0x7caad2bb9cc0>"
            ]
          },
          "metadata": {},
          "execution_count": 50
        }
      ]
    },
    {
      "cell_type": "code",
      "metadata": {
        "id": "AzIN93E2xRjE"
      },
      "source": [
        "def plot_predictions2(model, X, y, start=0, end=100):\n",
        "  predictions = model.predict(X)\n",
        "  p_preds, temp_preds = predictions[:, 0], predictions[:, 1]\n",
        "  p_actuals, temp_actuals = y[:, 0], y[:, 1]\n",
        "  df = pd.DataFrame(data={'Temperature Predictions': temp_preds,\n",
        "                          'Temperature Actuals':temp_actuals,\n",
        "                          'Pressure Predictions': p_preds,\n",
        "                          'Pressure Actuals': p_actuals\n",
        "                          })\n",
        "  plt.plot(df['Temperature Predictions'][start:end])\n",
        "  plt.plot(df['Temperature Actuals'][start:end])\n",
        "  plt.plot(df['Pressure Predictions'][start:end])\n",
        "  plt.plot(df['Pressure Actuals'][start:end])\n",
        "  plt.legend(['Predictions','Actuals'])\n",
        "  plt.legend(['Predictions','Actuals'])\n",
        "  plt.title('Temperature and Pressure')\n",
        "  return df[start:end]"
      ],
      "execution_count": 70,
      "outputs": []
    },
    {
      "cell_type": "code",
      "metadata": {
        "colab": {
          "base_uri": "https://localhost:8080/",
          "height": 876
        },
        "id": "QzXcewu_zy2k",
        "outputId": "bd371d58-611e-44fd-c40f-8807e0304052"
      },
      "source": [
        "plot_predictions2(model5, X3_test, y3_test)"
      ],
      "execution_count": 71,
      "outputs": [
        {
          "output_type": "stream",
          "name": "stdout",
          "text": [
            "159/159 [==============================] - 1s 4ms/step\n"
          ]
        },
        {
          "output_type": "execute_result",
          "data": {
            "text/plain": [
              "    Temperature Predictions  Temperature Actuals  Pressure Predictions  \\\n",
              "0                  0.417993             0.412451             -0.795589   \n",
              "1                  0.370774             0.353683             -0.784196   \n",
              "2                  0.328976             0.323123             -0.748730   \n",
              "3                  0.332293             0.250251             -0.695232   \n",
              "4                  0.295929             0.254952             -0.606073   \n",
              "..                      ...                  ...                   ...   \n",
              "95                 0.700694             0.716869             -0.417469   \n",
              "96                 0.660662             0.687485             -0.419238   \n",
              "97                 0.642048             0.663978             -0.402431   \n",
              "98                 0.643101             0.641646             -0.393037   \n",
              "99                 0.658445             0.653400             -0.383921   \n",
              "\n",
              "    Pressure Actuals  \n",
              "0          -0.793439  \n",
              "1          -0.763123  \n",
              "2          -0.721893  \n",
              "3          -0.652773  \n",
              "4          -0.652773  \n",
              "..               ...  \n",
              "95         -0.416310  \n",
              "96         -0.399333  \n",
              "97         -0.399333  \n",
              "98         -0.400546  \n",
              "99         -0.369018  \n",
              "\n",
              "[100 rows x 4 columns]"
            ],
            "text/html": [
              "\n",
              "  <div id=\"df-06b912d1-d235-44b1-b611-2015c2d6527b\" class=\"colab-df-container\">\n",
              "    <div>\n",
              "<style scoped>\n",
              "    .dataframe tbody tr th:only-of-type {\n",
              "        vertical-align: middle;\n",
              "    }\n",
              "\n",
              "    .dataframe tbody tr th {\n",
              "        vertical-align: top;\n",
              "    }\n",
              "\n",
              "    .dataframe thead th {\n",
              "        text-align: right;\n",
              "    }\n",
              "</style>\n",
              "<table border=\"1\" class=\"dataframe\">\n",
              "  <thead>\n",
              "    <tr style=\"text-align: right;\">\n",
              "      <th></th>\n",
              "      <th>Temperature Predictions</th>\n",
              "      <th>Temperature Actuals</th>\n",
              "      <th>Pressure Predictions</th>\n",
              "      <th>Pressure Actuals</th>\n",
              "    </tr>\n",
              "  </thead>\n",
              "  <tbody>\n",
              "    <tr>\n",
              "      <th>0</th>\n",
              "      <td>0.417993</td>\n",
              "      <td>0.412451</td>\n",
              "      <td>-0.795589</td>\n",
              "      <td>-0.793439</td>\n",
              "    </tr>\n",
              "    <tr>\n",
              "      <th>1</th>\n",
              "      <td>0.370774</td>\n",
              "      <td>0.353683</td>\n",
              "      <td>-0.784196</td>\n",
              "      <td>-0.763123</td>\n",
              "    </tr>\n",
              "    <tr>\n",
              "      <th>2</th>\n",
              "      <td>0.328976</td>\n",
              "      <td>0.323123</td>\n",
              "      <td>-0.748730</td>\n",
              "      <td>-0.721893</td>\n",
              "    </tr>\n",
              "    <tr>\n",
              "      <th>3</th>\n",
              "      <td>0.332293</td>\n",
              "      <td>0.250251</td>\n",
              "      <td>-0.695232</td>\n",
              "      <td>-0.652773</td>\n",
              "    </tr>\n",
              "    <tr>\n",
              "      <th>4</th>\n",
              "      <td>0.295929</td>\n",
              "      <td>0.254952</td>\n",
              "      <td>-0.606073</td>\n",
              "      <td>-0.652773</td>\n",
              "    </tr>\n",
              "    <tr>\n",
              "      <th>...</th>\n",
              "      <td>...</td>\n",
              "      <td>...</td>\n",
              "      <td>...</td>\n",
              "      <td>...</td>\n",
              "    </tr>\n",
              "    <tr>\n",
              "      <th>95</th>\n",
              "      <td>0.700694</td>\n",
              "      <td>0.716869</td>\n",
              "      <td>-0.417469</td>\n",
              "      <td>-0.416310</td>\n",
              "    </tr>\n",
              "    <tr>\n",
              "      <th>96</th>\n",
              "      <td>0.660662</td>\n",
              "      <td>0.687485</td>\n",
              "      <td>-0.419238</td>\n",
              "      <td>-0.399333</td>\n",
              "    </tr>\n",
              "    <tr>\n",
              "      <th>97</th>\n",
              "      <td>0.642048</td>\n",
              "      <td>0.663978</td>\n",
              "      <td>-0.402431</td>\n",
              "      <td>-0.399333</td>\n",
              "    </tr>\n",
              "    <tr>\n",
              "      <th>98</th>\n",
              "      <td>0.643101</td>\n",
              "      <td>0.641646</td>\n",
              "      <td>-0.393037</td>\n",
              "      <td>-0.400546</td>\n",
              "    </tr>\n",
              "    <tr>\n",
              "      <th>99</th>\n",
              "      <td>0.658445</td>\n",
              "      <td>0.653400</td>\n",
              "      <td>-0.383921</td>\n",
              "      <td>-0.369018</td>\n",
              "    </tr>\n",
              "  </tbody>\n",
              "</table>\n",
              "<p>100 rows × 4 columns</p>\n",
              "</div>\n",
              "    <div class=\"colab-df-buttons\">\n",
              "\n",
              "  <div class=\"colab-df-container\">\n",
              "    <button class=\"colab-df-convert\" onclick=\"convertToInteractive('df-06b912d1-d235-44b1-b611-2015c2d6527b')\"\n",
              "            title=\"Convert this dataframe to an interactive table.\"\n",
              "            style=\"display:none;\">\n",
              "\n",
              "  <svg xmlns=\"http://www.w3.org/2000/svg\" height=\"24px\" viewBox=\"0 -960 960 960\">\n",
              "    <path d=\"M120-120v-720h720v720H120Zm60-500h600v-160H180v160Zm220 220h160v-160H400v160Zm0 220h160v-160H400v160ZM180-400h160v-160H180v160Zm440 0h160v-160H620v160ZM180-180h160v-160H180v160Zm440 0h160v-160H620v160Z\"/>\n",
              "  </svg>\n",
              "    </button>\n",
              "\n",
              "  <style>\n",
              "    .colab-df-container {\n",
              "      display:flex;\n",
              "      gap: 12px;\n",
              "    }\n",
              "\n",
              "    .colab-df-convert {\n",
              "      background-color: #E8F0FE;\n",
              "      border: none;\n",
              "      border-radius: 50%;\n",
              "      cursor: pointer;\n",
              "      display: none;\n",
              "      fill: #1967D2;\n",
              "      height: 32px;\n",
              "      padding: 0 0 0 0;\n",
              "      width: 32px;\n",
              "    }\n",
              "\n",
              "    .colab-df-convert:hover {\n",
              "      background-color: #E2EBFA;\n",
              "      box-shadow: 0px 1px 2px rgba(60, 64, 67, 0.3), 0px 1px 3px 1px rgba(60, 64, 67, 0.15);\n",
              "      fill: #174EA6;\n",
              "    }\n",
              "\n",
              "    .colab-df-buttons div {\n",
              "      margin-bottom: 4px;\n",
              "    }\n",
              "\n",
              "    [theme=dark] .colab-df-convert {\n",
              "      background-color: #3B4455;\n",
              "      fill: #D2E3FC;\n",
              "    }\n",
              "\n",
              "    [theme=dark] .colab-df-convert:hover {\n",
              "      background-color: #434B5C;\n",
              "      box-shadow: 0px 1px 3px 1px rgba(0, 0, 0, 0.15);\n",
              "      filter: drop-shadow(0px 1px 2px rgba(0, 0, 0, 0.3));\n",
              "      fill: #FFFFFF;\n",
              "    }\n",
              "  </style>\n",
              "\n",
              "    <script>\n",
              "      const buttonEl =\n",
              "        document.querySelector('#df-06b912d1-d235-44b1-b611-2015c2d6527b button.colab-df-convert');\n",
              "      buttonEl.style.display =\n",
              "        google.colab.kernel.accessAllowed ? 'block' : 'none';\n",
              "\n",
              "      async function convertToInteractive(key) {\n",
              "        const element = document.querySelector('#df-06b912d1-d235-44b1-b611-2015c2d6527b');\n",
              "        const dataTable =\n",
              "          await google.colab.kernel.invokeFunction('convertToInteractive',\n",
              "                                                    [key], {});\n",
              "        if (!dataTable) return;\n",
              "\n",
              "        const docLinkHtml = 'Like what you see? Visit the ' +\n",
              "          '<a target=\"_blank\" href=https://colab.research.google.com/notebooks/data_table.ipynb>data table notebook</a>'\n",
              "          + ' to learn more about interactive tables.';\n",
              "        element.innerHTML = '';\n",
              "        dataTable['output_type'] = 'display_data';\n",
              "        await google.colab.output.renderOutput(dataTable, element);\n",
              "        const docLink = document.createElement('div');\n",
              "        docLink.innerHTML = docLinkHtml;\n",
              "        element.appendChild(docLink);\n",
              "      }\n",
              "    </script>\n",
              "  </div>\n",
              "\n",
              "\n",
              "<div id=\"df-e8386103-df44-455c-a454-10adf34f60eb\">\n",
              "  <button class=\"colab-df-quickchart\" onclick=\"quickchart('df-e8386103-df44-455c-a454-10adf34f60eb')\"\n",
              "            title=\"Suggest charts.\"\n",
              "            style=\"display:none;\">\n",
              "\n",
              "<svg xmlns=\"http://www.w3.org/2000/svg\" height=\"24px\"viewBox=\"0 0 24 24\"\n",
              "     width=\"24px\">\n",
              "    <g>\n",
              "        <path d=\"M19 3H5c-1.1 0-2 .9-2 2v14c0 1.1.9 2 2 2h14c1.1 0 2-.9 2-2V5c0-1.1-.9-2-2-2zM9 17H7v-7h2v7zm4 0h-2V7h2v10zm4 0h-2v-4h2v4z\"/>\n",
              "    </g>\n",
              "</svg>\n",
              "  </button>\n",
              "\n",
              "<style>\n",
              "  .colab-df-quickchart {\n",
              "    background-color: #E8F0FE;\n",
              "    border: none;\n",
              "    border-radius: 50%;\n",
              "    cursor: pointer;\n",
              "    display: none;\n",
              "    fill: #1967D2;\n",
              "    height: 32px;\n",
              "    padding: 0 0 0 0;\n",
              "    width: 32px;\n",
              "  }\n",
              "\n",
              "  .colab-df-quickchart:hover {\n",
              "    background-color: #E2EBFA;\n",
              "    box-shadow: 0px 1px 2px rgba(60, 64, 67, 0.3), 0px 1px 3px 1px rgba(60, 64, 67, 0.15);\n",
              "    fill: #174EA6;\n",
              "  }\n",
              "\n",
              "  [theme=dark] .colab-df-quickchart {\n",
              "    background-color: #3B4455;\n",
              "    fill: #D2E3FC;\n",
              "  }\n",
              "\n",
              "  [theme=dark] .colab-df-quickchart:hover {\n",
              "    background-color: #434B5C;\n",
              "    box-shadow: 0px 1px 3px 1px rgba(0, 0, 0, 0.15);\n",
              "    filter: drop-shadow(0px 1px 2px rgba(0, 0, 0, 0.3));\n",
              "    fill: #FFFFFF;\n",
              "  }\n",
              "</style>\n",
              "\n",
              "  <script>\n",
              "    async function quickchart(key) {\n",
              "      const charts = await google.colab.kernel.invokeFunction(\n",
              "          'suggestCharts', [key], {});\n",
              "    }\n",
              "    (() => {\n",
              "      let quickchartButtonEl =\n",
              "        document.querySelector('#df-e8386103-df44-455c-a454-10adf34f60eb button');\n",
              "      quickchartButtonEl.style.display =\n",
              "        google.colab.kernel.accessAllowed ? 'block' : 'none';\n",
              "    })();\n",
              "  </script>\n",
              "</div>\n",
              "    </div>\n",
              "  </div>\n"
            ]
          },
          "metadata": {},
          "execution_count": 71
        },
        {
          "output_type": "display_data",
          "data": {
            "text/plain": [
              "<Figure size 640x480 with 1 Axes>"
            ],
            "image/png": "[encoded data removed]"
          },
          "metadata": {}
        }
      ]
    },
    {
      "cell_type": "code",
      "metadata": {
        "id": "hplJkJvI0fTf"
      },
      "source": [
        "def postprocess_temp(arr):\n",
        "  arr = (arr*temp_training_std3) + temp_training_mean3\n",
        "  return arr\n",
        "\n",
        "def postprocess_p(arr):\n",
        "  arr = (arr*p_training_std3) + p_training_mean3\n",
        "  return arr"
      ],
      "execution_count": 53,
      "outputs": []
    },
    {
      "cell_type": "code",
      "metadata": {
        "id": "Jcmk5ZB21PDe"
      },
      "source": [
        "def plot_predictions2(model, X, y, start=0, end=100):\n",
        "  predictions = model.predict(X)\n",
        "  p_preds, temp_preds = postprocess_p(predictions[:, 0]), postprocess_temp(predictions[:, 1])\n",
        "  p_actuals, temp_actuals = postprocess_p(y[:, 0]), postprocess_temp(y[:, 1])\n",
        "  df = pd.DataFrame(data={'Temperature Predictions': temp_preds,\n",
        "                          'Temperature Actuals':temp_actuals,\n",
        "                          'Pressure Predictions': p_preds,\n",
        "                          'Pressure Actuals': p_actuals\n",
        "                          })\n",
        "  plt.plot(df['Temperature Predictions'][start:end])\n",
        "  plt.plot(df['Temperature Actuals'][start:end])\n",
        "  plt.plot(df['Pressure Predictions'][start:end])\n",
        "  plt.plot(df['Pressure Actuals'][start:end])\n",
        "  plt.legend(['Predictions','Actuals'])\n",
        "  return df[start:end]"
      ],
      "execution_count": 56,
      "outputs": []
    },
    {
      "cell_type": "code",
      "metadata": {
        "colab": {
          "base_uri": "https://localhost:8080/",
          "height": 854
        },
        "id": "WdYOQkIN1gAK",
        "outputId": "244cf23a-7a75-4bcb-f6a1-9e8c8b4025d9"
      },
      "source": [
        "post_processed_df = plot_predictions2(model5, X3_test, y3_test)\n",
        "post_processed_df"
      ],
      "execution_count": 57,
      "outputs": [
        {
          "output_type": "stream",
          "name": "stdout",
          "text": [
            "159/159 [==============================] - 1s 3ms/step\n"
          ]
        },
        {
          "output_type": "execute_result",
          "data": {
            "text/plain": [
              "    Temperature Predictions  Temperature Actuals  Pressure Predictions  \\\n",
              "0                 12.977153                12.93            982.412292   \n",
              "1                 12.575414                12.43            982.506226   \n",
              "2                 12.219793                12.17            982.798706   \n",
              "3                 12.248014                11.55            983.239868   \n",
              "4                 11.938630                11.59            983.975159   \n",
              "..                      ...                  ...                   ...   \n",
              "95                15.382380                15.52            985.530457   \n",
              "96                15.041790                15.27            985.515869   \n",
              "97                14.883421                15.07            985.654480   \n",
              "98                14.892374                14.88            985.731934   \n",
              "99                15.022923                14.98            985.807129   \n",
              "\n",
              "    Pressure Actuals  \n",
              "0             982.43  \n",
              "1             982.68  \n",
              "2             983.02  \n",
              "3             983.59  \n",
              "4             983.59  \n",
              "..               ...  \n",
              "95            985.54  \n",
              "96            985.68  \n",
              "97            985.68  \n",
              "98            985.67  \n",
              "99            985.93  \n",
              "\n",
              "[100 rows x 4 columns]"
            ],
            "text/html": [
              "\n",
              "  <div id=\"df-1c5524ea-ac95-4cfb-9466-cd35c4d0af31\" class=\"colab-df-container\">\n",
              "    <div>\n",
              "<style scoped>\n",
              "    .dataframe tbody tr th:only-of-type {\n",
              "        vertical-align: middle;\n",
              "    }\n",
              "\n",
              "    .dataframe tbody tr th {\n",
              "        vertical-align: top;\n",
              "    }\n",
              "\n",
              "    .dataframe thead th {\n",
              "        text-align: right;\n",
              "    }\n",
              "</style>\n",
              "<table border=\"1\" class=\"dataframe\">\n",
              "  <thead>\n",
              "    <tr style=\"text-align: right;\">\n",
              "      <th></th>\n",
              "      <th>Temperature Predictions</th>\n",
              "      <th>Temperature Actuals</th>\n",
              "      <th>Pressure Predictions</th>\n",
              "      <th>Pressure Actuals</th>\n",
              "    </tr>\n",
              "  </thead>\n",
              "  <tbody>\n",
              "    <tr>\n",
              "      <th>0</th>\n",
              "      <td>12.977153</td>\n",
              "      <td>12.93</td>\n",
              "      <td>982.412292</td>\n",
              "      <td>982.43</td>\n",
              "    </tr>\n",
              "    <tr>\n",
              "      <th>1</th>\n",
              "      <td>12.575414</td>\n",
              "      <td>12.43</td>\n",
              "      <td>982.506226</td>\n",
              "      <td>982.68</td>\n",
              "    </tr>\n",
              "    <tr>\n",
              "      <th>2</th>\n",
              "      <td>12.219793</td>\n",
              "      <td>12.17</td>\n",
              "      <td>982.798706</td>\n",
              "      <td>983.02</td>\n",
              "    </tr>\n",
              "    <tr>\n",
              "      <th>3</th>\n",
              "      <td>12.248014</td>\n",
              "      <td>11.55</td>\n",
              "      <td>983.239868</td>\n",
              "      <td>983.59</td>\n",
              "    </tr>\n",
              "    <tr>\n",
              "      <th>4</th>\n",
              "      <td>11.938630</td>\n",
              "      <td>11.59</td>\n",
              "      <td>983.975159</td>\n",
              "      <td>983.59</td>\n",
              "    </tr>\n",
              "    <tr>\n",
              "      <th>...</th>\n",
              "      <td>...</td>\n",
              "      <td>...</td>\n",
              "      <td>...</td>\n",
              "      <td>...</td>\n",
              "    </tr>\n",
              "    <tr>\n",
              "      <th>95</th>\n",
              "      <td>15.382380</td>\n",
              "      <td>15.52</td>\n",
              "      <td>985.530457</td>\n",
              "      <td>985.54</td>\n",
              "    </tr>\n",
              "    <tr>\n",
              "      <th>96</th>\n",
              "      <td>15.041790</td>\n",
              "      <td>15.27</td>\n",
              "      <td>985.515869</td>\n",
              "      <td>985.68</td>\n",
              "    </tr>\n",
              "    <tr>\n",
              "      <th>97</th>\n",
              "      <td>14.883421</td>\n",
              "      <td>15.07</td>\n",
              "      <td>985.654480</td>\n",
              "      <td>985.68</td>\n",
              "    </tr>\n",
              "    <tr>\n",
              "      <th>98</th>\n",
              "      <td>14.892374</td>\n",
              "      <td>14.88</td>\n",
              "      <td>985.731934</td>\n",
              "      <td>985.67</td>\n",
              "    </tr>\n",
              "    <tr>\n",
              "      <th>99</th>\n",
              "      <td>15.022923</td>\n",
              "      <td>14.98</td>\n",
              "      <td>985.807129</td>\n",
              "      <td>985.93</td>\n",
              "    </tr>\n",
              "  </tbody>\n",
              "</table>\n",
              "<p>100 rows × 4 columns</p>\n",
              "</div>\n",
              "    <div class=\"colab-df-buttons\">\n",
              "\n",
              "  <div class=\"colab-df-container\">\n",
              "    <button class=\"colab-df-convert\" onclick=\"convertToInteractive('df-1c5524ea-ac95-4cfb-9466-cd35c4d0af31')\"\n",
              "            title=\"Convert this dataframe to an interactive table.\"\n",
              "            style=\"display:none;\">\n",
              "\n",
              "  <svg xmlns=\"http://www.w3.org/2000/svg\" height=\"24px\" viewBox=\"0 -960 960 960\">\n",
              "    <path d=\"M120-120v-720h720v720H120Zm60-500h600v-160H180v160Zm220 220h160v-160H400v160Zm0 220h160v-160H400v160ZM180-400h160v-160H180v160Zm440 0h160v-160H620v160ZM180-180h160v-160H180v160Zm440 0h160v-160H620v160Z\"/>\n",
              "  </svg>\n",
              "    </button>\n",
              "\n",
              "  <style>\n",
              "    .colab-df-container {\n",
              "      display:flex;\n",
              "      gap: 12px;\n",
              "    }\n",
              "\n",
              "    .colab-df-convert {\n",
              "      background-color: #E8F0FE;\n",
              "      border: none;\n",
              "      border-radius: 50%;\n",
              "      cursor: pointer;\n",
              "      display: none;\n",
              "      fill: #1967D2;\n",
              "      height: 32px;\n",
              "      padding: 0 0 0 0;\n",
              "      width: 32px;\n",
              "    }\n",
              "\n",
              "    .colab-df-convert:hover {\n",
              "      background-color: #E2EBFA;\n",
              "      box-shadow: 0px 1px 2px rgba(60, 64, 67, 0.3), 0px 1px 3px 1px rgba(60, 64, 67, 0.15);\n",
              "      fill: #174EA6;\n",
              "    }\n",
              "\n",
              "    .colab-df-buttons div {\n",
              "      margin-bottom: 4px;\n",
              "    }\n",
              "\n",
              "    [theme=dark] .colab-df-convert {\n",
              "      background-color: #3B4455;\n",
              "      fill: #D2E3FC;\n",
              "    }\n",
              "\n",
              "    [theme=dark] .colab-df-convert:hover {\n",
              "      background-color: #434B5C;\n",
              "      box-shadow: 0px 1px 3px 1px rgba(0, 0, 0, 0.15);\n",
              "      filter: drop-shadow(0px 1px 2px rgba(0, 0, 0, 0.3));\n",
              "      fill: #FFFFFF;\n",
              "    }\n",
              "  </style>\n",
              "\n",
              "    <script>\n",
              "      const buttonEl =\n",
              "        document.querySelector('#df-1c5524ea-ac95-4cfb-9466-cd35c4d0af31 button.colab-df-convert');\n",
              "      buttonEl.style.display =\n",
              "        google.colab.kernel.accessAllowed ? 'block' : 'none';\n",
              "\n",
              "      async function convertToInteractive(key) {\n",
              "        const element = document.querySelector('#df-1c5524ea-ac95-4cfb-9466-cd35c4d0af31');\n",
              "        const dataTable =\n",
              "          await google.colab.kernel.invokeFunction('convertToInteractive',\n",
              "                                                    [key], {});\n",
              "        if (!dataTable) return;\n",
              "\n",
              "        const docLinkHtml = 'Like what you see? Visit the ' +\n",
              "          '<a target=\"_blank\" href=https://colab.research.google.com/notebooks/data_table.ipynb>data table notebook</a>'\n",
              "          + ' to learn more about interactive tables.';\n",
              "        element.innerHTML = '';\n",
              "        dataTable['output_type'] = 'display_data';\n",
              "        await google.colab.output.renderOutput(dataTable, element);\n",
              "        const docLink = document.createElement('div');\n",
              "        docLink.innerHTML = docLinkHtml;\n",
              "        element.appendChild(docLink);\n",
              "      }\n",
              "    </script>\n",
              "  </div>\n",
              "\n",
              "\n",
              "<div id=\"df-190f827e-acae-4c05-bf0a-72094c9c8531\">\n",
              "  <button class=\"colab-df-quickchart\" onclick=\"quickchart('df-190f827e-acae-4c05-bf0a-72094c9c8531')\"\n",
              "            title=\"Suggest charts.\"\n",
              "            style=\"display:none;\">\n",
              "\n",
              "<svg xmlns=\"http://www.w3.org/2000/svg\" height=\"24px\"viewBox=\"0 0 24 24\"\n",
              "     width=\"24px\">\n",
              "    <g>\n",
              "        <path d=\"M19 3H5c-1.1 0-2 .9-2 2v14c0 1.1.9 2 2 2h14c1.1 0 2-.9 2-2V5c0-1.1-.9-2-2-2zM9 17H7v-7h2v7zm4 0h-2V7h2v10zm4 0h-2v-4h2v4z\"/>\n",
              "    </g>\n",
              "</svg>\n",
              "  </button>\n",
              "\n",
              "<style>\n",
              "  .colab-df-quickchart {\n",
              "    background-color: #E8F0FE;\n",
              "    border: none;\n",
              "    border-radius: 50%;\n",
              "    cursor: pointer;\n",
              "    display: none;\n",
              "    fill: #1967D2;\n",
              "    height: 32px;\n",
              "    padding: 0 0 0 0;\n",
              "    width: 32px;\n",
              "  }\n",
              "\n",
              "  .colab-df-quickchart:hover {\n",
              "    background-color: #E2EBFA;\n",
              "    box-shadow: 0px 1px 2px rgba(60, 64, 67, 0.3), 0px 1px 3px 1px rgba(60, 64, 67, 0.15);\n",
              "    fill: #174EA6;\n",
              "  }\n",
              "\n",
              "  [theme=dark] .colab-df-quickchart {\n",
              "    background-color: #3B4455;\n",
              "    fill: #D2E3FC;\n",
              "  }\n",
              "\n",
              "  [theme=dark] .colab-df-quickchart:hover {\n",
              "    background-color: #434B5C;\n",
              "    box-shadow: 0px 1px 3px 1px rgba(0, 0, 0, 0.15);\n",
              "    filter: drop-shadow(0px 1px 2px rgba(0, 0, 0, 0.3));\n",
              "    fill: #FFFFFF;\n",
              "  }\n",
              "</style>\n",
              "\n",
              "  <script>\n",
              "    async function quickchart(key) {\n",
              "      const charts = await google.colab.kernel.invokeFunction(\n",
              "          'suggestCharts', [key], {});\n",
              "    }\n",
              "    (() => {\n",
              "      let quickchartButtonEl =\n",
              "        document.querySelector('#df-190f827e-acae-4c05-bf0a-72094c9c8531 button');\n",
              "      quickchartButtonEl.style.display =\n",
              "        google.colab.kernel.accessAllowed ? 'block' : 'none';\n",
              "    })();\n",
              "  </script>\n",
              "</div>\n",
              "    </div>\n",
              "  </div>\n"
            ]
          },
          "metadata": {},
          "execution_count": 57
        },
        {
          "output_type": "display_data",
          "data": {
            "text/plain": [
              "<Figure size 640x480 with 1 Axes>"
            ],
            "image/png": "[encoded data removed]"
          },
          "metadata": {}
        }
      ]
    },
    {
      "cell_type": "code",
      "metadata": {
        "colab": {
          "base_uri": "https://localhost:8080/",
          "height": 469
        },
        "id": "9m_fSfOq1ohj",
        "outputId": "ce7d635b-1ec5-4d83-8063-04ad7a979156"
      },
      "source": [
        "start, end = 0, 100\n",
        "plt.plot(post_processed_df['Temperature Predictions'][start:end])\n",
        "plt.plot(post_processed_df['Temperature Actuals'][start:end])\n",
        "plt.legend(['Predictions','Actuals'])\n",
        "plt.title('Temperature')"
      ],
      "execution_count": 66,
      "outputs": [
        {
          "output_type": "execute_result",
          "data": {
            "text/plain": [
              "Text(0.5, 1.0, 'Temperature')"
            ]
          },
          "metadata": {},
          "execution_count": 66
        },
        {
          "output_type": "display_data",
          "data": {
            "text/plain": [
              "<Figure size 640x480 with 1 Axes>"
            ],
            "image/png": "[encoded data removed]"
          },
          "metadata": {}
        }
      ]
    },
    {
      "cell_type": "code",
      "metadata": {
        "colab": {
          "base_uri": "https://localhost:8080/",
          "height": 469
        },
        "id": "ORffwf-e125j",
        "outputId": "daf3fcda-6276-41f0-ba85-70206b6715a0"
      },
      "source": [
        "plt.plot(post_processed_df['Pressure Predictions'][start:end])\n",
        "plt.plot(post_processed_df['Pressure Actuals'][start:end])\n",
        "plt.legend(['Predictions','Actuals'])\n",
        "plt.title('Pressure')"
      ],
      "execution_count": 67,
      "outputs": [
        {
          "output_type": "execute_result",
          "data": {
            "text/plain": [
              "Text(0.5, 1.0, 'Pressure')"
            ]
          },
          "metadata": {},
          "execution_count": 67
        },
        {
          "output_type": "display_data",
          "data": {
            "text/plain": [
              "<Figure size 640x480 with 1 Axes>"
            ],
            "image/png": "[encoded data removed]"
          },
          "metadata": {}
        }
      ]
    },
    {
      "cell_type": "code",
      "metadata": {
        "colab": {
          "base_uri": "https://localhost:8080/"
        },
        "id": "GmwCnsUj2B8A",
        "outputId": "bcbe85d4-13be-4814-bc7d-8968eb385508"
      },
      "source": [
        "model6 = Sequential()\n",
        "model6.add(InputLayer((7, 6)))\n",
        "model6.add(LSTM(32, return_sequences=True))\n",
        "model6.add(LSTM(64))\n",
        "model6.add(Dense(8, 'relu'))\n",
        "model6.add(Dense(2, 'linear'))\n",
        "\n",
        "model6.summary()"
      ],
      "execution_count": 60,
      "outputs": [
        {
          "output_type": "stream",
          "name": "stdout",
          "text": [
            "Model: \"sequential_5\"\n",
            "_________________________________________________________________\n",
            " Layer (type)                Output Shape              Param #   \n",
            "=================================================================\n",
            " lstm_3 (LSTM)               (None, 7, 32)             4992      \n",
            "                                                                 \n",
            " lstm_4 (LSTM)               (None, 64)                24832     \n",
            "                                                                 \n",
            " dense_10 (Dense)            (None, 8)                 520       \n",
            "                                                                 \n",
            " dense_11 (Dense)            (None, 2)                 18        \n",
            "                                                                 \n",
            "=================================================================\n",
            "Total params: 30,362\n",
            "Trainable params: 30,362\n",
            "Non-trainable params: 0\n",
            "_________________________________________________________________\n"
          ]
        }
      ]
    },
    {
      "cell_type": "code",
      "metadata": {
        "id": "cWepnsFE2Tnl"
      },
      "source": [
        "cp6 = ModelCheckpoint('model6/', save_best_only=True)\n",
        "model6.compile(loss=MeanSquaredError(), optimizer=Adam(learning_rate=0.0001), metrics=[RootMeanSquaredError()])"
      ],
      "execution_count": 61,
      "outputs": []
    },
    {
      "cell_type": "code",
      "metadata": {
        "colab": {
          "base_uri": "https://localhost:8080/"
        },
        "id": "7XnlR3om2aiA",
        "outputId": "10eb7447-7b2e-415e-831c-39441b5e543c"
      },
      "source": [
        "model6.fit(X3_train, y3_train, validation_data=(X3_val, y3_val), epochs=10, callbacks=[cp6])"
      ],
      "execution_count": 62,
      "outputs": [
        {
          "output_type": "stream",
          "name": "stdout",
          "text": [
            "Epoch 1/10\n",
            "1873/1875 [============================>.] - ETA: 0s - loss: 0.1355 - root_mean_squared_error: 0.3681"
          ]
        },
        {
          "output_type": "stream",
          "name": "stderr",
          "text": [
            "WARNING:absl:Found untraced functions such as _update_step_xla, lstm_cell_4_layer_call_fn, lstm_cell_4_layer_call_and_return_conditional_losses, lstm_cell_5_layer_call_fn, lstm_cell_5_layer_call_and_return_conditional_losses while saving (showing 5 of 5). These functions will not be directly callable after loading.\n"
          ]
        },
        {
          "output_type": "stream",
          "name": "stdout",
          "text": [
            "\b\b\b\b\b\b\b\b\b\b\b\b\b\b\b\b\b\b\b\b\b\b\b\b\b\b\b\b\b\b\b\b\b\b\b\b\b\b\b\b\b\b\b\b\b\b\b\b\b\b\b\b\b\b\b\b\b\b\b\b\b\b\b\b\b\b\b\b\b\b\b\b\b\b\b\b\b\b\b\b\b\b\b\b\b\b\b\b\b\b\b\b\b\b\b\b\b\b\b\b\b\r1875/1875 [==============================] - 38s 18ms/step - loss: 0.1354 - root_mean_squared_error: 0.3679 - val_loss: 0.0458 - val_root_mean_squared_error: 0.2139\n",
            "Epoch 2/10\n",
            "1875/1875 [==============================] - ETA: 0s - loss: 0.0356 - root_mean_squared_error: 0.1887"
          ]
        },
        {
          "output_type": "stream",
          "name": "stderr",
          "text": [
            "WARNING:absl:Found untraced functions such as _update_step_xla, lstm_cell_4_layer_call_fn, lstm_cell_4_layer_call_and_return_conditional_losses, lstm_cell_5_layer_call_fn, lstm_cell_5_layer_call_and_return_conditional_losses while saving (showing 5 of 5). These functions will not be directly callable after loading.\n"
          ]
        },
        {
          "output_type": "stream",
          "name": "stdout",
          "text": [
            "\b\b\b\b\b\b\b\b\b\b\b\b\b\b\b\b\b\b\b\b\b\b\b\b\b\b\b\b\b\b\b\b\b\b\b\b\b\b\b\b\b\b\b\b\b\b\b\b\b\b\b\b\b\b\b\b\b\b\b\b\b\b\b\b\b\b\b\b\b\b\b\b\b\b\b\b\b\b\b\b\b\b\b\b\b\b\b\b\b\b\b\b\b\b\b\b\b\b\b\b\b\r1875/1875 [==============================] - 36s 19ms/step - loss: 0.0356 - root_mean_squared_error: 0.1887 - val_loss: 0.0280 - val_root_mean_squared_error: 0.1673\n",
            "Epoch 3/10\n",
            "1875/1875 [==============================] - ETA: 0s - loss: 0.0191 - root_mean_squared_error: 0.1382"
          ]
        },
        {
          "output_type": "stream",
          "name": "stderr",
          "text": [
            "WARNING:absl:Found untraced functions such as _update_step_xla, lstm_cell_4_layer_call_fn, lstm_cell_4_layer_call_and_return_conditional_losses, lstm_cell_5_layer_call_fn, lstm_cell_5_layer_call_and_return_conditional_losses while saving (showing 5 of 5). These functions will not be directly callable after loading.\n"
          ]
        },
        {
          "output_type": "stream",
          "name": "stdout",
          "text": [
            "\b\b\b\b\b\b\b\b\b\b\b\b\b\b\b\b\b\b\b\b\b\b\b\b\b\b\b\b\b\b\b\b\b\b\b\b\b\b\b\b\b\b\b\b\b\b\b\b\b\b\b\b\b\b\b\b\b\b\b\b\b\b\b\b\b\b\b\b\b\b\b\b\b\b\b\b\b\b\b\b\b\b\b\b\b\b\b\b\b\b\b\b\b\b\b\b\b\b\b\b\b\r1875/1875 [==============================] - 35s 19ms/step - loss: 0.0191 - root_mean_squared_error: 0.1382 - val_loss: 0.0115 - val_root_mean_squared_error: 0.1071\n",
            "Epoch 4/10\n",
            "1875/1875 [==============================] - ETA: 0s - loss: 0.0107 - root_mean_squared_error: 0.1033"
          ]
        },
        {
          "output_type": "stream",
          "name": "stderr",
          "text": [
            "WARNING:absl:Found untraced functions such as _update_step_xla, lstm_cell_4_layer_call_fn, lstm_cell_4_layer_call_and_return_conditional_losses, lstm_cell_5_layer_call_fn, lstm_cell_5_layer_call_and_return_conditional_losses while saving (showing 5 of 5). These functions will not be directly callable after loading.\n"
          ]
        },
        {
          "output_type": "stream",
          "name": "stdout",
          "text": [
            "\b\b\b\b\b\b\b\b\b\b\b\b\b\b\b\b\b\b\b\b\b\b\b\b\b\b\b\b\b\b\b\b\b\b\b\b\b\b\b\b\b\b\b\b\b\b\b\b\b\b\b\b\b\b\b\b\b\b\b\b\b\b\b\b\b\b\b\b\b\b\b\b\b\b\b\b\b\b\b\b\b\b\b\b\b\b\b\b\b\b\b\b\b\b\b\b\b\b\b\b\b\r1875/1875 [==============================] - 35s 19ms/step - loss: 0.0107 - root_mean_squared_error: 0.1033 - val_loss: 0.0077 - val_root_mean_squared_error: 0.0879\n",
            "Epoch 5/10\n",
            "1875/1875 [==============================] - ETA: 0s - loss: 0.0083 - root_mean_squared_error: 0.0911"
          ]
        },
        {
          "output_type": "stream",
          "name": "stderr",
          "text": [
            "WARNING:absl:Found untraced functions such as _update_step_xla, lstm_cell_4_layer_call_fn, lstm_cell_4_layer_call_and_return_conditional_losses, lstm_cell_5_layer_call_fn, lstm_cell_5_layer_call_and_return_conditional_losses while saving (showing 5 of 5). These functions will not be directly callable after loading.\n"
          ]
        },
        {
          "output_type": "stream",
          "name": "stdout",
          "text": [
            "\b\b\b\b\b\b\b\b\b\b\b\b\b\b\b\b\b\b\b\b\b\b\b\b\b\b\b\b\b\b\b\b\b\b\b\b\b\b\b\b\b\b\b\b\b\b\b\b\b\b\b\b\b\b\b\b\b\b\b\b\b\b\b\b\b\b\b\b\b\b\b\b\b\b\b\b\b\b\b\b\b\b\b\b\b\b\b\b\b\b\b\b\b\b\b\b\b\b\b\b\b\r1875/1875 [==============================] - 34s 18ms/step - loss: 0.0083 - root_mean_squared_error: 0.0911 - val_loss: 0.0062 - val_root_mean_squared_error: 0.0790\n",
            "Epoch 6/10\n",
            "1873/1875 [============================>.] - ETA: 0s - loss: 0.0069 - root_mean_squared_error: 0.0833"
          ]
        },
        {
          "output_type": "stream",
          "name": "stderr",
          "text": [
            "WARNING:absl:Found untraced functions such as _update_step_xla, lstm_cell_4_layer_call_fn, lstm_cell_4_layer_call_and_return_conditional_losses, lstm_cell_5_layer_call_fn, lstm_cell_5_layer_call_and_return_conditional_losses while saving (showing 5 of 5). These functions will not be directly callable after loading.\n"
          ]
        },
        {
          "output_type": "stream",
          "name": "stdout",
          "text": [
            "\b\b\b\b\b\b\b\b\b\b\b\b\b\b\b\b\b\b\b\b\b\b\b\b\b\b\b\b\b\b\b\b\b\b\b\b\b\b\b\b\b\b\b\b\b\b\b\b\b\b\b\b\b\b\b\b\b\b\b\b\b\b\b\b\b\b\b\b\b\b\b\b\b\b\b\b\b\b\b\b\b\b\b\b\b\b\b\b\b\b\b\b\b\b\b\b\b\b\b\b\b\r1875/1875 [==============================] - 36s 19ms/step - loss: 0.0069 - root_mean_squared_error: 0.0833 - val_loss: 0.0054 - val_root_mean_squared_error: 0.0733\n",
            "Epoch 7/10\n",
            "1872/1875 [============================>.] - ETA: 0s - loss: 0.0060 - root_mean_squared_error: 0.0777"
          ]
        },
        {
          "output_type": "stream",
          "name": "stderr",
          "text": [
            "WARNING:absl:Found untraced functions such as _update_step_xla, lstm_cell_4_layer_call_fn, lstm_cell_4_layer_call_and_return_conditional_losses, lstm_cell_5_layer_call_fn, lstm_cell_5_layer_call_and_return_conditional_losses while saving (showing 5 of 5). These functions will not be directly callable after loading.\n"
          ]
        },
        {
          "output_type": "stream",
          "name": "stdout",
          "text": [
            "\b\b\b\b\b\b\b\b\b\b\b\b\b\b\b\b\b\b\b\b\b\b\b\b\b\b\b\b\b\b\b\b\b\b\b\b\b\b\b\b\b\b\b\b\b\b\b\b\b\b\b\b\b\b\b\b\b\b\b\b\b\b\b\b\b\b\b\b\b\b\b\b\b\b\b\b\b\b\b\b\b\b\b\b\b\b\b\b\b\b\b\b\b\b\b\b\b\b\b\b\b\r1875/1875 [==============================] - 34s 18ms/step - loss: 0.0060 - root_mean_squared_error: 0.0777 - val_loss: 0.0048 - val_root_mean_squared_error: 0.0692\n",
            "Epoch 8/10\n",
            "1872/1875 [============================>.] - ETA: 0s - loss: 0.0056 - root_mean_squared_error: 0.0747"
          ]
        },
        {
          "output_type": "stream",
          "name": "stderr",
          "text": [
            "WARNING:absl:Found untraced functions such as _update_step_xla, lstm_cell_4_layer_call_fn, lstm_cell_4_layer_call_and_return_conditional_losses, lstm_cell_5_layer_call_fn, lstm_cell_5_layer_call_and_return_conditional_losses while saving (showing 5 of 5). These functions will not be directly callable after loading.\n"
          ]
        },
        {
          "output_type": "stream",
          "name": "stdout",
          "text": [
            "\b\b\b\b\b\b\b\b\b\b\b\b\b\b\b\b\b\b\b\b\b\b\b\b\b\b\b\b\b\b\b\b\b\b\b\b\b\b\b\b\b\b\b\b\b\b\b\b\b\b\b\b\b\b\b\b\b\b\b\b\b\b\b\b\b\b\b\b\b\b\b\b\b\b\b\b\b\b\b\b\b\b\b\b\b\b\b\b\b\b\b\b\b\b\b\b\b\b\b\b\b\r1875/1875 [==============================] - 38s 20ms/step - loss: 0.0056 - root_mean_squared_error: 0.0747 - val_loss: 0.0043 - val_root_mean_squared_error: 0.0655\n",
            "Epoch 9/10\n",
            "1873/1875 [============================>.] - ETA: 0s - loss: 0.0054 - root_mean_squared_error: 0.0733"
          ]
        },
        {
          "output_type": "stream",
          "name": "stderr",
          "text": [
            "WARNING:absl:Found untraced functions such as _update_step_xla, lstm_cell_4_layer_call_fn, lstm_cell_4_layer_call_and_return_conditional_losses, lstm_cell_5_layer_call_fn, lstm_cell_5_layer_call_and_return_conditional_losses while saving (showing 5 of 5). These functions will not be directly callable after loading.\n"
          ]
        },
        {
          "output_type": "stream",
          "name": "stdout",
          "text": [
            "\b\b\b\b\b\b\b\b\b\b\b\b\b\b\b\b\b\b\b\b\b\b\b\b\b\b\b\b\b\b\b\b\b\b\b\b\b\b\b\b\b\b\b\b\b\b\b\b\b\b\b\b\b\b\b\b\b\b\b\b\b\b\b\b\b\b\b\b\b\b\b\b\b\b\b\b\b\b\b\b\b\b\b\b\b\b\b\b\b\b\b\b\b\b\b\b\b\b\b\b\b\r1875/1875 [==============================] - 33s 18ms/step - loss: 0.0054 - root_mean_squared_error: 0.0733 - val_loss: 0.0041 - val_root_mean_squared_error: 0.0641\n",
            "Epoch 10/10\n",
            "1874/1875 [============================>.] - ETA: 0s - loss: 0.0053 - root_mean_squared_error: 0.0726"
          ]
        },
        {
          "output_type": "stream",
          "name": "stderr",
          "text": [
            "WARNING:absl:Found untraced functions such as _update_step_xla, lstm_cell_4_layer_call_fn, lstm_cell_4_layer_call_and_return_conditional_losses, lstm_cell_5_layer_call_fn, lstm_cell_5_layer_call_and_return_conditional_losses while saving (showing 5 of 5). These functions will not be directly callable after loading.\n"
          ]
        },
        {
          "output_type": "stream",
          "name": "stdout",
          "text": [
            "\b\b\b\b\b\b\b\b\b\b\b\b\b\b\b\b\b\b\b\b\b\b\b\b\b\b\b\b\b\b\b\b\b\b\b\b\b\b\b\b\b\b\b\b\b\b\b\b\b\b\b\b\b\b\b\b\b\b\b\b\b\b\b\b\b\b\b\b\b\b\b\b\b\b\b\b\b\b\b\b\b\b\b\b\b\b\b\b\b\b\b\b\b\b\b\b\b\b\b\b\b\r1875/1875 [==============================] - 33s 18ms/step - loss: 0.0053 - root_mean_squared_error: 0.0726 - val_loss: 0.0040 - val_root_mean_squared_error: 0.0631\n"
          ]
        },
        {
          "output_type": "execute_result",
          "data": {
            "text/plain": [
              "<keras.callbacks.History at 0x7caace8064d0>"
            ]
          },
          "metadata": {},
          "execution_count": 62
        }
      ]
    },
    {
      "cell_type": "code",
      "metadata": {
        "colab": {
          "base_uri": "https://localhost:8080/"
        },
        "id": "Fy6pKacl2bOW",
        "outputId": "58a41fd4-0628-499f-d6ba-416b5b6bd42c"
      },
      "source": [
        "model7 = Sequential()\n",
        "model7.add(InputLayer((7, 6)))\n",
        "model7.add(Conv1D(64, kernel_size=2, activation='relu'))\n",
        "model7.add(Flatten())\n",
        "model7.add(Dense(8, 'relu'))\n",
        "model7.add(Dense(2, 'linear'))\n",
        "model7.summary()\n",
        "\n",
        "cp7 = ModelCheckpoint('model7/', save_best_only=True)\n",
        "model7.compile(loss=MeanSquaredError(), optimizer=Adam(learning_rate=0.0001), metrics=[RootMeanSquaredError()])"
      ],
      "execution_count": 72,
      "outputs": [
        {
          "output_type": "stream",
          "name": "stdout",
          "text": [
            "Model: \"sequential_7\"\n",
            "_________________________________________________________________\n",
            " Layer (type)                Output Shape              Param #   \n",
            "=================================================================\n",
            " conv1d_2 (Conv1D)           (None, 6, 64)             832       \n",
            "                                                                 \n",
            " flatten_2 (Flatten)         (None, 384)               0         \n",
            "                                                                 \n",
            " dense_14 (Dense)            (None, 8)                 3080      \n",
            "                                                                 \n",
            " dense_15 (Dense)            (None, 2)                 18        \n",
            "                                                                 \n",
            "=================================================================\n",
            "Total params: 3,930\n",
            "Trainable params: 3,930\n",
            "Non-trainable params: 0\n",
            "_________________________________________________________________\n"
          ]
        }
      ]
    },
    {
      "cell_type": "code",
      "metadata": {
        "colab": {
          "base_uri": "https://localhost:8080/"
        },
        "id": "xMRDXuFY27JA",
        "outputId": "ee782fff-50f9-43e0-9b64-7e2eb046cf4b"
      },
      "source": [
        "model7.fit(X3_train, y3_train, validation_data=(X3_val, y3_val), epochs=10, callbacks=[cp7])"
      ],
      "execution_count": 64,
      "outputs": [
        {
          "output_type": "stream",
          "name": "stdout",
          "text": [
            "Epoch 1/10\n",
            "1861/1875 [============================>.] - ETA: 0s - loss: 0.0977 - root_mean_squared_error: 0.3126"
          ]
        },
        {
          "output_type": "stream",
          "name": "stderr",
          "text": [
            "WARNING:absl:Found untraced functions such as _jit_compiled_convolution_op, _update_step_xla while saving (showing 2 of 2). These functions will not be directly callable after loading.\n"
          ]
        },
        {
          "output_type": "stream",
          "name": "stdout",
          "text": [
            "\b\b\b\b\b\b\b\b\b\b\b\b\b\b\b\b\b\b\b\b\b\b\b\b\b\b\b\b\b\b\b\b\b\b\b\b\b\b\b\b\b\b\b\b\b\b\b\b\b\b\b\b\b\b\b\b\b\b\b\b\b\b\b\b\b\b\b\b\b\b\b\b\b\b\b\b\b\b\b\b\b\b\b\b\b\b\b\b\b\b\b\b\b\b\b\b\b\b\b\b\b\r1875/1875 [==============================] - 8s 4ms/step - loss: 0.0971 - root_mean_squared_error: 0.3116 - val_loss: 0.0167 - val_root_mean_squared_error: 0.1292\n",
            "Epoch 2/10\n",
            "1861/1875 [============================>.] - ETA: 0s - loss: 0.0129 - root_mean_squared_error: 0.1136"
          ]
        },
        {
          "output_type": "stream",
          "name": "stderr",
          "text": [
            "WARNING:absl:Found untraced functions such as _jit_compiled_convolution_op, _update_step_xla while saving (showing 2 of 2). These functions will not be directly callable after loading.\n"
          ]
        },
        {
          "output_type": "stream",
          "name": "stdout",
          "text": [
            "\b\b\b\b\b\b\b\b\b\b\b\b\b\b\b\b\b\b\b\b\b\b\b\b\b\b\b\b\b\b\b\b\b\b\b\b\b\b\b\b\b\b\b\b\b\b\b\b\b\b\b\b\b\b\b\b\b\b\b\b\b\b\b\b\b\b\b\b\b\b\b\b\b\b\b\b\b\b\b\b\b\b\b\b\b\b\b\b\b\b\b\b\b\b\b\b\b\b\b\b\b\r1875/1875 [==============================] - 6s 3ms/step - loss: 0.0129 - root_mean_squared_error: 0.1134 - val_loss: 0.0087 - val_root_mean_squared_error: 0.0935\n",
            "Epoch 3/10\n",
            "1867/1875 [============================>.] - ETA: 0s - loss: 0.0090 - root_mean_squared_error: 0.0948"
          ]
        },
        {
          "output_type": "stream",
          "name": "stderr",
          "text": [
            "WARNING:absl:Found untraced functions such as _jit_compiled_convolution_op, _update_step_xla while saving (showing 2 of 2). These functions will not be directly callable after loading.\n"
          ]
        },
        {
          "output_type": "stream",
          "name": "stdout",
          "text": [
            "\b\b\b\b\b\b\b\b\b\b\b\b\b\b\b\b\b\b\b\b\b\b\b\b\b\b\b\b\b\b\b\b\b\b\b\b\b\b\b\b\b\b\b\b\b\b\b\b\b\b\b\b\b\b\b\b\b\b\b\b\b\b\b\b\b\b\b\b\b\b\b\b\b\b\b\b\b\b\b\b\b\b\b\b\b\b\b\b\b\b\b\b\b\b\b\b\b\b\b\b\b\r1875/1875 [==============================] - 7s 4ms/step - loss: 0.0090 - root_mean_squared_error: 0.0948 - val_loss: 0.0072 - val_root_mean_squared_error: 0.0850\n",
            "Epoch 4/10\n",
            "1860/1875 [============================>.] - ETA: 0s - loss: 0.0077 - root_mean_squared_error: 0.0875"
          ]
        },
        {
          "output_type": "stream",
          "name": "stderr",
          "text": [
            "WARNING:absl:Found untraced functions such as _jit_compiled_convolution_op, _update_step_xla while saving (showing 2 of 2). These functions will not be directly callable after loading.\n"
          ]
        },
        {
          "output_type": "stream",
          "name": "stdout",
          "text": [
            "\b\b\b\b\b\b\b\b\b\b\b\b\b\b\b\b\b\b\b\b\b\b\b\b\b\b\b\b\b\b\b\b\b\b\b\b\b\b\b\b\b\b\b\b\b\b\b\b\b\b\b\b\b\b\b\b\b\b\b\b\b\b\b\b\b\b\b\b\b\b\b\b\b\b\b\b\b\b\b\b\b\b\b\b\b\b\b\b\b\b\b\b\b\b\b\b\b\b\b\b\b\r1875/1875 [==============================] - 6s 3ms/step - loss: 0.0076 - root_mean_squared_error: 0.0874 - val_loss: 0.0062 - val_root_mean_squared_error: 0.0787\n",
            "Epoch 5/10\n",
            "1874/1875 [============================>.] - ETA: 0s - loss: 0.0069 - root_mean_squared_error: 0.0831"
          ]
        },
        {
          "output_type": "stream",
          "name": "stderr",
          "text": [
            "WARNING:absl:Found untraced functions such as _jit_compiled_convolution_op, _update_step_xla while saving (showing 2 of 2). These functions will not be directly callable after loading.\n"
          ]
        },
        {
          "output_type": "stream",
          "name": "stdout",
          "text": [
            "\b\b\b\b\b\b\b\b\b\b\b\b\b\b\b\b\b\b\b\b\b\b\b\b\b\b\b\b\b\b\b\b\b\b\b\b\b\b\b\b\b\b\b\b\b\b\b\b\b\b\b\b\b\b\b\b\b\b\b\b\b\b\b\b\b\b\b\b\b\b\b\b\b\b\b\b\b\b\b\b\b\b\b\b\b\b\b\b\b\b\b\b\b\b\b\b\b\b\b\b\b\r1875/1875 [==============================] - 7s 4ms/step - loss: 0.0069 - root_mean_squared_error: 0.0831 - val_loss: 0.0057 - val_root_mean_squared_error: 0.0753\n",
            "Epoch 6/10\n",
            "1857/1875 [============================>.] - ETA: 0s - loss: 0.0065 - root_mean_squared_error: 0.0805"
          ]
        },
        {
          "output_type": "stream",
          "name": "stderr",
          "text": [
            "WARNING:absl:Found untraced functions such as _jit_compiled_convolution_op, _update_step_xla while saving (showing 2 of 2). These functions will not be directly callable after loading.\n"
          ]
        },
        {
          "output_type": "stream",
          "name": "stdout",
          "text": [
            "\b\b\b\b\b\b\b\b\b\b\b\b\b\b\b\b\b\b\b\b\b\b\b\b\b\b\b\b\b\b\b\b\b\b\b\b\b\b\b\b\b\b\b\b\b\b\b\b\b\b\b\b\b\b\b\b\b\b\b\b\b\b\b\b\b\b\b\b\b\b\b\b\b\b\b\b\b\b\b\b\b\b\b\b\b\b\b\b\b\b\b\b\b\b\b\b\b\b\b\b\b\r1875/1875 [==============================] - 6s 3ms/step - loss: 0.0065 - root_mean_squared_error: 0.0804 - val_loss: 0.0054 - val_root_mean_squared_error: 0.0733\n",
            "Epoch 7/10\n",
            "1872/1875 [============================>.] - ETA: 0s - loss: 0.0062 - root_mean_squared_error: 0.0784"
          ]
        },
        {
          "output_type": "stream",
          "name": "stderr",
          "text": [
            "WARNING:absl:Found untraced functions such as _jit_compiled_convolution_op, _update_step_xla while saving (showing 2 of 2). These functions will not be directly callable after loading.\n"
          ]
        },
        {
          "output_type": "stream",
          "name": "stdout",
          "text": [
            "\b\b\b\b\b\b\b\b\b\b\b\b\b\b\b\b\b\b\b\b\b\b\b\b\b\b\b\b\b\b\b\b\b\b\b\b\b\b\b\b\b\b\b\b\b\b\b\b\b\b\b\b\b\b\b\b\b\b\b\b\b\b\b\b\b\b\b\b\b\b\b\b\b\b\b\b\b\b\b\b\b\b\b\b\b\b\b\b\b\b\b\b\b\b\b\b\b\b\b\b\b\r1875/1875 [==============================] - 6s 3ms/step - loss: 0.0062 - root_mean_squared_error: 0.0784 - val_loss: 0.0050 - val_root_mean_squared_error: 0.0708\n",
            "Epoch 8/10\n",
            "1858/1875 [============================>.] - ETA: 0s - loss: 0.0060 - root_mean_squared_error: 0.0774"
          ]
        },
        {
          "output_type": "stream",
          "name": "stderr",
          "text": [
            "WARNING:absl:Found untraced functions such as _jit_compiled_convolution_op, _update_step_xla while saving (showing 2 of 2). These functions will not be directly callable after loading.\n"
          ]
        },
        {
          "output_type": "stream",
          "name": "stdout",
          "text": [
            "\b\b\b\b\b\b\b\b\b\b\b\b\b\b\b\b\b\b\b\b\b\b\b\b\b\b\b\b\b\b\b\b\b\b\b\b\b\b\b\b\b\b\b\b\b\b\b\b\b\b\b\b\b\b\b\b\b\b\b\b\b\b\b\b\b\b\b\b\b\b\b\b\b\b\b\b\b\b\b\b\b\b\b\b\b\b\b\b\b\b\b\b\b\b\b\b\b\b\b\b\b\r1875/1875 [==============================] - 7s 3ms/step - loss: 0.0060 - root_mean_squared_error: 0.0774 - val_loss: 0.0049 - val_root_mean_squared_error: 0.0698\n",
            "Epoch 9/10\n",
            "1864/1875 [============================>.] - ETA: 0s - loss: 0.0058 - root_mean_squared_error: 0.0762"
          ]
        },
        {
          "output_type": "stream",
          "name": "stderr",
          "text": [
            "WARNING:absl:Found untraced functions such as _jit_compiled_convolution_op, _update_step_xla while saving (showing 2 of 2). These functions will not be directly callable after loading.\n"
          ]
        },
        {
          "output_type": "stream",
          "name": "stdout",
          "text": [
            "\b\b\b\b\b\b\b\b\b\b\b\b\b\b\b\b\b\b\b\b\b\b\b\b\b\b\b\b\b\b\b\b\b\b\b\b\b\b\b\b\b\b\b\b\b\b\b\b\b\b\b\b\b\b\b\b\b\b\b\b\b\b\b\b\b\b\b\b\b\b\b\b\b\b\b\b\b\b\b\b\b\b\b\b\b\b\b\b\b\b\b\b\b\b\b\b\b\b\b\b\b\r1875/1875 [==============================] - 6s 3ms/step - loss: 0.0058 - root_mean_squared_error: 0.0762 - val_loss: 0.0048 - val_root_mean_squared_error: 0.0694\n",
            "Epoch 10/10\n",
            "1875/1875 [==============================] - 6s 3ms/step - loss: 0.0057 - root_mean_squared_error: 0.0756 - val_loss: 0.0050 - val_root_mean_squared_error: 0.0704\n"
          ]
        },
        {
          "output_type": "execute_result",
          "data": {
            "text/plain": [
              "<keras.callbacks.History at 0x7caad5780730>"
            ]
          },
          "metadata": {},
          "execution_count": 64
        }
      ]
    }
  ]
}