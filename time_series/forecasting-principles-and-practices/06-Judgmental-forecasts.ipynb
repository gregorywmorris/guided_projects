{
 "cells": [
  {
   "cell_type": "markdown",
   "metadata": {},
   "source": [
    "[Previous: The forecaster's toolbox](05-The-forecasters-toolbox.ipynb)\n",
    "• [Contents](Contents.ipynb)\n",
    "• [Next: Time series regression models](07-Time-series-regression-models.ipynb)"
   ]
  },
  {
   "cell_type": "markdown",
   "metadata": {},
   "source": [
    "# 6 Judgmental forecasts\n",
    "\n",
    "[FPP3 Chapter 6](https://otexts.com/fpp3/judgmental.html)\n",
    "\n",
    "* [6.1 Beware of limitations](#6.1-Beware-of-limitations)\n",
    "* [6.2 Key principles](#6.2-Key-principles)\n",
    "* [6.3 The Delphi method](#6.3-The-Delphi-method)\n",
    "* [6.4 Forecasting by analogy](#6.4-Forecasting-by-analogy)\n",
    "* [6.5 Scenario forecasting](#6.5-Scenario-forecasting)\n",
    "* [6.6 New product forecasting](#6.6-New-product-forecasting)\n",
    "* [6.7 Judgmental adjustments](#6.7-Judgmental-adjustments)\n",
    "\n",
    "This is just an outline with links; the source text doesn't really do any coding in this chapter.\n",
    "\n",
    "**N.B.** you should still read this chapter!"
   ]
  },
  {
   "cell_type": "markdown",
   "metadata": {},
   "source": [
    "## 6.1 Beware of limitations\n",
    "\n",
    "[FPP3 Section 6.1](https://otexts.com/fpp3/judgmental-limitations.html)"
   ]
  },
  {
   "cell_type": "markdown",
   "metadata": {},
   "source": [
    "## 6.2 Key principles\n",
    "\n",
    "[FPP3 Section 6.2](https://otexts.com/fpp3/judgmental-principles.html)"
   ]
  },
  {
   "cell_type": "markdown",
   "metadata": {},
   "source": [
    "### Set the forecasting task clearly and concisely"
   ]
  },
  {
   "cell_type": "markdown",
   "metadata": {},
   "source": [
    "### Implement a systematic approach"
   ]
  },
  {
   "cell_type": "markdown",
   "metadata": {},
   "source": [
    "### Document and justify"
   ]
  },
  {
   "cell_type": "markdown",
   "metadata": {},
   "source": [
    "### Systematically evaluate forecasts"
   ]
  },
  {
   "cell_type": "markdown",
   "metadata": {},
   "source": [
    "### Segregate forecasters and users"
   ]
  },
  {
   "cell_type": "markdown",
   "metadata": {},
   "source": [
    "### Example: Pharmaceutical Benefits Scheme (PBS)"
   ]
  },
  {
   "cell_type": "markdown",
   "metadata": {},
   "source": [
    "## 6.3 The Delphi method\n",
    "\n",
    "[FPP3 Section 6.3](https://otexts.com/fpp3/delphimethod.html)"
   ]
  },
  {
   "cell_type": "markdown",
   "metadata": {},
   "source": [
    "### Experts and anonymity"
   ]
  },
  {
   "cell_type": "markdown",
   "metadata": {},
   "source": [
    "### Setting the forecasting task in a Delphi"
   ]
  },
  {
   "cell_type": "markdown",
   "metadata": {},
   "source": [
    "### Feedback"
   ]
  },
  {
   "cell_type": "markdown",
   "metadata": {},
   "source": [
    "### Iteration"
   ]
  },
  {
   "cell_type": "markdown",
   "metadata": {},
   "source": [
    "### Final forecasts"
   ]
  },
  {
   "cell_type": "markdown",
   "metadata": {},
   "source": [
    "### Limitations and variations"
   ]
  },
  {
   "cell_type": "markdown",
   "metadata": {},
   "source": [
    "### The facilitator"
   ]
  },
  {
   "cell_type": "markdown",
   "metadata": {},
   "source": [
    "## 6.4 Forecasting by analogy\n",
    "\n",
    "[FPP3 Section 6.4](https://otexts.com/fpp3/analogies.html)"
   ]
  },
  {
   "cell_type": "markdown",
   "metadata": {},
   "source": [
    "### Example: Designing a high school curriculum"
   ]
  },
  {
   "cell_type": "markdown",
   "metadata": {},
   "source": [
    "### A structured analogy"
   ]
  },
  {
   "cell_type": "markdown",
   "metadata": {},
   "source": [
    "## 6.5 Scenario forecasting\n",
    "\n",
    "[FPP3 Section 6.5](https://otexts.com/fpp3/scenarios.html)"
   ]
  },
  {
   "cell_type": "markdown",
   "metadata": {},
   "source": [
    "## 6.6 New product forecasting\n",
    "\n",
    "[FPP3 Section 6.6](https://otexts.com/fpp3/new-products.html)"
   ]
  },
  {
   "cell_type": "markdown",
   "metadata": {},
   "source": [
    "### Sales force composite"
   ]
  },
  {
   "cell_type": "markdown",
   "metadata": {},
   "source": [
    "### Executive opinion"
   ]
  },
  {
   "cell_type": "markdown",
   "metadata": {},
   "source": [
    "### Customer intentions"
   ]
  },
  {
   "cell_type": "markdown",
   "metadata": {},
   "source": [
    "## 6.7 Judgmental adjustments\n",
    "\n",
    "[FPP3 Section 6.7](https://otexts.com/fpp3/judgmental-adjustments.html)"
   ]
  },
  {
   "cell_type": "markdown",
   "metadata": {},
   "source": [
    "### Use adjustments sparingly"
   ]
  },
  {
   "cell_type": "markdown",
   "metadata": {},
   "source": [
    "### Apply a structured approach"
   ]
  },
  {
   "cell_type": "markdown",
   "metadata": {},
   "source": [
    "### Example: Tourism Forecasting Committee (TFC)"
   ]
  },
  {
   "cell_type": "markdown",
   "metadata": {},
   "source": [
    "<hr/>"
   ]
  },
  {
   "cell_type": "markdown",
   "metadata": {},
   "source": [
    "[Previous: The forecaster's toolbox](05-The-forecasters-toolbox.ipynb)\n",
    "• [Contents](Contents.ipynb)\n",
    "• [Next: Time series regression models](07-Time-series-regression-models.ipynb)"
   ]
  }
 ],
 "metadata": {
  "kernelspec": {
   "display_name": "Python 3",
   "language": "python",
   "name": "python3"
  },
  "language_info": {
   "codemirror_mode": {
    "name": "ipython",
    "version": 3
   },
   "file_extension": ".py",
   "mimetype": "text/x-python",
   "name": "python",
   "nbconvert_exporter": "python",
   "pygments_lexer": "ipython3",
   "version": "3.6.10"
  }
 },
 "nbformat": 4,
 "nbformat_minor": 4
}
