{
 "cells": [
  {
   "cell_type": "markdown",
   "metadata": {},
   "source": [
    "# Python Read-Along: *Forecasting: Principles and Practice*"
   ]
  },
  {
   "cell_type": "markdown",
   "metadata": {},
   "source": [
    "Materials based on: Hyndman, R.J., & Athanasopoulos, G. (2019) Forecasting: principles and practice, 3rd edition, OTexts: Melbourne, Australia. [OTexts.com/fpp3](https://otexts.com/fpp3/). Accessed on 2020-07-20."
   ]
  },
  {
   "cell_type": "markdown",
   "metadata": {},
   "source": [
    "Read-along by Mike Richman."
   ]
  },
  {
   "cell_type": "markdown",
   "metadata": {},
   "source": [
    "### Contents"
   ]
  },
  {
   "cell_type": "markdown",
   "metadata": {},
   "source": [
    "* [Preface to this read-along](00-Preface-to-this-readalong.ipynb)\n",
    "* [Chapter 2: Time series graphics](02-Time-series-graphics.ipynb)\n",
    "* [Chapter 3: Time series decomposition](03-Time-series-decomposition.ipynb)\n",
    "* [Chapter 4: Time series features](04-Time-series-features.ipynb)\n",
    "* [Chapter 5: The forecaster's toolbox](05-The-forecasters-toolbox.ipynb)\n",
    "* [Chapter 6: Judgmental forecasts](06-Judgmental-forecasts.ipynb)\n",
    "* [Chapter 7: Time series regression models](07-Time-series-regression-models.ipynb)\n",
    "* [Chapter 8: Exponential smoothing](08-Exponential-smoothing.ipynb)\n",
    "* [Chapter 9: ARIMA models](09-ARIMA-models.ipynb)\n",
    "* [Chapter 10: Dynamic regression models](10-Dynamic-regression-models.ipynb)"
   ]
  }
 ],
 "metadata": {
  "kernelspec": {
   "display_name": "Python 3",
   "language": "python",
   "name": "python3"
  },
  "language_info": {
   "codemirror_mode": {
    "name": "ipython",
    "version": 3
   },
   "file_extension": ".py",
   "mimetype": "text/x-python",
   "name": "python",
   "nbconvert_exporter": "python",
   "pygments_lexer": "ipython3",
   "version": "3.6.10"
  }
 },
 "nbformat": 4,
 "nbformat_minor": 4
}
